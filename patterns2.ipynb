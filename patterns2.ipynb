{
  "nbformat": 4,
  "nbformat_minor": 0,
  "metadata": {
    "colab": {
      "provenance": [],
      "authorship_tag": "ABX9TyMhY7MX3ZNUGpEw4FD6161D",
      "include_colab_link": true
    },
    "kernelspec": {
      "name": "python3",
      "display_name": "Python 3"
    },
    "language_info": {
      "name": "python"
    }
  },
  "cells": [
    {
      "cell_type": "markdown",
      "metadata": {
        "id": "view-in-github",
        "colab_type": "text"
      },
      "source": [
        "<a href=\"https://colab.research.google.com/github/ash260498/Python-Basics/blob/main/patterns2.ipynb\" target=\"_parent\"><img src=\"https://colab.research.google.com/assets/colab-badge.svg\" alt=\"Open In Colab\"/></a>"
      ]
    },
    {
      "cell_type": "code",
      "execution_count": null,
      "metadata": {
        "colab": {
          "base_uri": "https://localhost:8080/"
        },
        "id": "GRg0L2q20xvv",
        "outputId": "37870250-a788-48e0-f272-4901d95c4c39"
      },
      "outputs": [
        {
          "output_type": "stream",
          "name": "stdout",
          "text": [
            "4\n",
            "****\n",
            "***\n",
            "**\n",
            "*\n"
          ]
        }
      ],
      "source": [
        "#print ****\n",
        "#      ***\n",
        "#      **\n",
        "#      *\n",
        "n=int(input())\n",
        "i=1\n",
        "while i<=n:\n",
        "  j=1\n",
        "  while j<=n-i+1:\n",
        "    print('*',end='')\n",
        "    j=j+1\n",
        "  print()\n",
        "  i=i+1"
      ]
    },
    {
      "cell_type": "markdown",
      "source": [
        "print the following pattern\n",
        "\n",
        "1234\n",
        "\n",
        "123\n",
        "\n",
        "12\n",
        "\n",
        "1"
      ],
      "metadata": {
        "id": "aifV7S_p1UTt"
      }
    },
    {
      "cell_type": "code",
      "source": [
        "n=int(input())\n",
        "i=1\n",
        "while i<=n:\n",
        "  j=1\n",
        "  while j<=n-i+1:\n",
        "    print(j,end='')\n",
        "    j=j+1\n",
        "  print()\n",
        "  i=i+1"
      ],
      "metadata": {
        "colab": {
          "base_uri": "https://localhost:8080/"
        },
        "id": "ijbJ8kj85Kos",
        "outputId": "65798e71-ee5a-4709-d225-34245017570f"
      },
      "execution_count": null,
      "outputs": [
        {
          "output_type": "stream",
          "name": "stdout",
          "text": [
            "4\n",
            "1234\n",
            "123\n",
            "12\n",
            "1\n"
          ]
        }
      ]
    },
    {
      "cell_type": "markdown",
      "source": [
        "Print the following pattern for the given N number of rows.\n",
        "Pattern for N = 4\n",
        "\n",
        "4444\n",
        "\n",
        "333\n",
        "\n",
        "22\n",
        "\n",
        "1"
      ],
      "metadata": {
        "id": "KZBH1ufJ6U0g"
      }
    },
    {
      "cell_type": "code",
      "source": [
        "n=int(input())\n",
        "i=n\n",
        "while i>=1:\n",
        "  j=1\n",
        "  while j<=i:\n",
        "    print(i,end='')\n",
        "    j=j+1\n",
        "  print()\n",
        "  i=i-1"
      ],
      "metadata": {
        "colab": {
          "base_uri": "https://localhost:8080/"
        },
        "id": "yxf-g-8A6ZNg",
        "outputId": "3875f0ed-0d73-430e-b34b-942117ad85c7"
      },
      "execution_count": null,
      "outputs": [
        {
          "output_type": "stream",
          "name": "stdout",
          "text": [
            "4\n",
            "4444\n",
            "333\n",
            "22\n",
            "1\n"
          ]
        }
      ]
    },
    {
      "cell_type": "markdown",
      "source": [
        "print the reverse pattern\n",
        "\n",
        "    *\n",
        "   **\n",
        "  ***\n",
        " ****"
      ],
      "metadata": {
        "id": "xpoeWyZjCayQ"
      }
    },
    {
      "cell_type": "code",
      "source": [
        "n=int(input())\n",
        "i=1\n",
        "while i<=n:\n",
        "  spaces=1\n",
        "  while spaces<=n-i:\n",
        "    print(' ',end='')\n",
        "    spaces= spaces+1\n",
        "  stars=1\n",
        "  while stars<=i:\n",
        "    print('*',end='')\n",
        "    stars=stars+1\n",
        "  print()\n",
        "  i=i+1"
      ],
      "metadata": {
        "colab": {
          "base_uri": "https://localhost:8080/"
        },
        "id": "9lZXa1iADUIL",
        "outputId": "fd583c55-e080-4bd2-b8de-657db2cece46"
      },
      "execution_count": null,
      "outputs": [
        {
          "output_type": "stream",
          "name": "stdout",
          "text": [
            "4\n",
            "   *\n",
            "  **\n",
            " ***\n",
            "****\n"
          ]
        }
      ]
    },
    {
      "cell_type": "markdown",
      "source": [
        "Print the following pattern for the given N number of rows.\n",
        "Pattern for N = 4\n",
        "\n",
        "    1\n",
        "\n",
        "   12\n",
        "\n",
        "  123\n",
        "\n",
        " 1234\n",
        "\n",
        "\n",
        "\n",
        "The dots represent spaces."
      ],
      "metadata": {
        "id": "zUaiH3ZtIvGp"
      }
    },
    {
      "cell_type": "code",
      "source": [
        "n=int(input())\n",
        "i=1\n",
        "while i<=n:\n",
        "  spaces=1\n",
        "  while spaces<=n-i:\n",
        "    print(' ',end='')\n",
        "    spaces= spaces+1\n",
        "  j=1\n",
        "  while j<=i:\n",
        "    print(j,end='')\n",
        "    j=j+1\n",
        "  print()\n",
        "  i=i+1"
      ],
      "metadata": {
        "colab": {
          "base_uri": "https://localhost:8080/"
        },
        "id": "U12yKUDpDHdS",
        "outputId": "9daaac79-af7e-48f1-fe72-ad3c142c421d"
      },
      "execution_count": null,
      "outputs": [
        {
          "output_type": "stream",
          "name": "stdout",
          "text": [
            "4\n",
            "   1\n",
            "  12\n",
            " 123\n",
            "1234\n"
          ]
        }
      ]
    },
    {
      "cell_type": "markdown",
      "source": [
        "Print the following pattern\n",
        "\n",
        "      1\n",
        "     121\n",
        "    12321\n",
        "   1234321\n",
        "   "
      ],
      "metadata": {
        "id": "Y7hD2ssDxPVC"
      }
    },
    {
      "cell_type": "code",
      "source": [
        "n=int(input())\n",
        "i=1\n",
        "while i<=n:\n",
        "  spaces=1\n",
        "  while spaces<=n-i:\n",
        "    print(' ',end='')\n",
        "    spaces=spaces+1\n",
        " #increasing sequence\n",
        "  p=1\n",
        "  j=1\n",
        "  while j<=i:\n",
        "    print(p,end='')\n",
        "    j=j+1\n",
        "    p=p+1\n",
        "  #decreasing sequence\n",
        "  p=i-1\n",
        "  while p>=1:\n",
        "    print(p,end='')\n",
        "    p=p-1\n",
        "  print()\n",
        "  i=i+1\n"
      ],
      "metadata": {
        "colab": {
          "base_uri": "https://localhost:8080/"
        },
        "id": "xf-_eYtgxf6d",
        "outputId": "0b4b7408-4615-4367-e7de-55ca7a358677"
      },
      "execution_count": null,
      "outputs": [
        {
          "output_type": "stream",
          "name": "stdout",
          "text": [
            "4\n",
            "   1\n",
            "  121\n",
            " 12321\n",
            "1234321\n"
          ]
        }
      ]
    },
    {
      "cell_type": "markdown",
      "source": [
        "Print the following pattern\n",
        "Pattern for N = 4\n",
        "     \n",
        "      *\n",
        "     \n",
        "     ***\n",
        "    \n",
        "    *****\n",
        "   \n",
        "   *******"
      ],
      "metadata": {
        "id": "AwuKTnIOy8kh"
      }
    },
    {
      "cell_type": "code",
      "source": [
        "n=int(input())\n",
        "i=1\n",
        "while i<=n:\n",
        "  spaces=1\n",
        "  while spaces<=n-i:\n",
        "    print(' ',end='')\n",
        "    spaces=spaces+1\n",
        "  j=1\n",
        "  while j<=i:\n",
        "    print('*',end='')\n",
        "    j=j+1\n",
        "  j=i-1\n",
        "  while j>=1:\n",
        "    print('*',end='')\n",
        "    j=j-1\n",
        "  print()\n",
        "  i=i+1"
      ],
      "metadata": {
        "colab": {
          "base_uri": "https://localhost:8080/"
        },
        "id": "mTSfxy7vzI4v",
        "outputId": "cde7ac5b-fa76-42d1-f5c3-c55ae61aa642"
      },
      "execution_count": null,
      "outputs": [
        {
          "output_type": "stream",
          "name": "stdout",
          "text": [
            "4\n",
            "   *\n",
            "  ***\n",
            " *****\n",
            "*******\n"
          ]
        }
      ]
    },
    {
      "cell_type": "markdown",
      "source": [
        "Print the following pattern for the given number of rows.\n",
        "Pattern for N = 4\n",
        "     \n",
        "       1\n",
        "      \n",
        "      232\n",
        "\n",
        "     34543\n",
        "\n",
        "    4567654\n",
        "\n",
        "\n",
        "The dots represent spaces."
      ],
      "metadata": {
        "id": "mT4nhG2k0INA"
      }
    },
    {
      "cell_type": "code",
      "source": [
        "n=int(input())\n",
        "i=1\n",
        "while i<=n:\n",
        "  spaces=1\n",
        "  while spaces<=n-i:\n",
        "    print(' ',end='')\n",
        "    spaces=spaces+1\n",
        "  p=i\n",
        "  j=1\n",
        "  while j<=i:\n",
        "    print(p,end='')\n",
        "    p=p+1\n",
        "    j=j+1\n",
        "  p= 2*i-2\n",
        "  while p>i-1:\n",
        "    print(p,end='')\n",
        "    p=p-1\n",
        "  print()\n",
        "  i=i+1"
      ],
      "metadata": {
        "colab": {
          "base_uri": "https://localhost:8080/"
        },
        "id": "ubkpk0rK0WL4",
        "outputId": "58a43d22-f90b-4ea9-b9a2-fb2054dfb40e"
      },
      "execution_count": null,
      "outputs": [
        {
          "output_type": "stream",
          "name": "stdout",
          "text": [
            "4\n",
            "   1\n",
            "  232\n",
            " 34543\n",
            "4567654\n"
          ]
        }
      ]
    },
    {
      "cell_type": "markdown",
      "source": [
        "Print the following pattern for the given number of rows.\n",
        "Note: N is always odd.\n",
        "\n",
        "\n",
        "Pattern for N = 5\n",
        "   *\n",
        "  ***\n",
        " *****\n",
        "*******\n",
        " *****\n",
        "  ***\n",
        "   *"
      ],
      "metadata": {
        "id": "SPR3SNH58Y4w"
      }
    },
    {
      "cell_type": "code",
      "source": [
        "n=int(input())\n",
        "if(n%2==0):\n",
        "  exit(0)\n",
        "else:\n",
        "  n1=(n+1)/2\n",
        "  n2= n1-1\n",
        "  i=1\n",
        "  #upper traingle\n",
        "  while i<=n1:\n",
        "      spaces=1\n",
        "      while spaces<=n1-i:\n",
        "        print(' ',end='')\n",
        "        spaces=spaces+1\n",
        "      stars=1\n",
        "      while stars<=2*i-1:\n",
        "        print('*',end='')\n",
        "        stars=stars+1\n",
        "      print()\n",
        "      i=i+1\n",
        "  #lower traingle\n",
        "  i=1\n",
        "  while i<=n2:\n",
        "      spaces=1\n",
        "      while spaces<=i:\n",
        "        print(' ',end='')\n",
        "        spaces=spaces+1\n",
        "      stars=1\n",
        "      while stars<=2*n2-2*i+1:\n",
        "        print('*',end='')\n",
        "        stars=stars+1\n",
        "      print()\n",
        "      i=i+1\n"
      ],
      "metadata": {
        "colab": {
          "base_uri": "https://localhost:8080/"
        },
        "id": "iFmYJslA11FA",
        "outputId": "689a9b7c-719a-4db1-ac1f-127f99d1b149"
      },
      "execution_count": null,
      "outputs": [
        {
          "output_type": "stream",
          "name": "stdout",
          "text": [
            "7\n",
            "   *\n",
            "  ***\n",
            " *****\n",
            "*******\n",
            " *****\n",
            "  ***\n",
            "   *\n"
          ]
        }
      ]
    },
    {
      "cell_type": "markdown",
      "source": [
        "Print the following pattern for n number of rows.\n",
        "Note: each line consist of equal number of characters + spaces. Suppose you are printing xth line for N=n. You need to print 1..x followed by (n-x) spaces, again (n-x) spaces followed by x..1\n",
        "For eg. N = 5\n",
        "\n",
        "1         1\n",
        "\n",
        "\n",
        "12       21\n",
        "\n",
        "\n",
        "123     321  \n",
        "\n",
        "\n",
        "1234   4321"
      ],
      "metadata": {
        "id": "yELGEVoCE1q6"
      }
    },
    {
      "cell_type": "code",
      "source": [
        "\n",
        "n = int(input())\n",
        "i=1\n",
        "\n",
        "while i <= n:\n",
        "    j=1\n",
        "    while j <= i:\n",
        "        print(j,end='')\n",
        "        j = j + 1\n",
        "\n",
        "    sp = 1\n",
        "    while sp <= 2*(n - i):\n",
        "        print(' ',end ='')\n",
        "        sp = sp + 1\n",
        "\n",
        "    p = i\n",
        "    j = 1\n",
        "    while j <= i:\n",
        "        print(p,end = '')\n",
        "        p = p - 1\n",
        "        j = j + 1\n",
        "\n",
        "    print()\n",
        "    i=i+1\n"
      ],
      "metadata": {
        "id": "QJ6znE9pHmUO",
        "colab": {
          "base_uri": "https://localhost:8080/"
        },
        "outputId": "6769db96-5a9f-4636-b8c5-13bb5948dbb9"
      },
      "execution_count": 3,
      "outputs": [
        {
          "output_type": "stream",
          "name": "stdout",
          "text": [
            "4\n",
            "1      1\n",
            "12    21\n",
            "123  321\n",
            "12344321\n"
          ]
        }
      ]
    },
    {
      "cell_type": "markdown",
      "source": [
        "Print the following pattern\n",
        "Pattern for N = 4\n",
        "*000*000*\n",
        "0*00*00*0\n",
        "00*0*0*00\n",
        "000***000"
      ],
      "metadata": {
        "id": "KZ2XXDviFumG"
      }
    },
    {
      "cell_type": "code",
      "source": [
        "n = int(input())\n",
        "rows = 2*n + 1\n",
        "i = 1\n",
        "\n",
        "while i <= n:\n",
        "    j = 1\n",
        "    while j <= rows:\n",
        "        if(j == i or j == (rows // 2 + 1) or j == rows - i +1):\n",
        "            print('*',end = '')\n",
        "\n",
        "        else:\n",
        "            print('0',end = '')\n",
        "\n",
        "        j = j + 1\n",
        "\n",
        "    print()\n",
        "    i = i + 1"
      ],
      "metadata": {
        "colab": {
          "base_uri": "https://localhost:8080/"
        },
        "id": "wAj9abnQpcpo",
        "outputId": "2823483d-f1a3-4f67-afb6-33bd05f6450f"
      },
      "execution_count": 1,
      "outputs": [
        {
          "output_type": "stream",
          "name": "stdout",
          "text": [
            "3\n",
            "*00*00*\n",
            "0*0*0*0\n",
            "00***00\n"
          ]
        }
      ]
    },
    {
      "cell_type": "markdown",
      "source": [
        "Print the following pattern for the given number of rows.\n",
        "Pattern for N = 4\n",
        "   1\n",
        "  212\n",
        " 32123\n",
        "4321234\n",
        "Input format : N (Total no. of rows)\n",
        "\n",
        "Output format : Pattern in N lines"
      ],
      "metadata": {
        "id": "CtNxb1GzMiT1"
      }
    },
    {
      "cell_type": "code",
      "source": [
        "n = int(input())\n",
        "rows = 2*n + 1\n",
        "i = 1\n",
        "\n",
        "while i <= n:\n",
        "    j = 1\n",
        "    while j <= rows:\n",
        "        if(j == i or j == (rows // 2 + 1) or j == rows - i +1):\n",
        "            print('*',end = '')\n",
        "\n",
        "        else:\n",
        "            print('0',end = '')\n",
        "\n",
        "        j = j + 1\n",
        "\n",
        "    print()\n",
        "    i = i + 1"
      ],
      "metadata": {
        "id": "vcEmSUQvMhAu"
      },
      "execution_count": null,
      "outputs": []
    },
    {
      "cell_type": "markdown",
      "source": [
        "Print the following pattern for the given number of rows.\n",
        "Assume N is always odd.\n",
        "Note : There is space after every star.\n",
        "Pattern for N = 7\n",
        "*\n",
        " * *\n",
        "   * * *\n",
        "     * * * *\n",
        "   * * *\n",
        " * *\n",
        "*\n",
        "Input format :\n",
        "Integer N (Total no. of rows)\n",
        "Output format :\n",
        "Pattern in N lines\n",
        "Sample Input :\n",
        "11\n",
        "Sample Output :\n",
        "*\n",
        " * *\n",
        "   * * *\n",
        "     * * * *\n",
        "       * * * * *\n",
        "         * * * * * *\n",
        "       * * * * *\n",
        "     * * * *\n",
        "   * * *\n",
        " * *\n",
        "*"
      ],
      "metadata": {
        "id": "hGGykia5MpwG"
      }
    },
    {
      "cell_type": "code",
      "source": [
        "n = int(input())\n",
        "m = n // 2 + 1\n",
        "i = 1\n",
        "\n",
        "while i <= m:\n",
        "    sp = 1\n",
        "    while sp < i:\n",
        "        print(\" \", end = \"\")\n",
        "        sp+=1\n",
        "\n",
        "    j = i\n",
        "    c = 1\n",
        "    while j >= i and c <= i:\n",
        "        print(\"* \",end = \"\")\n",
        "        j+=2\n",
        "        c+=1\n",
        "\n",
        "    print()\n",
        "    i+=1\n",
        "\n",
        "i = m - 1\n",
        "while i >= 1:\n",
        "    sp = 1\n",
        "    while sp < i:\n",
        "            print(\" \", end = \"\")\n",
        "            sp+=1\n",
        "\n",
        "    j = i\n",
        "    c = 1\n",
        "    while j >= 1 and c <= i:\n",
        "        print(\"* \",end = \"\")\n",
        "        j+=2\n",
        "        c+=1\n",
        "\n",
        "    print()\n",
        "    i-=1"
      ],
      "metadata": {
        "id": "vc5OqCOBMsLd"
      },
      "execution_count": null,
      "outputs": []
    }
  ]
}