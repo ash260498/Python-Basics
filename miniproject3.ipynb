{
  "nbformat": 4,
  "nbformat_minor": 0,
  "metadata": {
    "colab": {
      "provenance": [],
      "authorship_tag": "ABX9TyNNiU1sNKQBI2ZtHl6v+CfW",
      "include_colab_link": true
    },
    "kernelspec": {
      "name": "python3",
      "display_name": "Python 3"
    },
    "language_info": {
      "name": "python"
    }
  },
  "cells": [
    {
      "cell_type": "markdown",
      "metadata": {
        "id": "view-in-github",
        "colab_type": "text"
      },
      "source": [
        "<a href=\"https://colab.research.google.com/github/ash260498/Python-Basics/blob/main/miniproject3.ipynb\" target=\"_parent\"><img src=\"https://colab.research.google.com/assets/colab-badge.svg\" alt=\"Open In Colab\"/></a>"
      ]
    },
    {
      "cell_type": "markdown",
      "source": [
        "you have to find the treasure by following the instructions and navigate. Based on your instructions it will lead you either to destination if you chose wrong answer you will be out of the game"
      ],
      "metadata": {
        "id": "-xj_y5lu13wA"
      }
    },
    {
      "cell_type": "code",
      "source": [
        "print(\"Welcome To treasure island\")\n",
        "print(\"Your mission is to find treasure\")\n",
        "choice1=input('You are at the crossroad where do you wanna go? type \"left\" or \"right\"').lower()\n",
        "if choice1==\"left\":\n",
        "  #continue to game\n",
        "  choice2=input('You have come to the lake. There is an island in the middle type \"swim\" or \"wait\"').lower()\n",
        "  if choice2==\"wait\":\n",
        "                #game continue\n",
        "                choice3=input('You have arrived at the island.Choose one of the doors \"red\",\"yellow\",\"blue').lower()\n",
        "                if choice3==\"red\" or choice3==\"blue\":\n",
        "                  print(\"Its a room full of fire,Game Over\")\n",
        "                else:\n",
        "                  print(\"Congratulations, You won\")\n",
        "\n",
        "\n",
        "  else:\n",
        "                print(\"Game over\")\n",
        "else:\n",
        "  print(\" You fell  into a hole Game Over\")\n",
        "\n"
      ],
      "metadata": {
        "colab": {
          "base_uri": "https://localhost:8080/"
        },
        "id": "dj9ylBWj16MU",
        "outputId": "3cf15b2b-42a2-45c2-97f9-c6ff4c5ba41b"
      },
      "execution_count": 6,
      "outputs": [
        {
          "output_type": "stream",
          "name": "stdout",
          "text": [
            "Welcome To treasure island\n",
            "Your mission is to find treasure\n",
            "You are at the crossroad where do you wanna go? type \"left\" or \"right\"left\n",
            "You have come to the lake. There is an island in the middle type \"swim\" or \"wait\"wait\n",
            "You have arrived at the island.Choose one of the doors \"red\",\"yellow\",\"blueyellow\n",
            "Congratulations, You won\n"
          ]
        }
      ]
    }
  ]
}