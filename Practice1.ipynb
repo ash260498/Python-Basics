{
  "nbformat": 4,
  "nbformat_minor": 0,
  "metadata": {
    "colab": {
      "provenance": [],
      "authorship_tag": "ABX9TyNLswS2wlw6K4ZJgupeCKTn",
      "include_colab_link": true
    },
    "kernelspec": {
      "name": "python3",
      "display_name": "Python 3"
    },
    "language_info": {
      "name": "python"
    }
  },
  "cells": [
    {
      "cell_type": "markdown",
      "metadata": {
        "id": "view-in-github",
        "colab_type": "text"
      },
      "source": [
        "<a href=\"https://colab.research.google.com/github/ash260498/Python-Basics/blob/main/Practice1.ipynb\" target=\"_parent\"><img src=\"https://colab.research.google.com/assets/colab-badge.svg\" alt=\"Open In Colab\"/></a>"
      ]
    },
    {
      "cell_type": "markdown",
      "source": [
        "Find Factorial\n",
        "Easy\n",
        "Write a Python program to calculate the factorial using iterative approach."
      ],
      "metadata": {
        "id": "xoQKhdcG7qH1"
      }
    },
    {
      "cell_type": "code",
      "source": [
        "num=int(input())\n",
        "factorial=1\n",
        "if(num<0):\n",
        "    print(\"Factorial can't be calculated for negative number\")\n",
        "else:\n",
        "    for i in range(1,num+1):\n",
        "        factorial=factorial*i\n",
        "    print(f\"Factorial of {num} is {factorial}\")"
      ],
      "metadata": {
        "colab": {
          "base_uri": "https://localhost:8080/"
        },
        "id": "8WKYUJ1x7uey",
        "outputId": "68e57a29-8919-424c-8c7c-d4ed46557ffa"
      },
      "execution_count": 2,
      "outputs": [
        {
          "output_type": "stream",
          "name": "stdout",
          "text": [
            "5\n",
            "Factorial of 5 is 120\n"
          ]
        }
      ]
    },
    {
      "cell_type": "markdown",
      "source": [
        "Armstrong Number\n",
        "Easy\n",
        "Write a Python program to find the Armstrong number.\n",
        "\n",
        "What is Armstrong Number?\n",
        "\n",
        "It is a number which is equal to the sum of cube of its digits. For eg: 153, 370 etc.\n",
        "\n",
        "Let's take 153 for an example\n",
        "\n",
        "First calculate the cube of its each digits\n",
        "\n",
        "1^3 = (1 * 1 * 1) = 1\n",
        "\n",
        "5^3 = (5 * 5 * 5) = 125\n",
        "\n",
        "3^3= (3 * 3 * 3) = 27\n",
        "\n",
        "Now add the cube\n",
        "\n",
        "1+125+27 = 153\n",
        "\n",
        "It means 153 is an Armstrong Number.\n",
        "\n",
        "Example 1:\n",
        "Input:\n",
        "153\n",
        "\n",
        "Output:\n",
        "Number is Armstrong"
      ],
      "metadata": {
        "id": "61BAkdHYBv5R"
      }
    },
    {
      "cell_type": "code",
      "source": [
        "n=int(input())\n",
        "sum=0\n",
        "order=len(str(n))\n",
        "copy_n=n\n",
        "while(n>0):\n",
        "    digit=n%10\n",
        "    sum+=digit**order\n",
        "    n=n//10\n",
        "if(sum==copy_n):\n",
        "    print(\"Number is Armstrong\")\n",
        "else:\n",
        "    print(\"Number is not Armstrong\")"
      ],
      "metadata": {
        "id": "d-Tz5YCPB9FB"
      },
      "execution_count": null,
      "outputs": []
    }
  ]
}