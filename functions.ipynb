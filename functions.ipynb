{
  "nbformat": 4,
  "nbformat_minor": 0,
  "metadata": {
    "colab": {
      "provenance": [],
      "authorship_tag": "ABX9TyM+VUppgcG0Lr2GG51k+zNS",
      "include_colab_link": true
    },
    "kernelspec": {
      "name": "python3",
      "display_name": "Python 3"
    },
    "language_info": {
      "name": "python"
    }
  },
  "cells": [
    {
      "cell_type": "markdown",
      "metadata": {
        "id": "view-in-github",
        "colab_type": "text"
      },
      "source": [
        "<a href=\"https://colab.research.google.com/github/ash260498/Python-Basics/blob/main/functions.ipynb\" target=\"_parent\"><img src=\"https://colab.research.google.com/assets/colab-badge.svg\" alt=\"Open In Colab\"/></a>"
      ]
    },
    {
      "cell_type": "markdown",
      "source": [
        "To print facorial of a given number"
      ],
      "metadata": {
        "id": "xnQmnz--tyac"
      }
    },
    {
      "cell_type": "code",
      "source": [
        "def fact(n):\n",
        "  n_fact=1\n",
        "  for i in range(1,n+1):\n",
        "    n_fact=n_fact*i\n",
        "  return n_fact\n",
        "\n",
        "n=int(input())\n",
        "r=int(input())\n",
        "n_fact=fact(n)\n",
        "r_fact=fact(r)\n",
        "n_r_fact=fact(n-r)\n",
        "ans=n_fact//(n_r_fact * r_fact)\n",
        "print(ans)"
      ],
      "metadata": {
        "colab": {
          "base_uri": "https://localhost:8080/"
        },
        "id": "YmROsIjWt3C0",
        "outputId": "ee0e280f-a40b-459d-9c04-3039507d4472"
      },
      "execution_count": 2,
      "outputs": [
        {
          "output_type": "stream",
          "name": "stdout",
          "text": [
            "5\n",
            "2\n",
            "10.0\n"
          ]
        }
      ]
    },
    {
      "cell_type": "markdown",
      "source": [
        "To check a number is prime or not"
      ],
      "metadata": {
        "id": "h4KZrz02zETw"
      }
    },
    {
      "cell_type": "code",
      "source": [
        "def isPrime(n):\n",
        "  for d in range(2,n):\n",
        "    if(n%d==0):\n",
        "      break\n",
        "  else:\n",
        "    return True\n",
        "\n",
        "  return False\n",
        "\n",
        "isPrime(10)"
      ],
      "metadata": {
        "colab": {
          "base_uri": "https://localhost:8080/"
        },
        "id": "jUiWKIMWzHiD",
        "outputId": "b7da5c94-339d-4018-af4e-a5e056b8235d"
      },
      "execution_count": 3,
      "outputs": [
        {
          "output_type": "execute_result",
          "data": {
            "text/plain": [
              "False"
            ]
          },
          "metadata": {},
          "execution_count": 3
        }
      ]
    },
    {
      "cell_type": "markdown",
      "source": [
        "print all prime numbers from 2 to n"
      ],
      "metadata": {
        "id": "R_gofIOA0D67"
      }
    },
    {
      "cell_type": "code",
      "source": [
        "def PrimeFrom2ToN(n):\n",
        "  for k in range(2,n+1):\n",
        "    #check if k is prime and incase if its prime print k\n",
        "    is_k_prime= isPrime(k)\n",
        "    if(is_k_prime):\n",
        "      print(k)\n",
        "PrimeFrom2ToN(20)"
      ],
      "metadata": {
        "colab": {
          "base_uri": "https://localhost:8080/"
        },
        "id": "yZDA5aRL0Llm",
        "outputId": "988aeca1-772e-4925-9e19-399594bea528"
      },
      "execution_count": 4,
      "outputs": [
        {
          "output_type": "stream",
          "name": "stdout",
          "text": [
            "2\n",
            "3\n",
            "5\n",
            "7\n",
            "11\n",
            "13\n",
            "17\n",
            "19\n"
          ]
        }
      ]
    }
  ]
}