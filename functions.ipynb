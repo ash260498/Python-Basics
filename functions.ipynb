{
  "nbformat": 4,
  "nbformat_minor": 0,
  "metadata": {
    "colab": {
      "provenance": [],
      "authorship_tag": "ABX9TyOy5kBy5e7Lz6sNx2ZNvNDI",
      "include_colab_link": true
    },
    "kernelspec": {
      "name": "python3",
      "display_name": "Python 3"
    },
    "language_info": {
      "name": "python"
    }
  },
  "cells": [
    {
      "cell_type": "markdown",
      "metadata": {
        "id": "view-in-github",
        "colab_type": "text"
      },
      "source": [
        "<a href=\"https://colab.research.google.com/github/ash260498/Python-Basics/blob/main/functions.ipynb\" target=\"_parent\"><img src=\"https://colab.research.google.com/assets/colab-badge.svg\" alt=\"Open In Colab\"/></a>"
      ]
    },
    {
      "cell_type": "markdown",
      "source": [
        "To print facorial of a given number"
      ],
      "metadata": {
        "id": "xnQmnz--tyac"
      }
    },
    {
      "cell_type": "code",
      "source": [
        "def fact(n):\n",
        "  n_fact=1\n",
        "  for i in range(1,n+1):\n",
        "    n_fact=n_fact*i\n",
        "  return n_fact\n",
        "\n",
        "n=int(input())\n",
        "r=int(input())\n",
        "n_fact=fact(n)\n",
        "r_fact=fact(r)\n",
        "n_r_fact=fact(n-r)\n",
        "ans=n_fact//(n_r_fact * r_fact)\n",
        "print(ans)"
      ],
      "metadata": {
        "colab": {
          "base_uri": "https://localhost:8080/"
        },
        "id": "YmROsIjWt3C0",
        "outputId": "ee0e280f-a40b-459d-9c04-3039507d4472"
      },
      "execution_count": null,
      "outputs": [
        {
          "output_type": "stream",
          "name": "stdout",
          "text": [
            "5\n",
            "2\n",
            "10.0\n"
          ]
        }
      ]
    },
    {
      "cell_type": "markdown",
      "source": [
        "To check a number is prime or not"
      ],
      "metadata": {
        "id": "h4KZrz02zETw"
      }
    },
    {
      "cell_type": "code",
      "source": [
        "def isPrime(n):\n",
        "  for d in range(2,n):\n",
        "    if(n%d==0):\n",
        "      break\n",
        "  else:\n",
        "    return True\n",
        "\n",
        "  return False\n",
        "\n",
        "isPrime(10)"
      ],
      "metadata": {
        "colab": {
          "base_uri": "https://localhost:8080/"
        },
        "id": "jUiWKIMWzHiD",
        "outputId": "b7da5c94-339d-4018-af4e-a5e056b8235d"
      },
      "execution_count": null,
      "outputs": [
        {
          "output_type": "execute_result",
          "data": {
            "text/plain": [
              "False"
            ]
          },
          "metadata": {},
          "execution_count": 3
        }
      ]
    },
    {
      "cell_type": "markdown",
      "source": [
        "print all prime numbers from 2 to n"
      ],
      "metadata": {
        "id": "R_gofIOA0D67"
      }
    },
    {
      "cell_type": "code",
      "source": [
        "def PrimeFrom2ToN(n):\n",
        "  for k in range(2,n+1):\n",
        "    #check if k is prime and incase if its prime print k\n",
        "    is_k_prime= isPrime(k)\n",
        "    if(is_k_prime):\n",
        "      print(k)\n",
        "PrimeFrom2ToN(20)"
      ],
      "metadata": {
        "colab": {
          "base_uri": "https://localhost:8080/"
        },
        "id": "yZDA5aRL0Llm",
        "outputId": "988aeca1-772e-4925-9e19-399594bea528"
      },
      "execution_count": null,
      "outputs": [
        {
          "output_type": "stream",
          "name": "stdout",
          "text": [
            "2\n",
            "3\n",
            "5\n",
            "7\n",
            "11\n",
            "13\n",
            "17\n",
            "19\n"
          ]
        }
      ]
    },
    {
      "cell_type": "code",
      "source": [
        "def func(a):\n",
        "    a = a + 10\n",
        "    return a\n",
        "a = 5\n",
        "func(a)\n",
        "print(a)"
      ],
      "metadata": {
        "colab": {
          "base_uri": "https://localhost:8080/"
        },
        "id": "AqzBkR5AluCu",
        "outputId": "d977349d-4c3f-40d4-8ab5-dd842f10cc1d"
      },
      "execution_count": null,
      "outputs": [
        {
          "output_type": "stream",
          "name": "stdout",
          "text": [
            "5\n"
          ]
        }
      ]
    },
    {
      "cell_type": "code",
      "source": [
        "\n",
        "def printTable(start,end,step):\n",
        "    S = start  # Initialize S with the 'start' argument\n",
        "    E = end    # Initialize E with the 'end' argument\n",
        "    W = step   # Initialize W with the 'step' argument\n",
        "    while S<=E:\n",
        "      c=int((S-32)*(5/9))\n",
        "      print(S,c)\n",
        "      S=S+W\n",
        "\n",
        "s = int(input())\n",
        "e = int(input())\n",
        "step = int(input())\n",
        "printTable(s,e,step)"
      ],
      "metadata": {
        "colab": {
          "base_uri": "https://localhost:8080/"
        },
        "id": "O249WznTr_G0",
        "outputId": "940ebc88-5408-4c91-ca54-91b04a40519c"
      },
      "execution_count": 5,
      "outputs": [
        {
          "output_type": "stream",
          "name": "stdout",
          "text": [
            "0\n",
            "100\n",
            "20\n",
            "0 -17\n",
            "20 -6\n",
            "40 4\n",
            "60 15\n",
            "80 26\n",
            "100 37\n"
          ]
        }
      ]
    },
    {
      "cell_type": "code",
      "source": [
        "import math\n",
        "\n",
        "def isPerfectsquare(n):\n",
        "    s=int(math.sqrt(n))\n",
        "    return s*s==n\n",
        "\n",
        "\n",
        "def checkMember(n):\n",
        "    if isPerfectsquare(5*(n**2)+4)or isPerfectsquare(5*(n**2)-4):\n",
        "        return True\n",
        "    else:\n",
        "        return False\n",
        "#Implement Your Code Here\n",
        "\n",
        "\n",
        "\n",
        "n=int(input())\n",
        "if(checkMember(n)):\n",
        "    print(\"true\")\n",
        "else:\n",
        "    print(\"false\")"
      ],
      "metadata": {
        "colab": {
          "base_uri": "https://localhost:8080/"
        },
        "id": "c-n-elC6yLAm",
        "outputId": "bbc6cec6-a4c8-4ecc-b831-50f0ee4e5ba4"
      },
      "execution_count": 10,
      "outputs": [
        {
          "output_type": "stream",
          "name": "stdout",
          "text": [
            "3\n",
            "true\n"
          ]
        }
      ]
    },
    {
      "cell_type": "code",
      "source": [
        "def isPalindrome(n):\n",
        "    temp=n\n",
        "    reverse=0\n",
        "    while(n>0):\n",
        "        dig=n%10\n",
        "        reverse=reverse*10+dig\n",
        "        n=n//10\n",
        "        if(n==temp):\n",
        "            return True\n",
        "        else:\n",
        "            return False\n",
        "\n",
        "n=int(input())\n",
        "isPalindrome(n)\n",
        "# taking n as a input\n",
        "## write your code !!\n"
      ],
      "metadata": {
        "colab": {
          "base_uri": "https://localhost:8080/"
        },
        "id": "Dmluf7RV2nSo",
        "outputId": "2b98c66e-f4cc-4049-b9fa-fbbdfbe38812"
      },
      "execution_count": 12,
      "outputs": [
        {
          "name": "stdout",
          "output_type": "stream",
          "text": [
            "432\n"
          ]
        },
        {
          "output_type": "execute_result",
          "data": {
            "text/plain": [
              "False"
            ]
          },
          "metadata": {},
          "execution_count": 12
        }
      ]
    },
    {
      "cell_type": "code",
      "source": [
        "def isPalindrome(n):\n",
        "    temp=n\n",
        "    reverse=0\n",
        "    while(n>0):\n",
        "        dig=n%10\n",
        "        reverse=reverse*10+dig\n",
        "        n=n//10\n",
        "    if(temp==reverse):\n",
        "        return True\n",
        "    else:\n",
        "        return False\n",
        "\n",
        "n=int(input())\n",
        "isPalindrome(n)\n"
      ],
      "metadata": {
        "colab": {
          "base_uri": "https://localhost:8080/"
        },
        "id": "1mH4CURP3U-1",
        "outputId": "08c22c19-28c1-4b9c-c763-71eb5a4e0f73"
      },
      "execution_count": 4,
      "outputs": [
        {
          "name": "stdout",
          "output_type": "stream",
          "text": [
            "1032\n"
          ]
        },
        {
          "output_type": "execute_result",
          "data": {
            "text/plain": [
              "False"
            ]
          },
          "metadata": {},
          "execution_count": 4
        }
      ]
    },
    {
      "cell_type": "code",
      "source": [
        "n=int(input())\n",
        "temp=n\n",
        "reverse=0\n",
        "while(n>0):\n",
        "    dig=n%10\n",
        "    reverse=reverse*10+dig\n",
        "    n=n//10\n",
        "if(temp==reverse):\n",
        "  print(\"true\")\n",
        "else:\n",
        "  print(\"false\")\n"
      ],
      "metadata": {
        "colab": {
          "base_uri": "https://localhost:8080/"
        },
        "id": "25zQ07d5Z83V",
        "outputId": "86bad5e8-b36c-423c-dcdd-646b1eb43a97"
      },
      "execution_count": 7,
      "outputs": [
        {
          "output_type": "stream",
          "name": "stdout",
          "text": [
            "121\n",
            "true\n"
          ]
        }
      ]
    },
    {
      "cell_type": "code",
      "source": [
        "n=int(input())\n",
        "copy_n=n\n",
        "sum=0\n",
        "order=len(str(n))\n",
        "while(n>0):\n",
        "    digit=n%10\n",
        "    sum=sum+digit**order\n",
        "    n=n//10\n",
        "if(sum==copy_n):\n",
        "    print(\"true\")\n",
        "else:\n",
        "    print(\"false\")"
      ],
      "metadata": {
        "colab": {
          "base_uri": "https://localhost:8080/"
        },
        "id": "6eIz67boeWbz",
        "outputId": "537c4aec-38b6-4855-c0bc-5e120e5fe91a"
      },
      "execution_count": 11,
      "outputs": [
        {
          "output_type": "stream",
          "name": "stdout",
          "text": [
            "1634\n",
            "true\n"
          ]
        }
      ]
    }
  ]
}