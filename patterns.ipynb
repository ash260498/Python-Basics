{
  "nbformat": 4,
  "nbformat_minor": 0,
  "metadata": {
    "colab": {
      "provenance": [],
      "authorship_tag": "ABX9TyOHSXnRafpKZ10WhDfnPbFl",
      "include_colab_link": true
    },
    "kernelspec": {
      "name": "python3",
      "display_name": "Python 3"
    },
    "language_info": {
      "name": "python"
    }
  },
  "cells": [
    {
      "cell_type": "markdown",
      "metadata": {
        "id": "view-in-github",
        "colab_type": "text"
      },
      "source": [
        "<a href=\"https://colab.research.google.com/github/ash260498/Python-Basics/blob/main/patterns.ipynb\" target=\"_parent\"><img src=\"https://colab.research.google.com/assets/colab-badge.svg\" alt=\"Open In Colab\"/></a>"
      ]
    },
    {
      "cell_type": "markdown",
      "source": [
        "square pattern of stars"
      ],
      "metadata": {
        "id": "pxGraldT4Q83"
      }
    },
    {
      "cell_type": "code",
      "source": [
        "n=int(input())\n",
        "i=1\n",
        "while i<=n:\n",
        "  j=1\n",
        "  while j<=n:\n",
        "    print(\"*\",end='')\n",
        "    j=j+1\n",
        "  print()\n",
        "  i=i+1"
      ],
      "metadata": {
        "colab": {
          "base_uri": "https://localhost:8080/"
        },
        "id": "5FzmIlN44WFc",
        "outputId": "ce2de3c9-9214-443a-9c42-1551d89701f0"
      },
      "execution_count": null,
      "outputs": [
        {
          "output_type": "stream",
          "name": "stdout",
          "text": [
            "5\n",
            "*****\n",
            "*****\n",
            "*****\n",
            "*****\n",
            "*****\n"
          ]
        }
      ]
    },
    {
      "cell_type": "markdown",
      "source": [
        "Print the following pattern for the given N number of rows.\n",
        "Pattern for N = 4\n",
        "\n",
        "4444\n",
        "\n",
        "4444\n",
        "\n",
        "4444\n",
        "\n",
        "4444"
      ],
      "metadata": {
        "id": "kDcMtxrk4ycF"
      }
    },
    {
      "cell_type": "code",
      "source": [
        "n=int(input())\n",
        "i=1\n",
        "while i<=n:\n",
        "  j=1\n",
        "  while j<=n:\n",
        "    print(n,end='')\n",
        "    j=j+1\n",
        "  print()\n",
        "  i=i+1"
      ],
      "metadata": {
        "colab": {
          "base_uri": "https://localhost:8080/"
        },
        "id": "MeMUBi4i40v4",
        "outputId": "7da00743-ed6b-40da-b984-8fb6ea6989be"
      },
      "execution_count": null,
      "outputs": [
        {
          "output_type": "stream",
          "name": "stdout",
          "text": [
            "4\n",
            "4444\n",
            "4444\n",
            "4444\n",
            "4444\n"
          ]
        }
      ]
    },
    {
      "cell_type": "markdown",
      "source": [
        "Print the following pattern for the given N number of rows. Pattern for N = 5\n",
        "\n",
        "12345\n",
        "\n",
        "12345\n",
        "\n",
        "12345\n",
        "\n",
        "12345\n",
        "\n",
        "12345"
      ],
      "metadata": {
        "id": "LH8H6SFE6F-z"
      }
    },
    {
      "cell_type": "code",
      "source": [
        "n=int(input())\n",
        "i=1\n",
        "while i<=n:\n",
        "  j=1\n",
        "  while j<=n:\n",
        "    print(j,end='')\n",
        "    j=j+1\n",
        "  print()\n",
        "  i=i+1"
      ],
      "metadata": {
        "colab": {
          "base_uri": "https://localhost:8080/"
        },
        "id": "pKVF7T-m6RpU",
        "outputId": "2c970fec-efd7-4c7a-beaf-2cbf1035d347"
      },
      "execution_count": null,
      "outputs": [
        {
          "output_type": "stream",
          "name": "stdout",
          "text": [
            "5\n",
            "12345\n",
            "12345\n",
            "12345\n",
            "12345\n",
            "12345\n"
          ]
        }
      ]
    },
    {
      "cell_type": "markdown",
      "source": [
        "Print the following pattern for the given N number of rows. Pattern for N = 4\n",
        "\n",
        "1111\n",
        "\n",
        "2222\n",
        "\n",
        "3333\n",
        "\n",
        "4444"
      ],
      "metadata": {
        "id": "tQ78U-d_6yUd"
      }
    },
    {
      "cell_type": "code",
      "source": [
        "n=int(input())\n",
        "i=1\n",
        "while i<=n:\n",
        "  j=1\n",
        "  while j<=n:\n",
        "    print(i,end='')\n",
        "    j=j+1\n",
        "  print()\n",
        "  i=i+1"
      ],
      "metadata": {
        "colab": {
          "base_uri": "https://localhost:8080/"
        },
        "id": "IGimG3dF6-3q",
        "outputId": "0caa1dc3-187d-49dc-d55a-a6dc475842ed"
      },
      "execution_count": null,
      "outputs": [
        {
          "output_type": "stream",
          "name": "stdout",
          "text": [
            "4\n",
            "1111\n",
            "2222\n",
            "3333\n",
            "4444\n"
          ]
        }
      ]
    },
    {
      "cell_type": "markdown",
      "source": [
        "Print the following pattern for the given N number of rows. Pattern for N = 4\n",
        "\n",
        "4321\n",
        "\n",
        "4321\n",
        "\n",
        "4321\n",
        "\n",
        "4321"
      ],
      "metadata": {
        "id": "2Vk17DIMC-H-"
      }
    },
    {
      "cell_type": "code",
      "source": [
        "n=int(input())\n",
        "i=1\n",
        "while i<=n:\n",
        "  j=1\n",
        "  while j<=n:\n",
        "    print(n-j+1,end='')\n",
        "    j=j+1\n",
        "  print()\n",
        "  i=i+1"
      ],
      "metadata": {
        "colab": {
          "base_uri": "https://localhost:8080/"
        },
        "id": "_LbECU9RDGPy",
        "outputId": "4b72f4f6-4011-417d-e587-131789c9a05f"
      },
      "execution_count": null,
      "outputs": [
        {
          "output_type": "stream",
          "name": "stdout",
          "text": [
            "4\n",
            "4321\n",
            "4321\n",
            "4321\n",
            "4321\n"
          ]
        }
      ]
    },
    {
      "cell_type": "markdown",
      "source": [
        "Print the following pattern for the given N number of rows. Pattern for N = 4\n",
        "\n",
        "1\n",
        "\n",
        "12\n",
        "\n",
        "123\n",
        "\n",
        "1234"
      ],
      "metadata": {
        "id": "QmDxBxeOFjlE"
      }
    },
    {
      "cell_type": "code",
      "source": [
        "n=int(input())\n",
        "i=1\n",
        "while i<=n:\n",
        "  j=1\n",
        "  while j<=i:\n",
        "    print(j,end='')\n",
        "    j=j+1\n",
        "  print()\n",
        "  i=i+1"
      ],
      "metadata": {
        "colab": {
          "base_uri": "https://localhost:8080/"
        },
        "id": "gRzwKyJXFqUS",
        "outputId": "54f49fb0-0c28-427c-a452-1e9deb6a792e"
      },
      "execution_count": null,
      "outputs": [
        {
          "output_type": "stream",
          "name": "stdout",
          "text": [
            "4\n",
            "1\n",
            "12\n",
            "123\n",
            "1234\n"
          ]
        }
      ]
    },
    {
      "cell_type": "markdown",
      "source": [
        "Print the following pattern for the given N number of rows. Pattern for N = 4\n",
        "\n",
        "1\n",
        "\n",
        "23\n",
        "\n",
        "345\n",
        "\n",
        "4567"
      ],
      "metadata": {
        "id": "T9d46DxQGctB"
      }
    },
    {
      "cell_type": "code",
      "source": [
        "n=int(input())\n",
        "i=1\n",
        "while i<=n:\n",
        "  j=1\n",
        "  p=i\n",
        "  while j<=i:\n",
        "    print(p,end='')\n",
        "    j=j+1\n",
        "    p=p+1\n",
        "  print()\n",
        "  i=i+1"
      ],
      "metadata": {
        "colab": {
          "base_uri": "https://localhost:8080/"
        },
        "id": "SodnYk3OGXaT",
        "outputId": "973cd286-371b-4f27-c1e0-836895857902"
      },
      "execution_count": null,
      "outputs": [
        {
          "output_type": "stream",
          "name": "stdout",
          "text": [
            "4\n",
            "1\n",
            "23\n",
            "345\n",
            "4567\n"
          ]
        }
      ]
    },
    {
      "cell_type": "markdown",
      "source": [
        "Print the following pattern for the given N number of rows. Pattern for N = 4\n",
        "\n",
        "1\n",
        "\n",
        "23\n",
        "\n",
        "456\n",
        "\n",
        "78910"
      ],
      "metadata": {
        "id": "CFg1f2J9skWa"
      }
    },
    {
      "cell_type": "code",
      "source": [
        "n=int(input())\n",
        "i=1\n",
        "p=1\n",
        "while i<=n:\n",
        "  j=1\n",
        "  while j<=i:\n",
        "    print(p,end='')\n",
        "    j=j+1\n",
        "    p=p+1\n",
        "  print()\n",
        "  i=i+1"
      ],
      "metadata": {
        "colab": {
          "base_uri": "https://localhost:8080/"
        },
        "id": "tWzYgAbossxt",
        "outputId": "4d83ce5c-909a-433b-fe14-51e89bc5fd6d"
      },
      "execution_count": null,
      "outputs": [
        {
          "output_type": "stream",
          "name": "stdout",
          "text": [
            "4\n",
            "1\n",
            "23\n",
            "456\n",
            "78910\n"
          ]
        }
      ]
    },
    {
      "cell_type": "markdown",
      "source": [
        "Print the following pattern for the given N number of rows.\n",
        "\n",
        "Pattern n=4\n",
        "\n",
        "*\n",
        "\n",
        "**\n",
        "\n",
        "***\n",
        "\n",
        "****"
      ],
      "metadata": {
        "id": "0a02pvYGtT3c"
      }
    },
    {
      "cell_type": "code",
      "source": [
        "n=int(input())\n",
        "i=1\n",
        "while i<=n:\n",
        "  j=1\n",
        "  while j<=i:\n",
        "    print(\"*\",end='')\n",
        "    j=j+1\n",
        "  print()\n",
        "  i=i+1"
      ],
      "metadata": {
        "colab": {
          "base_uri": "https://localhost:8080/"
        },
        "id": "g67_9pb8tU0d",
        "outputId": "0f909c50-c43a-42b0-d97a-8618068bd6b8"
      },
      "execution_count": null,
      "outputs": [
        {
          "output_type": "stream",
          "name": "stdout",
          "text": [
            "4\n",
            "*\n",
            "**\n",
            "***\n",
            "****\n"
          ]
        }
      ]
    },
    {
      "cell_type": "markdown",
      "source": [
        "Print the following pattern for the given N number of rows.\n",
        "Pattern for N = 4\n",
        "\n",
        "1\n",
        "\n",
        "22\n",
        "\n",
        "333\n",
        "\n",
        "4444"
      ],
      "metadata": {
        "id": "oIUbqLOKuCA2"
      }
    },
    {
      "cell_type": "code",
      "source": [
        "n=int(input())\n",
        "i=1\n",
        "while i<=n:\n",
        "  j=1\n",
        "  while j<=i:\n",
        "    print(i,end='')\n",
        "    j=j+1\n",
        "  print()\n",
        "  i=i+1"
      ],
      "metadata": {
        "colab": {
          "base_uri": "https://localhost:8080/"
        },
        "id": "_n3aHRFRuDVQ",
        "outputId": "948c3008-3c5e-4d15-d14e-97b815a0167f"
      },
      "execution_count": null,
      "outputs": [
        {
          "output_type": "stream",
          "name": "stdout",
          "text": [
            "4\n",
            "1\n",
            "22\n",
            "333\n",
            "4444\n"
          ]
        }
      ]
    },
    {
      "cell_type": "markdown",
      "source": [
        "Print the following pattern for the given N number of rows.\n",
        "Pattern for N = 4\n",
        "\n",
        "1\n",
        "\n",
        "21\n",
        "\n",
        "321\n",
        "\n",
        "4321"
      ],
      "metadata": {
        "id": "xeHLsHF3uhLl"
      }
    },
    {
      "cell_type": "code",
      "source": [
        "n=int(input())\n",
        "i=1\n",
        "while i<=n:\n",
        "  j=1\n",
        "  while j<=i:\n",
        "    print(i-j+1,end='')\n",
        "    j=j+1\n",
        "  print()\n",
        "  i=i+1"
      ],
      "metadata": {
        "colab": {
          "base_uri": "https://localhost:8080/"
        },
        "id": "6OX-FobMugmb",
        "outputId": "d4432718-583d-40c1-c16b-e7d80c9f02b1"
      },
      "execution_count": null,
      "outputs": [
        {
          "output_type": "stream",
          "name": "stdout",
          "text": [
            "4\n",
            "1\n",
            "21\n",
            "321\n",
            "4321\n"
          ]
        }
      ]
    },
    {
      "cell_type": "markdown",
      "source": [
        "Print the following pattern for the given N number of rows.\n",
        "Pattern for N = 4\n",
        "\n",
        "ABCD\n",
        "\n",
        "ABCD\n",
        "\n",
        "ABCD\n",
        "\n",
        "ABCD"
      ],
      "metadata": {
        "id": "1bv1l3CKVrTB"
      }
    },
    {
      "cell_type": "code",
      "source": [
        "n=int(input())\n",
        "i=1\n",
        "while i<=n:\n",
        "  j=1\n",
        "  while j<=n:\n",
        "    charP = chr(ord('A')+j-1)\n",
        "    print(charP,end='')\n",
        "    j=j+1\n",
        "  print()\n",
        "  i=i+1"
      ],
      "metadata": {
        "colab": {
          "base_uri": "https://localhost:8080/"
        },
        "id": "sKvCRxh6VyIJ",
        "outputId": "8e2f9f99-12a9-478f-d4a0-9026fe740938"
      },
      "execution_count": null,
      "outputs": [
        {
          "output_type": "stream",
          "name": "stdout",
          "text": [
            "4\n",
            "ABCD\n",
            "ABCD\n",
            "ABCD\n",
            "ABCD\n"
          ]
        }
      ]
    },
    {
      "cell_type": "markdown",
      "source": [
        "Print the following pattern for the given N number of rows.\n",
        "Pattern for N = 4\n",
        "\n",
        "ABCD\n",
        "\n",
        "BCDE\n",
        "\n",
        "CDEF\n",
        "\n",
        "DEFG"
      ],
      "metadata": {
        "id": "febU75YdXwnO"
      }
    },
    {
      "cell_type": "code",
      "source": [
        "n=int(input())\n",
        "i=1\n",
        "while i<=n:\n",
        "  start_char=chr(ord('A')+i-1)\n",
        "  j=1\n",
        "  while j<=n:\n",
        "    charP=chr(ord(start_char)+j-1)\n",
        "    print(charP,end='')\n",
        "    j=j+1\n",
        "  print()\n",
        "  i=i+1"
      ],
      "metadata": {
        "colab": {
          "base_uri": "https://localhost:8080/"
        },
        "id": "TrlMJQKvYBae",
        "outputId": "f3c1a59d-1bac-461f-9fa4-427eb48a8e8f"
      },
      "execution_count": null,
      "outputs": [
        {
          "output_type": "stream",
          "name": "stdout",
          "text": [
            "4\n",
            "ABCD\n",
            "BCDE\n",
            "CDEF\n",
            "DEFG\n"
          ]
        }
      ]
    },
    {
      "cell_type": "markdown",
      "source": [
        "Print the following pattern for the given N number of rows.\n",
        "Pattern for N = 4\n",
        "\n",
        "A\n",
        "\n",
        "BC\n",
        "\n",
        "CDE\n",
        "\n",
        "DEFG"
      ],
      "metadata": {
        "id": "rkeOKc-hY2XZ"
      }
    },
    {
      "cell_type": "code",
      "source": [
        "n=int(input())\n",
        "i=1\n",
        "while i<=n:\n",
        "  start_char=chr(ord('A')+i-1)\n",
        "  j=1\n",
        "  while j<=i:\n",
        "    charP=chr(ord(start_char)+j-1)\n",
        "    print(charP,end='')\n",
        "    j=j+1\n",
        "  print()\n",
        "  i=i+1"
      ],
      "metadata": {
        "colab": {
          "base_uri": "https://localhost:8080/"
        },
        "id": "dpN2iWg6bvpF",
        "outputId": "d9ed8084-1e66-473c-e552-a7d14838e910"
      },
      "execution_count": 3,
      "outputs": [
        {
          "output_type": "stream",
          "name": "stdout",
          "text": [
            "4\n",
            "A\n",
            "BC\n",
            "CDE\n",
            "DEFG\n"
          ]
        }
      ]
    },
    {
      "cell_type": "markdown",
      "source": [
        "Print the following pattern for the given number of rows.\n",
        "Pattern for N = 5\n",
        "\n",
        "E\n",
        "\n",
        "DE\n",
        "\n",
        "CDE\n",
        "\n",
        "BCDE\n",
        "\n",
        "ABCDE"
      ],
      "metadata": {
        "id": "QkyVhQWOY69X"
      }
    },
    {
      "cell_type": "code",
      "source": [
        "ord('A')"
      ],
      "metadata": {
        "colab": {
          "base_uri": "https://localhost:8080/"
        },
        "id": "gUtIlQ-0CsuY",
        "outputId": "01e94f7c-85d4-4d12-f891-d5eef428f070"
      },
      "execution_count": 13,
      "outputs": [
        {
          "output_type": "execute_result",
          "data": {
            "text/plain": [
              "65"
            ]
          },
          "metadata": {},
          "execution_count": 13
        }
      ]
    },
    {
      "cell_type": "code",
      "source": [
        "n=int(input())\n",
        "i=1\n",
        "start_char=chr(ord('A')+n-1)\n",
        "while i<=n:\n",
        "  start_p=chr(ord(start_char)-i+1)\n",
        "  j=1\n",
        "  while j<=i:\n",
        "    charP=chr(ord(start_p)+j-1)\n",
        "    print(charP,end='')\n",
        "    j=j+1\n",
        "  print()\n",
        "  i=i+1"
      ],
      "metadata": {
        "colab": {
          "base_uri": "https://localhost:8080/"
        },
        "id": "EX4EoGPqfEAn",
        "outputId": "ff4ddd7d-d3a9-4853-bdb1-706439632178"
      },
      "execution_count": 23,
      "outputs": [
        {
          "output_type": "stream",
          "name": "stdout",
          "text": [
            "4\n",
            "D\n",
            "CD\n",
            "BCD\n",
            "ABCD\n"
          ]
        }
      ]
    },
    {
      "cell_type": "markdown",
      "source": [
        "Print the following pattern for the given N number of rows.\n",
        "Pattern for N = 4\n",
        "\n",
        "1\n",
        "\n",
        "11\n",
        "\n",
        "111\n",
        "\n",
        "1111"
      ],
      "metadata": {
        "id": "S-QcvGldZH_Z"
      }
    },
    {
      "cell_type": "code",
      "source": [
        "n=int(input())\n",
        "i=1\n",
        "while i<=n:\n",
        "  j=1\n",
        "  while j<=i:\n",
        "    print(1,end='')\n",
        "    j=j+1\n",
        "  print()\n",
        "  i=i+1"
      ],
      "metadata": {
        "colab": {
          "base_uri": "https://localhost:8080/"
        },
        "id": "W-dRhT-iaq9W",
        "outputId": "e9ca29bd-309c-466c-996d-01bd71d09a7d"
      },
      "execution_count": null,
      "outputs": [
        {
          "output_type": "stream",
          "name": "stdout",
          "text": [
            "4\n",
            "1\n",
            "11\n",
            "111\n",
            "1111\n"
          ]
        }
      ]
    },
    {
      "cell_type": "markdown",
      "source": [
        "Print the following pattern for the given N number of rows.\n",
        "Pattern for N = 4\n",
        "\n",
        "1\n",
        "\n",
        "11\n",
        "\n",
        "202\n",
        "\n",
        "3003"
      ],
      "metadata": {
        "id": "OcOVoe7xZQQJ"
      }
    },
    {
      "cell_type": "markdown",
      "source": [
        "Print the following pattern for the given N number of rows.\n",
        "Pattern for N = 4\n",
        "\n",
        "1\n",
        "\n",
        "11\n",
        "\n",
        "121\n",
        "\n",
        "1221"
      ],
      "metadata": {
        "id": "HfTICxwOZXPe"
      }
    },
    {
      "cell_type": "markdown",
      "source": [
        "Print the following pattern for the given N number of rows.\n",
        "Pattern for N = 4\n",
        "\n",
        "1234\n",
        "\n",
        "123\n",
        "\n",
        "12\n",
        "\n",
        "1"
      ],
      "metadata": {
        "id": "WjabbNv4Za-e"
      }
    },
    {
      "cell_type": "code",
      "source": [
        "n = int(input())\n",
        "i = n\n",
        "while i >= 1:\n",
        "    j = 1\n",
        "    while j <= i:\n",
        "        print(j, end='')\n",
        "        j = j + 1\n",
        "    print()\n",
        "    i = i - 1"
      ],
      "metadata": {
        "colab": {
          "base_uri": "https://localhost:8080/"
        },
        "id": "8czscOwUejW4",
        "outputId": "e40ca6b8-2465-46a3-b354-c19fc636664d"
      },
      "execution_count": 36,
      "outputs": [
        {
          "output_type": "stream",
          "name": "stdout",
          "text": [
            "4\n",
            "1234\n",
            "123\n",
            "12\n",
            "1\n"
          ]
        }
      ]
    },
    {
      "cell_type": "markdown",
      "source": [
        "Print the following pattern for the given N number of rows.\n",
        "Pattern for N = 3\n",
        "\n",
        " A\n",
        "\n",
        " BB\n",
        "\n",
        " CCC"
      ],
      "metadata": {
        "id": "EwlLUNVIZfXd"
      }
    },
    {
      "cell_type": "code",
      "source": [
        "n=int(input())\n",
        "i=1\n",
        "while i<=n:\n",
        "  j=1\n",
        "  while j<=i:\n",
        "    charP=chr(ord('A')+i-1)\n",
        "    print(charP,end='')\n",
        "    j=j+1\n",
        "  print()\n",
        "  i=i+1\n"
      ],
      "metadata": {
        "colab": {
          "base_uri": "https://localhost:8080/"
        },
        "id": "PC8bO0huuG4e",
        "outputId": "ea5b6eb1-d179-4772-dc9e-701bb74381b9"
      },
      "execution_count": 40,
      "outputs": [
        {
          "output_type": "stream",
          "name": "stdout",
          "text": [
            "4\n",
            "A\n",
            "BB\n",
            "CCC\n",
            "DDDD\n"
          ]
        }
      ]
    }
  ]
}