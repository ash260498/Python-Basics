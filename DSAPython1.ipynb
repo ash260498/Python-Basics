{
  "nbformat": 4,
  "nbformat_minor": 0,
  "metadata": {
    "colab": {
      "provenance": [],
      "authorship_tag": "ABX9TyNC8zAS3MR1ediz5eI0StlI",
      "include_colab_link": true
    },
    "kernelspec": {
      "name": "python3",
      "display_name": "Python 3"
    },
    "language_info": {
      "name": "python"
    }
  },
  "cells": [
    {
      "cell_type": "markdown",
      "metadata": {
        "id": "view-in-github",
        "colab_type": "text"
      },
      "source": [
        "<a href=\"https://colab.research.google.com/github/ash260498/Python-Basics/blob/main/DSAPython1.ipynb\" target=\"_parent\"><img src=\"https://colab.research.google.com/assets/colab-badge.svg\" alt=\"Open In Colab\"/></a>"
      ]
    },
    {
      "cell_type": "code",
      "execution_count": null,
      "metadata": {
        "colab": {
          "base_uri": "https://localhost:8080/"
        },
        "id": "kbJqoOZP0DWa",
        "outputId": "7e0cd854-ed1e-4774-e01d-59506e994a87"
      },
      "outputs": [
        {
          "output_type": "execute_result",
          "data": {
            "text/plain": [
              "{5, 6, 7, 8}"
            ]
          },
          "metadata": {},
          "execution_count": 3
        }
      ],
      "source": [
        "a={5,6,7}\n",
        "a.add(8)\n",
        "a"
      ]
    },
    {
      "cell_type": "code",
      "source": [
        "def a(b):\n",
        "  b=b+[5]\n",
        "  return b\n",
        "c=[1,2,3,4]\n",
        "d=a(c)\n",
        "print(len(d))"
      ],
      "metadata": {
        "colab": {
          "base_uri": "https://localhost:8080/"
        },
        "id": "nSl0D-iU2Y_d",
        "outputId": "2eec1978-d565-4ede-a530-d338b4b1afa2"
      },
      "execution_count": null,
      "outputs": [
        {
          "output_type": "stream",
          "name": "stdout",
          "text": [
            "5\n"
          ]
        }
      ]
    },
    {
      "cell_type": "code",
      "source": [
        "n=set([1,1,2,2,3,3,4,4,])\n",
        "print(len(n))"
      ],
      "metadata": {
        "colab": {
          "base_uri": "https://localhost:8080/"
        },
        "id": "-V7JhTzL5ymi",
        "outputId": "bc995ab5-1957-48d5-e21a-aa1e4195db0a"
      },
      "execution_count": null,
      "outputs": [
        {
          "output_type": "stream",
          "name": "stdout",
          "text": [
            "4\n"
          ]
        }
      ]
    },
    {
      "cell_type": "markdown",
      "source": [
        "LL: Constructor\n",
        "You are tasked with implementing a basic data structure: a singly linked list.\n",
        "\n",
        "To accomplish this, you will create two classes, Node and LinkedList.\n",
        "\n",
        "The Node class will represent an individual node within the linked list, while the LinkedList class will manage the overall list structure.\n",
        "\n",
        "Your implementation should satisfy the following requirements:\n",
        "Create a Node class with the following features:\n",
        "\n",
        "A constructor that takes a value as an argument and initializes the value attribute of the node.\n",
        "\n",
        "A next attribute, initialized to None, which will store a reference to the next node in the list.\n",
        "\n",
        "Create a LinkedList class with the following features:\n",
        "\n",
        "A constructor that takes a value as an argument, creates a new Node with that value, and initializes the head and tail attributes of the linked list to point to the new node.\n",
        "\n",
        "A length attribute, initialized to 1, which represents the current number of nodes in the list."
      ],
      "metadata": {
        "id": "Om0nucxFDKlZ"
      }
    },
    {
      "cell_type": "code",
      "source": [
        "class Node:\n",
        "    def __init__(self,value):\n",
        "        self.value=value\n",
        "        self.next=None\n",
        "\n",
        "class LinkedList:\n",
        "    def __init__(self,value):\n",
        "        new_node=Node(value)\n",
        "        self.head=new_node\n",
        "        self.tail=new_node\n",
        "        self.length=1\n",
        "\n",
        "\n",
        "my_linked_list = LinkedList(4)\n",
        "\n",
        "print('Head:', my_linked_list.head.value)\n",
        "print('Tail:', my_linked_list.tail.value)\n",
        "print('Length:', my_linked_list.length)\n",
        "\n",
        "\n",
        "\n",
        "\n",
        ""
      ],
      "metadata": {
        "colab": {
          "base_uri": "https://localhost:8080/"
        },
        "id": "5o9wnCVNDVze",
        "outputId": "f25c843d-3a9c-4cf8-a151-2bbd7e2d4e98"
      },
      "execution_count": 1,
      "outputs": [
        {
          "output_type": "stream",
          "name": "stdout",
          "text": [
            "Head: 4\n",
            "Tail: 4\n",
            "Length: 1\n"
          ]
        }
      ]
    }
  ]
}