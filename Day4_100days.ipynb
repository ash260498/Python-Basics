{
  "nbformat": 4,
  "nbformat_minor": 0,
  "metadata": {
    "colab": {
      "provenance": [],
      "authorship_tag": "ABX9TyNepV+wsIPKvFt67iJ3PEeT",
      "include_colab_link": true
    },
    "kernelspec": {
      "name": "python3",
      "display_name": "Python 3"
    },
    "language_info": {
      "name": "python"
    }
  },
  "cells": [
    {
      "cell_type": "markdown",
      "metadata": {
        "id": "view-in-github",
        "colab_type": "text"
      },
      "source": [
        "<a href=\"https://colab.research.google.com/github/ash260498/Python-Basics/blob/main/Day4_100days.ipynb\" target=\"_parent\"><img src=\"https://colab.research.google.com/assets/colab-badge.svg\" alt=\"Open In Colab\"/></a>"
      ]
    },
    {
      "cell_type": "code",
      "execution_count": null,
      "metadata": {
        "colab": {
          "base_uri": "https://localhost:8080/"
        },
        "id": "Q9cSR2fX7seQ",
        "outputId": "f8144622-b776-4d11-ebda-4e7c365c419f"
      },
      "outputs": [
        {
          "output_type": "stream",
          "name": "stdout",
          "text": [
            "9\n",
            "0.9998867593709337\n"
          ]
        }
      ],
      "source": [
        "#randomization\n",
        "#random integers\n",
        "import random\n",
        "random_integer=random.randint(1,10)\n",
        "print(random_integer)\n",
        "\n",
        "#randomfloat\n",
        "random_float=random.random() #it always generates a random floating point between 0 and 1\n",
        "print(random_float)"
      ]
    },
    {
      "cell_type": "markdown",
      "source": [
        "You are going to write a virtual coin toss program. It will randomly tell the user \"Heads\" or \"Tails\".\n",
        "\n",
        "Important, the first letter should be capitalised and spelt exactly like in the example e.g. \"Heads\", not \"heads\".\n",
        "\n",
        "There are many ways of doing this. But to practice what we learnt in the last lesson, you should generate a random number, either 0 or 1. Then use that number to print out \"Heads\" or \"Tails\".\n",
        "\n",
        "e.g. 1 means Heads 0 means Tails"
      ],
      "metadata": {
        "id": "x42KEtQ1CFi6"
      }
    },
    {
      "cell_type": "code",
      "source": [
        "import random\n",
        "rand_int=random.randint(0,1)\n",
        "if rand_int==1:\n",
        "  print(\"Heads\")\n",
        "else:\n",
        "  print(\"Tails\")"
      ],
      "metadata": {
        "id": "HbzTbNcFCG_1",
        "outputId": "54da48b7-1faa-431c-fbe4-fa301a495c50",
        "colab": {
          "base_uri": "https://localhost:8080/"
        }
      },
      "execution_count": null,
      "outputs": [
        {
          "output_type": "stream",
          "name": "stdout",
          "text": [
            "Heads\n"
          ]
        }
      ]
    },
    {
      "cell_type": "code",
      "source": [
        "#lists\n",
        "states=[\"Karnataka\",\"Kerala\",\"TamilNadu\",\"Maharastra\"]\n",
        "print(states[0])"
      ],
      "metadata": {
        "colab": {
          "base_uri": "https://localhost:8080/"
        },
        "id": "Ye5Wbi72BKOJ",
        "outputId": "51cd3b0c-f3c8-4a9a-8564-4b700b65517c"
      },
      "execution_count": 3,
      "outputs": [
        {
          "output_type": "stream",
          "name": "stdout",
          "text": [
            "Karnataka\n"
          ]
        }
      ]
    },
    {
      "cell_type": "code",
      "source": [
        "print(states[-1])"
      ],
      "metadata": {
        "colab": {
          "base_uri": "https://localhost:8080/"
        },
        "id": "NDlT3DYnCmR_",
        "outputId": "46cf80e3-3877-4258-db27-d9c1dd16187a"
      },
      "execution_count": 4,
      "outputs": [
        {
          "output_type": "stream",
          "name": "stdout",
          "text": [
            "Maharastra\n"
          ]
        }
      ]
    },
    {
      "cell_type": "code",
      "source": [
        "print(states[::-1])"
      ],
      "metadata": {
        "colab": {
          "base_uri": "https://localhost:8080/"
        },
        "id": "Eo_u94mkCmzI",
        "outputId": "8a453d04-7132-4dff-fb75-fb41c46cf407"
      },
      "execution_count": 5,
      "outputs": [
        {
          "output_type": "stream",
          "name": "stdout",
          "text": [
            "['Maharastra', 'TamilNadu', 'Kerala', 'Karnataka']\n"
          ]
        }
      ]
    },
    {
      "cell_type": "code",
      "source": [
        "\n",
        "print(states)"
      ],
      "metadata": {
        "colab": {
          "base_uri": "https://localhost:8080/"
        },
        "id": "kySl856jDpAq",
        "outputId": "62cf342f-4e51-4a02-bc40-61366fcd1a33"
      },
      "execution_count": 8,
      "outputs": [
        {
          "output_type": "stream",
          "name": "stdout",
          "text": [
            "['Karnataka', 'Kerala', 'TamilNadu', 'Maharastra', 'Andhra Pradesh', 'Andhra Pradesh']\n"
          ]
        }
      ]
    },
    {
      "cell_type": "code",
      "source": [
        "#List methods\n",
        "#append\n",
        "fruits=['Apple','Orange','Grapes']\n",
        "fruits.append('Mango')\n",
        "fruits"
      ],
      "metadata": {
        "colab": {
          "base_uri": "https://localhost:8080/"
        },
        "id": "jxknHpX3FwaF",
        "outputId": "aa606917-de98-4e8e-cd8b-4c3015fd2f8e"
      },
      "execution_count": 9,
      "outputs": [
        {
          "output_type": "execute_result",
          "data": {
            "text/plain": [
              "['Apple', 'Orange', 'Grapes', 'Mango']"
            ]
          },
          "metadata": {},
          "execution_count": 9
        }
      ]
    },
    {
      "cell_type": "code",
      "source": [
        "#clear\n",
        "fruits.clear()\n",
        "fruits"
      ],
      "metadata": {
        "colab": {
          "base_uri": "https://localhost:8080/"
        },
        "id": "mbnMXP9AGDVY",
        "outputId": "523f0c69-5782-4809-8d9c-92abcc7645f3"
      },
      "execution_count": 11,
      "outputs": [
        {
          "output_type": "execute_result",
          "data": {
            "text/plain": [
              "[]"
            ]
          },
          "metadata": {},
          "execution_count": 11
        }
      ]
    },
    {
      "cell_type": "code",
      "source": [
        "#copy\n",
        "x=states.copy()\n",
        "x"
      ],
      "metadata": {
        "colab": {
          "base_uri": "https://localhost:8080/"
        },
        "id": "Nn2GKOpDGYNg",
        "outputId": "8def7096-9b0a-4d99-ac41-f03664b2a5dc"
      },
      "execution_count": 12,
      "outputs": [
        {
          "output_type": "execute_result",
          "data": {
            "text/plain": [
              "['Karnataka',\n",
              " 'Kerala',\n",
              " 'TamilNadu',\n",
              " 'Maharastra',\n",
              " 'Andhra Pradesh',\n",
              " 'Andhra Pradesh']"
            ]
          },
          "metadata": {},
          "execution_count": 12
        }
      ]
    },
    {
      "cell_type": "code",
      "source": [
        "cars=['ford','eco','bmw']\n",
        "states"
      ],
      "metadata": {
        "colab": {
          "base_uri": "https://localhost:8080/"
        },
        "id": "yw5suDP3GhJT",
        "outputId": "11b2ebd8-f77f-404b-cbcf-22ec1875c9aa"
      },
      "execution_count": 19,
      "outputs": [
        {
          "output_type": "execute_result",
          "data": {
            "text/plain": [
              "['Karnataka',\n",
              " 'Kerala',\n",
              " 'TamilNadu',\n",
              " 'Maharastra',\n",
              " 'Andhra Pradesh',\n",
              " 'Andhra Pradesh',\n",
              " 'ford',\n",
              " 'eco',\n",
              " 'bmw',\n",
              " 'ford',\n",
              " 'eco',\n",
              " 'bmw',\n",
              " 'ford',\n",
              " 'eco',\n",
              " 'bmw',\n",
              " 'ford',\n",
              " 'eco',\n",
              " 'bmw']"
            ]
          },
          "metadata": {},
          "execution_count": 19
        }
      ]
    },
    {
      "cell_type": "code",
      "source": [
        "fruits = ['apple', 'banana', 'cherry']\n",
        "\n",
        "points = (1, 4, 5, 9)\n",
        "\n",
        "fruits.extend(points)\n",
        "fruits"
      ],
      "metadata": {
        "colab": {
          "base_uri": "https://localhost:8080/"
        },
        "id": "bmKt5_04G4rd",
        "outputId": "6f45a14e-da7f-4b78-a0f8-79de8dfe1d05"
      },
      "execution_count": 16,
      "outputs": [
        {
          "output_type": "execute_result",
          "data": {
            "text/plain": [
              "['apple', 'banana', 'cherry', 1, 4, 5, 9]"
            ]
          },
          "metadata": {},
          "execution_count": 16
        }
      ]
    },
    {
      "cell_type": "code",
      "source": [
        "fruits = ['apple', 'banana', 'cherry']\n",
        "\n",
        "x = fruits.index(\"cherry\")\n",
        "x"
      ],
      "metadata": {
        "colab": {
          "base_uri": "https://localhost:8080/"
        },
        "id": "vX7VUyixHkBV",
        "outputId": "0f9ee1ec-0e6d-4550-ddc0-30abc76fe114"
      },
      "execution_count": 21,
      "outputs": [
        {
          "output_type": "execute_result",
          "data": {
            "text/plain": [
              "2"
            ]
          },
          "metadata": {},
          "execution_count": 21
        }
      ]
    }
  ]
}