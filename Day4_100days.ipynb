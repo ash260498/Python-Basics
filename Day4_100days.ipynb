{
  "nbformat": 4,
  "nbformat_minor": 0,
  "metadata": {
    "colab": {
      "provenance": [],
      "authorship_tag": "ABX9TyPXHolHg/RRZfTn27oWZ6nD",
      "include_colab_link": true
    },
    "kernelspec": {
      "name": "python3",
      "display_name": "Python 3"
    },
    "language_info": {
      "name": "python"
    }
  },
  "cells": [
    {
      "cell_type": "markdown",
      "metadata": {
        "id": "view-in-github",
        "colab_type": "text"
      },
      "source": [
        "<a href=\"https://colab.research.google.com/github/ash260498/Python-Basics/blob/main/Day4_100days.ipynb\" target=\"_parent\"><img src=\"https://colab.research.google.com/assets/colab-badge.svg\" alt=\"Open In Colab\"/></a>"
      ]
    },
    {
      "cell_type": "code",
      "execution_count": 2,
      "metadata": {
        "colab": {
          "base_uri": "https://localhost:8080/"
        },
        "id": "Q9cSR2fX7seQ",
        "outputId": "f8144622-b776-4d11-ebda-4e7c365c419f"
      },
      "outputs": [
        {
          "output_type": "stream",
          "name": "stdout",
          "text": [
            "9\n",
            "0.9998867593709337\n"
          ]
        }
      ],
      "source": [
        "#randomization\n",
        "#random integers\n",
        "import random\n",
        "random_integer=random.randint(1,10)\n",
        "print(random_integer)\n",
        "\n",
        "#randomfloat\n",
        "random_float=random.random() #it always generates a random floating point between 0 and 1\n",
        "print(random_float)"
      ]
    }
  ]
}