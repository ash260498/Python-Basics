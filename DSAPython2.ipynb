{
  "nbformat": 4,
  "nbformat_minor": 0,
  "metadata": {
    "colab": {
      "provenance": [],
      "authorship_tag": "ABX9TyM027rjJ2yMp/5ZhIXFLivO",
      "include_colab_link": true
    },
    "kernelspec": {
      "name": "python3",
      "display_name": "Python 3"
    },
    "language_info": {
      "name": "python"
    }
  },
  "cells": [
    {
      "cell_type": "markdown",
      "metadata": {
        "id": "view-in-github",
        "colab_type": "text"
      },
      "source": [
        "<a href=\"https://colab.research.google.com/github/ash260498/Python-Basics/blob/main/DSAPython2.ipynb\" target=\"_parent\"><img src=\"https://colab.research.google.com/assets/colab-badge.svg\" alt=\"Open In Colab\"/></a>"
      ]
    },
    {
      "cell_type": "markdown",
      "source": [
        "print list"
      ],
      "metadata": {
        "id": "0dERTsYiqIK5"
      }
    },
    {
      "cell_type": "code",
      "source": [
        "class Node:\n",
        "    def __init__(self, value):\n",
        "        self.value = value\n",
        "        self.next = None\n",
        "class LinkedList:\n",
        "    def __init__(self,value):\n",
        "        new_node = Node(value)\n",
        "        self.head = new_node\n",
        "        self.tail = new_node\n",
        "        self.length = 1\n",
        "    def print_list(self):\n",
        "       temp=self.head\n",
        "       while temp is not None:\n",
        "           print(temp.value)\n",
        "           temp=temp.next\n",
        "\n",
        "    def make_empty(self):\n",
        "        self.head = None\n",
        "        self.tail = None\n",
        "        self.length = 0\n",
        "\n",
        "    def append(self, value):\n",
        "        new_node = Node(value)\n",
        "        if self.head is None:\n",
        "            self.head = new_node\n",
        "            self.tail = new_node\n",
        "        else:\n",
        "            self.tail.next = new_node\n",
        "            self.tail = new_node\n",
        "        self.length += 1\n",
        "\n",
        "\n",
        "\n",
        "my_linked_list = LinkedList(1)\n",
        "my_linked_list.append(2)\n",
        "my_linked_list.append(3)\n",
        "\n",
        "my_linked_list.print_list()\n",
        "\n",
        "\n"
      ],
      "metadata": {
        "colab": {
          "base_uri": "https://localhost:8080/"
        },
        "id": "cFPxxUpaqRGz",
        "outputId": "be807da5-d99e-4f40-f962-2d1e162bbe4b"
      },
      "execution_count": 1,
      "outputs": [
        {
          "output_type": "stream",
          "name": "stdout",
          "text": [
            "1\n",
            "2\n",
            "3\n"
          ]
        }
      ]
    }
  ]
}