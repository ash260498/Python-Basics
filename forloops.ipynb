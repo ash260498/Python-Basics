{
  "nbformat": 4,
  "nbformat_minor": 0,
  "metadata": {
    "colab": {
      "provenance": [],
      "authorship_tag": "ABX9TyPVSua9c/Hn/oOB3GXcMiwm",
      "include_colab_link": true
    },
    "kernelspec": {
      "name": "python3",
      "display_name": "Python 3"
    },
    "language_info": {
      "name": "python"
    }
  },
  "cells": [
    {
      "cell_type": "markdown",
      "metadata": {
        "id": "view-in-github",
        "colab_type": "text"
      },
      "source": [
        "<a href=\"https://colab.research.google.com/github/ash260498/Python-Basics/blob/main/forloops.ipynb\" target=\"_parent\"><img src=\"https://colab.research.google.com/assets/colab-badge.svg\" alt=\"Open In Colab\"/></a>"
      ]
    },
    {
      "cell_type": "markdown",
      "source": [
        "multiples of 3 from 1 to b"
      ],
      "metadata": {
        "id": "DPtj-isGtrJT"
      }
    },
    {
      "cell_type": "code",
      "source": [
        "a= int(input())\n",
        "b=int(input())\n",
        "if a%3==0:\n",
        "  s=a\n",
        "elif a%3==1:\n",
        "  s=a+2\n",
        "else:\n",
        "  s=a+1\n",
        "for i in range(s,b+1,3):\n",
        "  print(i)"
      ],
      "metadata": {
        "colab": {
          "base_uri": "https://localhost:8080/"
        },
        "id": "3k1SAMGstwCM",
        "outputId": "91d46792-3d49-48d6-ed24-a95d59ce44e8"
      },
      "execution_count": 2,
      "outputs": [
        {
          "output_type": "stream",
          "name": "stdout",
          "text": [
            "2\n",
            "80\n",
            "3\n",
            "6\n",
            "9\n",
            "12\n",
            "15\n",
            "18\n",
            "21\n",
            "24\n",
            "27\n",
            "30\n",
            "33\n",
            "36\n",
            "39\n",
            "42\n",
            "45\n",
            "48\n",
            "51\n",
            "54\n",
            "57\n",
            "60\n",
            "63\n",
            "66\n",
            "69\n",
            "72\n",
            "75\n",
            "78\n"
          ]
        }
      ]
    },
    {
      "cell_type": "markdown",
      "source": [
        "check if a number is prime using for loop"
      ],
      "metadata": {
        "id": "KhJ8c2406T7Q"
      }
    },
    {
      "cell_type": "code",
      "source": [
        "n=int(input())\n",
        "flag=False\n",
        "for i in range(2,n):\n",
        "  if(n%i==0):\n",
        "    flag=True\n",
        "if(flag):\n",
        "  print(\"Not prime\")\n",
        "else:\n",
        "  print(\"Prime\")"
      ],
      "metadata": {
        "colab": {
          "base_uri": "https://localhost:8080/"
        },
        "id": "s6OdPQ1m6Ysg",
        "outputId": "11dbb0e9-fcf2-42f8-cd32-06bc4617a20d"
      },
      "execution_count": 4,
      "outputs": [
        {
          "output_type": "stream",
          "name": "stdout",
          "text": [
            "4\n",
            "Not prime\n"
          ]
        }
      ]
    },
    {
      "cell_type": "markdown",
      "source": [
        "print the following pattern\n",
        "      1\n",
        "     232\n",
        "    34543\n",
        "   4567654"
      ],
      "metadata": {
        "id": "sd4yCnuJrQVL"
      }
    },
    {
      "cell_type": "code",
      "source": [
        "n=int(input())\n",
        "for i in range(1,n+1,1):\n",
        "  for s in range(n-i):\n",
        "    print(\" \",end='')\n",
        "  for j in range(i,2*i,1):\n",
        "    print(j,end='')\n",
        "  for j in range(2*i-2,i-1,-1):\n",
        "    print(j,end='')\n",
        "  print()"
      ],
      "metadata": {
        "colab": {
          "base_uri": "https://localhost:8080/"
        },
        "id": "EcD_lrsRrgW2",
        "outputId": "0fe6d858-0791-495f-d615-8f0536591d05"
      },
      "execution_count": 3,
      "outputs": [
        {
          "output_type": "stream",
          "name": "stdout",
          "text": [
            "4\n",
            "   1\n",
            "  232\n",
            " 34543\n",
            "4567654\n"
          ]
        }
      ]
    },
    {
      "cell_type": "code",
      "source": [
        "i=1\n",
        "while i<5:\n",
        "  if(i==3):\n",
        "    break\n",
        "  print(i)\n",
        "  i=i+1"
      ],
      "metadata": {
        "colab": {
          "base_uri": "https://localhost:8080/"
        },
        "id": "KM4Uyfl4HELl",
        "outputId": "684ae1d5-5bb9-401d-c35b-d18ca952355c"
      },
      "execution_count": 4,
      "outputs": [
        {
          "output_type": "stream",
          "name": "stdout",
          "text": [
            "1\n",
            "2\n"
          ]
        }
      ]
    },
    {
      "cell_type": "code",
      "source": [
        "i=1\n",
        "while i<3:\n",
        "    j=1\n",
        "    while j<5:\n",
        "        if j==3:\n",
        "            break\n",
        "        print(j,end=\" \")\n",
        "        j = j + 1\n",
        "    i = i + 1"
      ],
      "metadata": {
        "colab": {
          "base_uri": "https://localhost:8080/"
        },
        "id": "LWIweKECHmhN",
        "outputId": "763310f4-dc68-4d91-8254-391521c758e8"
      },
      "execution_count": 5,
      "outputs": [
        {
          "output_type": "stream",
          "name": "stdout",
          "text": [
            "1 2 1 2 "
          ]
        }
      ]
    },
    {
      "cell_type": "markdown",
      "source": [
        "print all the even numbers upto a given number except multiples of 7"
      ],
      "metadata": {
        "id": "HlSLmdIkiXZS"
      }
    },
    {
      "cell_type": "code",
      "source": [
        "n=int(input())\n",
        "for i in range(2,n+1,2):\n",
        "  if(i%7==0):\n",
        "    continue\n",
        "  print(i)"
      ],
      "metadata": {
        "colab": {
          "base_uri": "https://localhost:8080/"
        },
        "id": "m82Wh50EieK8",
        "outputId": "f51d0ee4-8d97-4c0d-ac0f-d52ab3db88c1"
      },
      "execution_count": 9,
      "outputs": [
        {
          "output_type": "stream",
          "name": "stdout",
          "text": [
            "100\n",
            "2\n",
            "4\n",
            "6\n",
            "8\n",
            "10\n",
            "12\n",
            "16\n",
            "18\n",
            "20\n",
            "22\n",
            "24\n",
            "26\n",
            "30\n",
            "32\n",
            "34\n",
            "36\n",
            "38\n",
            "40\n",
            "44\n",
            "46\n",
            "48\n",
            "50\n",
            "52\n",
            "54\n",
            "58\n",
            "60\n",
            "62\n",
            "64\n",
            "66\n",
            "68\n",
            "72\n",
            "74\n",
            "76\n",
            "78\n",
            "80\n",
            "82\n",
            "86\n",
            "88\n",
            "90\n",
            "92\n",
            "94\n",
            "96\n",
            "100\n"
          ]
        }
      ]
    },
    {
      "cell_type": "markdown",
      "source": [
        "print all even numbers twice and print mulitiples of 7 only once"
      ],
      "metadata": {
        "id": "-2Py5BSmjUO0"
      }
    },
    {
      "cell_type": "code",
      "source": [
        "n=int(input())\n",
        "for i in range(2,n+1,2):\n",
        "  print(i)\n",
        "  if(i%7==0):\n",
        "    continue\n",
        "  print(i)"
      ],
      "metadata": {
        "colab": {
          "base_uri": "https://localhost:8080/"
        },
        "id": "CL9h4PXmjd2Y",
        "outputId": "c6159ebd-f5be-4a6a-ecad-3b885574b810"
      },
      "execution_count": 11,
      "outputs": [
        {
          "output_type": "stream",
          "name": "stdout",
          "text": [
            "100\n",
            "2\n",
            "2\n",
            "4\n",
            "4\n",
            "6\n",
            "6\n",
            "8\n",
            "8\n",
            "10\n",
            "10\n",
            "12\n",
            "12\n",
            "14\n",
            "16\n",
            "16\n",
            "18\n",
            "18\n",
            "20\n",
            "20\n",
            "22\n",
            "22\n",
            "24\n",
            "24\n",
            "26\n",
            "26\n",
            "28\n",
            "30\n",
            "30\n",
            "32\n",
            "32\n",
            "34\n",
            "34\n",
            "36\n",
            "36\n",
            "38\n",
            "38\n",
            "40\n",
            "40\n",
            "42\n",
            "44\n",
            "44\n",
            "46\n",
            "46\n",
            "48\n",
            "48\n",
            "50\n",
            "50\n",
            "52\n",
            "52\n",
            "54\n",
            "54\n",
            "56\n",
            "58\n",
            "58\n",
            "60\n",
            "60\n",
            "62\n",
            "62\n",
            "64\n",
            "64\n",
            "66\n",
            "66\n",
            "68\n",
            "68\n",
            "70\n",
            "72\n",
            "72\n",
            "74\n",
            "74\n",
            "76\n",
            "76\n",
            "78\n",
            "78\n",
            "80\n",
            "80\n",
            "82\n",
            "82\n",
            "84\n",
            "86\n",
            "86\n",
            "88\n",
            "88\n",
            "90\n",
            "90\n",
            "92\n",
            "92\n",
            "94\n",
            "94\n",
            "96\n",
            "96\n",
            "98\n",
            "100\n",
            "100\n"
          ]
        }
      ]
    },
    {
      "cell_type": "code",
      "source": [
        "i=1\n",
        "while i<3:\n",
        "    j=0\n",
        "    while j<5:\n",
        "        j = j +1\n",
        "        if j==3:\n",
        "            continue\n",
        "        print(j,end='')\n",
        "    i = i +1"
      ],
      "metadata": {
        "colab": {
          "base_uri": "https://localhost:8080/"
        },
        "id": "I2WvnIwmlwjt",
        "outputId": "b83459ba-2eb2-4237-ed9d-941e4b174af6"
      },
      "execution_count": 13,
      "outputs": [
        {
          "output_type": "stream",
          "name": "stdout",
          "text": [
            "12451245"
          ]
        }
      ]
    },
    {
      "cell_type": "code",
      "source": [
        "Print the following pattern for the given number of rows.\n",
        "Pattern for N = 4\n",
        "1111\n",
        "000\n",
        "11\n",
        "0"
      ],
      "metadata": {
        "id": "Z2U3xHBNnyhu"
      },
      "execution_count": null,
      "outputs": []
    },
    {
      "cell_type": "code",
      "source": [
        "n = int(input())\n",
        "\n",
        "for i in range(1, n+1, 1):\n",
        "    for j in range(1, n-i+2, 1):\n",
        "        if(i%2 != 0):\n",
        "            print('1', end ='')\n",
        "        else:\n",
        "            print('0', end ='')\n",
        "    print()\n",
        ""
      ],
      "metadata": {
        "colab": {
          "base_uri": "https://localhost:8080/"
        },
        "id": "X5YWrND3n9G-",
        "outputId": "70c3564b-30f4-47ec-e6df-625e3371aaf9"
      },
      "execution_count": 14,
      "outputs": [
        {
          "output_type": "stream",
          "name": "stdout",
          "text": [
            "5\n",
            "11111\n",
            "0000\n",
            "111\n",
            "00\n",
            "1\n"
          ]
        }
      ]
    },
    {
      "cell_type": "code",
      "source": [
        "num=int(input())\n",
        "i=0\n",
        "while num>i:\n",
        "    spaces=1\n",
        "    while spaces<=i:\n",
        "        print(\" \",end=\"\")\n",
        "        spaces=spaces+1\n",
        "    j=1\n",
        "    while num-i >=j:\n",
        "        print(j+i,end=\"\")\n",
        "        j=j+1\n",
        "    i=i+1\n",
        "    print()\n",
        "while i>1:\n",
        "    spaces=1\n",
        "    while spaces<=i-2:\n",
        "        print(\" \",end=\"\")\n",
        "        spaces=spaces+1\n",
        "    j=num\n",
        "    k=1\n",
        "    while j>=i-1:\n",
        "        print(i+k-2,end=\"\")\n",
        "        j=j-1\n",
        "        k=k+1\n",
        "\n",
        "    i=i-1\n",
        "    print()"
      ],
      "metadata": {
        "colab": {
          "base_uri": "https://localhost:8080/"
        },
        "id": "CJworjQto7W8",
        "outputId": "c930dc1b-619e-4193-b012-d1f4fc39af5b"
      },
      "execution_count": 15,
      "outputs": [
        {
          "output_type": "stream",
          "name": "stdout",
          "text": [
            "5\n",
            "12345\n",
            " 2345\n",
            "  345\n",
            "   45\n",
            "    5\n",
            "   45\n",
            "  345\n",
            " 2345\n",
            "12345\n"
          ]
        }
      ]
    },
    {
      "cell_type": "markdown",
      "source": [
        "Print the following pattern for the given number of rows.\n",
        "Note: N is always odd.\n",
        "\n",
        "\n",
        "Pattern for N = 5\n",
        "\n"
      ],
      "metadata": {
        "id": "rl8B9Wd3msL9"
      }
    },
    {
      "cell_type": "code",
      "source": [
        "n = int(input())\n",
        "m = n//2 + 1\n",
        "for i in range(1, m+1, 1):\n",
        "    for sp in range(m-i):\n",
        "        print(' ',end = '')\n",
        "\n",
        "    for j in range(2*i - 1):\n",
        "        print('*', end = '')\n",
        "\n",
        "    print()\n",
        "\n",
        "for i in range(1, m, 1):\n",
        "    for sp in range(i):\n",
        "        print(' ', end = '')\n",
        "\n",
        "    for j in range(1,n-2*i + 1, 1):\n",
        "        print('*', end ='')\n",
        "    print()"
      ],
      "metadata": {
        "colab": {
          "base_uri": "https://localhost:8080/"
        },
        "id": "Nbmteu6Qm2sS",
        "outputId": "870ffcf5-6d9b-4c4a-9485-8ff882f3c816"
      },
      "execution_count": 1,
      "outputs": [
        {
          "output_type": "stream",
          "name": "stdout",
          "text": [
            "5\n",
            "  *\n",
            " ***\n",
            "*****\n",
            " ***\n",
            "  *\n"
          ]
        }
      ]
    },
    {
      "cell_type": "markdown",
      "source": [
        "Print the following pattern for the given number of rows.\n",
        "Pattern for N = 4\n",
        "4444444\n",
        "4333334\n",
        "4322234\n",
        "4321234\n",
        "4322234\n",
        "4333334  \n",
        "4444444"
      ],
      "metadata": {
        "id": "tzrRK3PJnDM2"
      }
    },
    {
      "cell_type": "code",
      "source": [
        "n = int(input())\n",
        "\n",
        "for i in range(1, n+1, 1):\n",
        "    for up in range(1, i, 1):\n",
        "        print(n-up+1,end = '')\n",
        "\n",
        "    for j in range(i, 2*n-i+1, 1):\n",
        "        print(n-i+1,end = '')\n",
        "\n",
        "    for lp in range(2*n-i, 2*n-1, 1):\n",
        "        print(lp-n+2,end = '')\n",
        "\n",
        "    print()\n",
        "\n",
        "\n",
        "for i in range(n-1, 0, -1):\n",
        "    for up in range(1, i, 1):\n",
        "        print(n-up+1,end = '')\n",
        "\n",
        "    for j in range(i, 2*n-i+1, 1):\n",
        "        print(n-i+1,end = '')\n",
        "\n",
        "    for lp in range(2*n-i, 2*n-1, 1):\n",
        "        print(lp-n+2,end = '')\n",
        "\n",
        "\n",
        "    print()\n"
      ],
      "metadata": {
        "colab": {
          "base_uri": "https://localhost:8080/"
        },
        "id": "yEUS-F84nMaZ",
        "outputId": "7d59e0de-c594-4688-cf05-7a35b2bfba29"
      },
      "execution_count": 2,
      "outputs": [
        {
          "output_type": "stream",
          "name": "stdout",
          "text": [
            "4\n",
            "4444444\n",
            "4333334\n",
            "4322234\n",
            "4321234\n",
            "4322234\n",
            "4333334\n",
            "4444444\n"
          ]
        }
      ]
    },
    {
      "cell_type": "markdown",
      "source": [
        "Print the following pattern for the given number of rows.\n",
        "Pattern for N = 5\n",
        " 1    2   3    4   5\n",
        " 11   12  13   14  15\n",
        " 21   22  23   24  25\n",
        " 16   17  18   19  20\n",
        " 6    7    8   9   10"
      ],
      "metadata": {
        "id": "cj7d1gaDnURk"
      }
    },
    {
      "cell_type": "code",
      "source": [
        "n = int(input())\n",
        "\n",
        "if n%2 == 0:\n",
        "    m = n//2\n",
        "else:\n",
        "    m = n//2+1\n",
        "\n",
        "for i in range(1, m+1, 1):\n",
        "    for j in range(1, n+1, 1):\n",
        "        print(2*n*(i-1)+j, end ='')\n",
        "        print(' ',end = '')\n",
        "    print()\n",
        "\n",
        "r = n - m\n",
        "for i in range(r, 0, -1):\n",
        "    for j in range(1, n+1, 1):\n",
        "        print((2*i-1)*n + j, end ='')\n",
        "        print(' ', end ='')\n",
        "    print()"
      ],
      "metadata": {
        "colab": {
          "base_uri": "https://localhost:8080/"
        },
        "id": "lFrHERHjnZDk",
        "outputId": "1d97754a-68e6-40cb-e044-db0c6f183e54"
      },
      "execution_count": 3,
      "outputs": [
        {
          "output_type": "stream",
          "name": "stdout",
          "text": [
            "4\n",
            "1 2 3 4 \n",
            "9 10 11 12 \n",
            "13 14 15 16 \n",
            "5 6 7 8 \n"
          ]
        }
      ]
    }
  ]
}