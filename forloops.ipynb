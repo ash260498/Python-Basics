{
  "nbformat": 4,
  "nbformat_minor": 0,
  "metadata": {
    "colab": {
      "provenance": [],
      "authorship_tag": "ABX9TyOjbWhSBct00vIISgAqCdY2",
      "include_colab_link": true
    },
    "kernelspec": {
      "name": "python3",
      "display_name": "Python 3"
    },
    "language_info": {
      "name": "python"
    }
  },
  "cells": [
    {
      "cell_type": "markdown",
      "metadata": {
        "id": "view-in-github",
        "colab_type": "text"
      },
      "source": [
        "<a href=\"https://colab.research.google.com/github/ash260498/Python-Basics/blob/main/forloops.ipynb\" target=\"_parent\"><img src=\"https://colab.research.google.com/assets/colab-badge.svg\" alt=\"Open In Colab\"/></a>"
      ]
    },
    {
      "cell_type": "markdown",
      "source": [
        "multiples of 3 from 1 to b"
      ],
      "metadata": {
        "id": "DPtj-isGtrJT"
      }
    },
    {
      "cell_type": "code",
      "source": [
        "a= int(input())\n",
        "b=int(input())\n",
        "if a%3==0:\n",
        "  s=a\n",
        "elif a%3==1:\n",
        "  s=a+2\n",
        "else:\n",
        "  s=a+1\n",
        "for i in range(s,b+1,3):\n",
        "  print(i)"
      ],
      "metadata": {
        "colab": {
          "base_uri": "https://localhost:8080/"
        },
        "id": "3k1SAMGstwCM",
        "outputId": "91d46792-3d49-48d6-ed24-a95d59ce44e8"
      },
      "execution_count": 2,
      "outputs": [
        {
          "output_type": "stream",
          "name": "stdout",
          "text": [
            "2\n",
            "80\n",
            "3\n",
            "6\n",
            "9\n",
            "12\n",
            "15\n",
            "18\n",
            "21\n",
            "24\n",
            "27\n",
            "30\n",
            "33\n",
            "36\n",
            "39\n",
            "42\n",
            "45\n",
            "48\n",
            "51\n",
            "54\n",
            "57\n",
            "60\n",
            "63\n",
            "66\n",
            "69\n",
            "72\n",
            "75\n",
            "78\n"
          ]
        }
      ]
    },
    {
      "cell_type": "markdown",
      "source": [
        "check if a number is prime using for loop"
      ],
      "metadata": {
        "id": "KhJ8c2406T7Q"
      }
    },
    {
      "cell_type": "code",
      "source": [
        "n=int(input())\n",
        "flag=False\n",
        "for i in range(2,n):\n",
        "  if(n%i==0):\n",
        "    flag=True\n",
        "if(flag):\n",
        "  print(\"Not prime\")\n",
        "else:\n",
        "  print(\"Prime\")"
      ],
      "metadata": {
        "colab": {
          "base_uri": "https://localhost:8080/"
        },
        "id": "s6OdPQ1m6Ysg",
        "outputId": "11dbb0e9-fcf2-42f8-cd32-06bc4617a20d"
      },
      "execution_count": 4,
      "outputs": [
        {
          "output_type": "stream",
          "name": "stdout",
          "text": [
            "4\n",
            "Not prime\n"
          ]
        }
      ]
    },
    {
      "cell_type": "markdown",
      "source": [
        "print the following pattern\n",
        "      1\n",
        "     232\n",
        "    34543\n",
        "   4567654"
      ],
      "metadata": {
        "id": "sd4yCnuJrQVL"
      }
    },
    {
      "cell_type": "code",
      "source": [
        "n=int(input())\n",
        "for i in range(1,n+1,1):\n",
        "  for s in range(n-i):\n",
        "    print(\" \",end='')\n",
        "  for j in range(i,2*i,1):\n",
        "    print(j,end='')\n",
        "  for j in range(2*i-2,i-1,-1):\n",
        "    print(j,end='')\n",
        "  print()"
      ],
      "metadata": {
        "colab": {
          "base_uri": "https://localhost:8080/"
        },
        "id": "EcD_lrsRrgW2",
        "outputId": "0fe6d858-0791-495f-d615-8f0536591d05"
      },
      "execution_count": 3,
      "outputs": [
        {
          "output_type": "stream",
          "name": "stdout",
          "text": [
            "4\n",
            "   1\n",
            "  232\n",
            " 34543\n",
            "4567654\n"
          ]
        }
      ]
    }
  ]
}