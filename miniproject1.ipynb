{
  "nbformat": 4,
  "nbformat_minor": 0,
  "metadata": {
    "colab": {
      "provenance": [],
      "authorship_tag": "ABX9TyPMbK8TocdZNbOxxYCxhAbA",
      "include_colab_link": true
    },
    "kernelspec": {
      "name": "python3",
      "display_name": "Python 3"
    },
    "language_info": {
      "name": "python"
    }
  },
  "cells": [
    {
      "cell_type": "markdown",
      "metadata": {
        "id": "view-in-github",
        "colab_type": "text"
      },
      "source": [
        "<a href=\"https://colab.research.google.com/github/ash260498/Python-Basics/blob/main/miniproject1.ipynb\" target=\"_parent\"><img src=\"https://colab.research.google.com/assets/colab-badge.svg\" alt=\"Open In Colab\"/></a>"
      ]
    },
    {
      "cell_type": "markdown",
      "source": [
        "This miniproject helps you to create a band name according to the two criterias.\n",
        "The criteria used here is the city you grew up with and the name of your pet.\n",
        "Steps:\n",
        "1. Create a greeting for your program\n",
        "2. Ask the user the city they grew up\n",
        "3. Ask the user the name of a pet\n",
        "4. Combine the name of your city and pet\n",
        "5. Make sure the input cursor shows on a next line.\n"
      ],
      "metadata": {
        "id": "9KTFbXaFpNTT"
      }
    },
    {
      "cell_type": "code",
      "source": [
        "print(\"Welcome to the band name generator\")\n",
        "text1=input(\"Which city did you grew up in\\n\")\n",
        "text2= input(\"Enter the name of your pet\\n\")\n",
        "print(\"Your band name could be\", text1 + \" \" +text2)\n"
      ],
      "metadata": {
        "colab": {
          "base_uri": "https://localhost:8080/"
        },
        "id": "ZaDf3fJipkPp",
        "outputId": "0561eea5-c3bf-4d60-fa55-8ae4e62ee5f8"
      },
      "execution_count": 6,
      "outputs": [
        {
          "output_type": "stream",
          "name": "stdout",
          "text": [
            "Welcome to the band name generator\n",
            "Which city did you grew up inBangalore\n",
            "Enter the name of your petShadow\n",
            "Your band name could be Bangalore Shadow\n"
          ]
        }
      ]
    }
  ]
}