{
  "nbformat": 4,
  "nbformat_minor": 0,
  "metadata": {
    "colab": {
      "provenance": [],
      "authorship_tag": "ABX9TyPUVBrWFRCJs5rBpI59A2SG",
      "include_colab_link": true
    },
    "kernelspec": {
      "name": "python3",
      "display_name": "Python 3"
    },
    "language_info": {
      "name": "python"
    }
  },
  "cells": [
    {
      "cell_type": "markdown",
      "metadata": {
        "id": "view-in-github",
        "colab_type": "text"
      },
      "source": [
        "<a href=\"https://colab.research.google.com/github/ash260498/Python-Basics/blob/main/PracticeListsnDictionaries.ipynb\" target=\"_parent\"><img src=\"https://colab.research.google.com/assets/colab-badge.svg\" alt=\"Open In Colab\"/></a>"
      ]
    },
    {
      "cell_type": "code",
      "execution_count": null,
      "metadata": {
        "colab": {
          "base_uri": "https://localhost:8080/"
        },
        "id": "Kb-IzOPFUheH",
        "outputId": "a88a1e1b-7e42-4ab8-b2da-cb307cbc9569"
      },
      "outputs": [
        {
          "output_type": "stream",
          "name": "stdout",
          "text": [
            "abba\n",
            "Palindrome\n"
          ]
        }
      ],
      "source": [
        "t=input()\n",
        "def isPalindrome(t):\n",
        "  pal=t[::-1]\n",
        "  if(pal==t):\n",
        "    return True\n",
        "  else:\n",
        "    return False\n",
        "pal=isPalindrome(t)\n",
        "if isPalindrome(t):\n",
        "  print(\"Palindrome\")\n",
        "else:\n",
        "  print(\"Not Palindrome\")\n",
        "\n"
      ]
    },
    {
      "cell_type": "code",
      "source": [],
      "metadata": {
        "id": "jERp6bjWRhAJ"
      },
      "execution_count": null,
      "outputs": []
    },
    {
      "cell_type": "code",
      "source": [
        "def fact(n):\n",
        "  fact=1\n",
        "  if(n<0):\n",
        "    return False\n",
        "  elif n==0:\n",
        "    return 1\n",
        "  else:\n",
        "    for i in range(1,n+1):\n",
        "      fact=fact*i\n",
        "    return fact\n",
        "\n",
        "\n",
        "x=int(input())\n",
        "print(fact(x))\n"
      ],
      "metadata": {
        "colab": {
          "base_uri": "https://localhost:8080/"
        },
        "id": "3KLucV82WlZD",
        "outputId": "7b333737-18cb-4165-9d14-96577af25400"
      },
      "execution_count": null,
      "outputs": [
        {
          "output_type": "stream",
          "name": "stdout",
          "text": [
            "4\n",
            "24\n"
          ]
        }
      ]
    },
    {
      "cell_type": "code",
      "source": [
        "def find_largest_even(numbers):\n",
        "    largest_even = None\n",
        "\n",
        "    for num in numbers:\n",
        "        if num % 2 == 0:\n",
        "            if largest_even is None or num > largest_even:\n",
        "                largest_even = num\n",
        "\n",
        "    return largest_even\n",
        "\n",
        "# Example usage:\n",
        "numbers = [2, 8, 5, 12, 7, 10, 3, 6]\n",
        "result = find_largest_even(numbers)\n",
        "\n",
        "if result is not None:\n",
        "    print(f\"The largest even number in the list is: {result}\")\n",
        "else:\n",
        "    print(\"No even numbers found in the list.\")\n"
      ],
      "metadata": {
        "colab": {
          "base_uri": "https://localhost:8080/"
        },
        "id": "VzTSYh3USUUG",
        "outputId": "8921c193-721a-4fc4-ebee-3f7d47f1ba78"
      },
      "execution_count": null,
      "outputs": [
        {
          "output_type": "stream",
          "name": "stdout",
          "text": [
            "The largest even number in the list is: 12\n"
          ]
        }
      ]
    },
    {
      "cell_type": "code",
      "source": [
        "input_str = input()\n",
        "user_numbers = eval(input_str)\n",
        "def find_largest(numbers):\n",
        "  largest_even=None\n",
        "  for num in numbers:\n",
        "    if num%2==0:\n",
        "      if largest_even is None or num>largest_even:\n",
        "        largest_even=num\n",
        "  return largest_even\n",
        "\n",
        "print(find_largest(user_numbers))"
      ],
      "metadata": {
        "colab": {
          "base_uri": "https://localhost:8080/"
        },
        "id": "1uPU1KT_plew",
        "outputId": "0e3d9a4f-0cd4-4a7f-86d3-a4bf1e2af564"
      },
      "execution_count": null,
      "outputs": [
        {
          "output_type": "stream",
          "name": "stdout",
          "text": [
            "[2,4,6,9]\n",
            "6\n"
          ]
        }
      ]
    },
    {
      "cell_type": "code",
      "source": [
        "m=int(input())\n",
        "n=int(input())\n",
        "if m>n:\n",
        "  mn=n\n",
        "else:\n",
        "  mn=m\n",
        "hcf=1\n",
        "for i in range(1,mn+1):\n",
        "  if m%i==0 and n%i==0:\n",
        "    hcf=i\n",
        "print(hcf)"
      ],
      "metadata": {
        "colab": {
          "base_uri": "https://localhost:8080/"
        },
        "id": "4n9FYTGcsBbw",
        "outputId": "d4ca95dd-c8b3-4282-9745-4d22d0d93326"
      },
      "execution_count": null,
      "outputs": [
        {
          "output_type": "stream",
          "name": "stdout",
          "text": [
            "2\n",
            "8\n",
            "2\n"
          ]
        }
      ]
    },
    {
      "cell_type": "code",
      "source": [
        "inputstr=input()\n",
        "usernumbers=eval(inputstr)\n",
        "def large_even(numbers):\n",
        "  largest_even=None\n",
        "  for num in numbers:\n",
        "    if num%2==0:\n",
        "      if largest_even is None or num>largest_even:\n",
        "        largest_even=num\n",
        "  return largest_even\n",
        "print(large_even(user_numbers))"
      ],
      "metadata": {
        "colab": {
          "base_uri": "https://localhost:8080/"
        },
        "id": "UCghvgL9tVfV",
        "outputId": "a490da8b-2648-468c-acbd-ae052cc55f7d"
      },
      "execution_count": null,
      "outputs": [
        {
          "output_type": "stream",
          "name": "stdout",
          "text": [
            "[2,4,6,9]\n",
            "6\n"
          ]
        }
      ]
    },
    {
      "cell_type": "code",
      "source": [
        "n=int(input())\n",
        "rev=0\n",
        "while n>0:\n",
        "  rev=rev*10 +n%10\n",
        "  n=n//10\n",
        "print(rev)\n"
      ],
      "metadata": {
        "colab": {
          "base_uri": "https://localhost:8080/"
        },
        "id": "ea-V3ol09eRG",
        "outputId": "4d610f55-294e-42ca-d433-a4f684929f2a"
      },
      "execution_count": null,
      "outputs": [
        {
          "output_type": "stream",
          "name": "stdout",
          "text": [
            "1234\n",
            "4321\n"
          ]
        }
      ]
    },
    {
      "cell_type": "code",
      "source": [
        "start=int(input())\n",
        "end=int(input())\n",
        "for i in range(start,end+1):\n",
        "  flag=0\n",
        "  for j in range(2,i):\n",
        "    if(i%j==0):\n",
        "      flag=1\n",
        "  if(flag==0):\n",
        "      print(i,end=' ')"
      ],
      "metadata": {
        "colab": {
          "base_uri": "https://localhost:8080/"
        },
        "id": "3eTFzDHt-EG9",
        "outputId": "60a6b1c5-a883-43c3-8fdf-ebe11a02845d"
      },
      "execution_count": null,
      "outputs": [
        {
          "output_type": "stream",
          "name": "stdout",
          "text": [
            "5\n",
            "100\n",
            "5 7 11 13 17 19 23 29 31 37 41 43 47 53 59 61 67 71 73 79 83 89 97 "
          ]
        }
      ]
    },
    {
      "cell_type": "code",
      "source": [
        "start=int(input())\n",
        "end=int(input())\n",
        "for n in range(start,end+1):\n",
        "  if(n%2==0):\n",
        "    print(n)"
      ],
      "metadata": {
        "colab": {
          "base_uri": "https://localhost:8080/"
        },
        "id": "fZ1lcIppBKj_",
        "outputId": "92cb21a8-5e53-45d1-9167-8518c0085ae7"
      },
      "execution_count": null,
      "outputs": [
        {
          "output_type": "stream",
          "name": "stdout",
          "text": [
            "2\n",
            "20\n",
            "2\n",
            "4\n",
            "6\n",
            "8\n",
            "10\n",
            "12\n",
            "14\n",
            "16\n",
            "18\n",
            "20\n"
          ]
        }
      ]
    },
    {
      "cell_type": "code",
      "source": [
        "n=int(input())\n",
        "n1=0\n",
        "n2=1\n",
        "count=2\n",
        "if n<0:\n",
        "  print(\"Enter positive numbers\")\n",
        "elif n==1:\n",
        "  print(n1)\n",
        "  print(n2)\n",
        "else:\n",
        "  print(n1)\n",
        "  print(n2)\n",
        "  while count<n:\n",
        "    n3=n1+n2\n",
        "    print(n3)\n",
        "    n1=n2\n",
        "    n2=n3\n",
        "    count+=1"
      ],
      "metadata": {
        "colab": {
          "base_uri": "https://localhost:8080/"
        },
        "id": "cPTsM6gZDJJ-",
        "outputId": "57dda622-add5-47c3-a874-5d4c025f1576"
      },
      "execution_count": null,
      "outputs": [
        {
          "output_type": "stream",
          "name": "stdout",
          "text": [
            "10\n",
            "1\n",
            "2\n",
            "3\n",
            "5\n",
            "8\n",
            "13\n",
            "21\n",
            "34\n"
          ]
        }
      ]
    },
    {
      "cell_type": "code",
      "source": [
        "n = int(input())\n",
        "n1 = 0\n",
        "n2 = 1\n",
        "count = 2\n",
        "\n",
        "if n < 0:\n",
        "    print(\"Enter positive numbers\")\n",
        "elif n == 1:\n",
        "    print(n1)\n",
        "elif n == 2:\n",
        "    print(n1)\n",
        "    print(n2)\n",
        "else:\n",
        "    print(n1)\n",
        "    print(n2)\n",
        "    while count < n:\n",
        "        n3 = n1 + n2\n",
        "        print(n3)\n",
        "        n1 = n2\n",
        "        n2 = n3\n",
        "        count += 1\n"
      ],
      "metadata": {
        "colab": {
          "base_uri": "https://localhost:8080/"
        },
        "id": "z4SWq_45EVta",
        "outputId": "b7e3474e-de1b-4bce-cf51-acca18297c9d"
      },
      "execution_count": null,
      "outputs": [
        {
          "output_type": "stream",
          "name": "stdout",
          "text": [
            "10\n",
            "0\n",
            "1\n",
            "1\n",
            "2\n",
            "3\n",
            "5\n",
            "8\n",
            "13\n",
            "21\n",
            "34\n"
          ]
        }
      ]
    },
    {
      "cell_type": "code",
      "source": [
        "string=\"({})\"\n",
        "d1={\"(\":\")\",\"[\":\"]\",\"{\":\"}\"}\n",
        "stack=[]\n",
        "for i in range(0,length(str)):\n",
        "  if d1(str[i])!=None:\n",
        "    stack.append(d1[i])\n",
        "  else:\n",
        "    if stack.pop(str(i)!=dict(str(i))):\n",
        "      return False\n",
        "return length(stack(i))"
      ],
      "metadata": {
        "colab": {
          "base_uri": "https://localhost:8080/",
          "height": 140
        },
        "id": "DLQGvcQzUFka",
        "outputId": "9187eb0c-3612-4424-e167-c3528699b2c7"
      },
      "execution_count": 36,
      "outputs": [
        {
          "output_type": "error",
          "ename": "SyntaxError",
          "evalue": "ignored",
          "traceback": [
            "\u001b[0;36m  File \u001b[0;32m\"<ipython-input-36-7bc896639c48>\"\u001b[0;36m, line \u001b[0;32m9\u001b[0m\n\u001b[0;31m    return False\u001b[0m\n\u001b[0m    ^\u001b[0m\n\u001b[0;31mSyntaxError\u001b[0m\u001b[0;31m:\u001b[0m 'return' outside function\n"
          ]
        }
      ]
    },
    {
      "cell_type": "code",
      "source": [
        "def isValid(s):\n",
        "    d1 = {\"(\": \")\", \"[\": \"]\", \"{\": \"}\"}\n",
        "    stack = []\n",
        "\n",
        "    for char in s:\n",
        "        if char in d1:\n",
        "            stack.append(d1[char])\n",
        "        elif not stack or char != stack.pop():\n",
        "            return False\n",
        "\n",
        "    return not stack\n",
        "\n",
        "# Example usage:\n",
        "input_string = \"\"\n",
        "result = isValid(input_string)\n",
        "print(result)"
      ],
      "metadata": {
        "colab": {
          "base_uri": "https://localhost:8080/"
        },
        "id": "aT_5lO8rgXJ8",
        "outputId": "fabd7055-5b1a-4ab7-b7f3-bdadad5a9c41"
      },
      "execution_count": 37,
      "outputs": [
        {
          "output_type": "stream",
          "name": "stdout",
          "text": [
            "True\n"
          ]
        }
      ]
    },
    {
      "cell_type": "code",
      "source": [
        "dictionary={1:'Apple',2:'Ball',3:'Cat'}\n",
        "dictionary[1]\n",
        "\n",
        "\n"
      ],
      "metadata": {
        "colab": {
          "base_uri": "https://localhost:8080/",
          "height": 36
        },
        "id": "iCUaupQghP8q",
        "outputId": "6a89662c-f037-4848-ffe1-165ccee2ef78"
      },
      "execution_count": 11,
      "outputs": [
        {
          "output_type": "execute_result",
          "data": {
            "text/plain": [
              "'Apple'"
            ],
            "application/vnd.google.colaboratory.intrinsic+json": {
              "type": "string"
            }
          },
          "metadata": {},
          "execution_count": 11
        }
      ]
    },
    {
      "cell_type": "code",
      "source": [
        "dictionary.get(1)"
      ],
      "metadata": {
        "colab": {
          "base_uri": "https://localhost:8080/",
          "height": 36
        },
        "id": "u4jVhvJIiZLp",
        "outputId": "93d41446-d60a-43e0-f840-96b74f67a4ce"
      },
      "execution_count": 13,
      "outputs": [
        {
          "output_type": "execute_result",
          "data": {
            "text/plain": [
              "'Apple'"
            ],
            "application/vnd.google.colaboratory.intrinsic+json": {
              "type": "string"
            }
          },
          "metadata": {},
          "execution_count": 13
        }
      ]
    },
    {
      "cell_type": "code",
      "source": [
        "key=[1,2,3,4]\n",
        "value=['A','B','C','D']\n",
        "dictionary1=dict(zip(key,value))\n",
        "print(dictionary1)"
      ],
      "metadata": {
        "colab": {
          "base_uri": "https://localhost:8080/"
        },
        "id": "ycpmBWC0kBK3",
        "outputId": "41103bfa-8ab1-42aa-d802-3dc2eec2aad3"
      },
      "execution_count": 14,
      "outputs": [
        {
          "output_type": "stream",
          "name": "stdout",
          "text": [
            "{1: 'A', 2: 'B', 3: 'C', 4: 'D'}\n"
          ]
        }
      ]
    },
    {
      "cell_type": "code",
      "source": [
        "dictionary1.get(1,'Not Found')"
      ],
      "metadata": {
        "colab": {
          "base_uri": "https://localhost:8080/",
          "height": 36
        },
        "id": "koyhvhwPnr0P",
        "outputId": "4a76d6ae-e39e-4c72-c415-db871e56d39e"
      },
      "execution_count": 15,
      "outputs": [
        {
          "output_type": "execute_result",
          "data": {
            "text/plain": [
              "'A'"
            ],
            "application/vnd.google.colaboratory.intrinsic+json": {
              "type": "string"
            }
          },
          "metadata": {},
          "execution_count": 15
        }
      ]
    },
    {
      "cell_type": "code",
      "source": [
        "dictionary1[5]='E'\n",
        "print(dictionary1)"
      ],
      "metadata": {
        "colab": {
          "base_uri": "https://localhost:8080/"
        },
        "id": "XFZYvctqob3M",
        "outputId": "cdad445b-edb3-4d88-d64d-b86fbbe36f05"
      },
      "execution_count": 16,
      "outputs": [
        {
          "output_type": "stream",
          "name": "stdout",
          "text": [
            "{1: 'A', 2: 'B', 3: 'C', 4: 'D', 5: 'E'}\n"
          ]
        }
      ]
    },
    {
      "cell_type": "code",
      "source": [
        "del(dictionary1[3])\n",
        "print(dictionary1)"
      ],
      "metadata": {
        "colab": {
          "base_uri": "https://localhost:8080/"
        },
        "id": "y0ZYHG_1oxNF",
        "outputId": "1ee1cfc4-874a-488c-b9f3-63bcd040cde6"
      },
      "execution_count": 19,
      "outputs": [
        {
          "output_type": "stream",
          "name": "stdout",
          "text": [
            "{1: 'A', 2: 'B', 5: 'E'}\n"
          ]
        }
      ]
    },
    {
      "cell_type": "code",
      "source": [
        "phonenum=dict([('Ram',123),('Shyam',456)])\n",
        "print(phonenum)"
      ],
      "metadata": {
        "colab": {
          "base_uri": "https://localhost:8080/"
        },
        "id": "Ka0PopoO4jVv",
        "outputId": "9f9c5455-b966-404e-895e-012e770017f4"
      },
      "execution_count": 27,
      "outputs": [
        {
          "output_type": "stream",
          "name": "stdout",
          "text": [
            "{'Ram': 123, 'Shyam': 456}\n"
          ]
        }
      ]
    },
    {
      "cell_type": "code",
      "source": [
        "phonenum.pop('Ram')"
      ],
      "metadata": {
        "colab": {
          "base_uri": "https://localhost:8080/"
        },
        "id": "I_2aitqd9fqa",
        "outputId": "6b1573e9-df7b-41db-c1b8-f7e12178b63c"
      },
      "execution_count": 23,
      "outputs": [
        {
          "output_type": "execute_result",
          "data": {
            "text/plain": [
              "123"
            ]
          },
          "metadata": {},
          "execution_count": 23
        }
      ]
    },
    {
      "cell_type": "code",
      "source": [
        "#phonenum.clear()\n",
        "#print(phonenum)"
      ],
      "metadata": {
        "id": "uZ7wY9sd9n0p"
      },
      "execution_count": 26,
      "outputs": []
    },
    {
      "cell_type": "code",
      "source": [
        "for i in phonenum:\n",
        "  print(phonenum[i])"
      ],
      "metadata": {
        "colab": {
          "base_uri": "https://localhost:8080/"
        },
        "id": "1eGw8ASF_dPn",
        "outputId": "4c2e6026-cde9-4bfd-e2c3-7764bd2a3b96"
      },
      "execution_count": 32,
      "outputs": [
        {
          "output_type": "stream",
          "name": "stdout",
          "text": [
            "123\n",
            "456\n"
          ]
        }
      ]
    },
    {
      "cell_type": "code",
      "source": [
        "for i in phonenum:\n",
        "  print(i)"
      ],
      "metadata": {
        "colab": {
          "base_uri": "https://localhost:8080/"
        },
        "id": "h6c4KzsMAKp7",
        "outputId": "0c2303d5-7977-4a12-df89-95e91fad3862"
      },
      "execution_count": 33,
      "outputs": [
        {
          "output_type": "stream",
          "name": "stdout",
          "text": [
            "Ram\n",
            "Shyam\n"
          ]
        }
      ]
    },
    {
      "cell_type": "code",
      "source": [
        "print(len(phonenum))"
      ],
      "metadata": {
        "colab": {
          "base_uri": "https://localhost:8080/"
        },
        "id": "iROYkgz7ByU9",
        "outputId": "a577177f-9a36-41a6-abf8-d281499b7cb5"
      },
      "execution_count": 34,
      "outputs": [
        {
          "output_type": "stream",
          "name": "stdout",
          "text": [
            "2\n"
          ]
        }
      ]
    },
    {
      "cell_type": "code",
      "source": [],
      "metadata": {
        "id": "gFZICJJraFi8"
      },
      "execution_count": null,
      "outputs": []
    }
  ]
}