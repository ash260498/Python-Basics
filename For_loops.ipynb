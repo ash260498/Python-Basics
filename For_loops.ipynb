{
  "nbformat": 4,
  "nbformat_minor": 0,
  "metadata": {
    "colab": {
      "provenance": []
    },
    "kernelspec": {
      "name": "python3",
      "display_name": "Python 3"
    },
    "language_info": {
      "name": "python"
    }
  },
  "cells": [
    {
      "cell_type": "code",
      "execution_count": null,
      "metadata": {
        "id": "Ta2LxHlA4a1K"
      },
      "outputs": [],
      "source": [
        "\n",
        "# Print each element of our list of strings using a for loop\n",
        "\n",
        "#Consider a list of strings\n",
        "got_houses = ['Stark', 'Arryn', 'Baratheon', 'Tully', 'Greyjoy', 'Lannister', 'Tyrell', 'Martell', 'Targaryen']"
      ]
    },
    {
      "cell_type": "markdown",
      "source": [],
      "metadata": {
        "id": "CHge6wXTE5hH"
      }
    },
    {
      "cell_type": "code",
      "source": [
        "# A simple for loop to print the houses of GOT universe\n",
        "for house in got_houses[::-1]:\n",
        "  print(f\"House {house}\")"
      ],
      "metadata": {
        "colab": {
          "base_uri": "https://localhost:8080/"
        },
        "id": "sEyIkItIdevd",
        "outputId": "0dee3837-de67-452d-ae91-ff592f364a4e"
      },
      "execution_count": null,
      "outputs": [
        {
          "output_type": "stream",
          "name": "stdout",
          "text": [
            "House Targaryen\n",
            "House Martell\n",
            "House Tyrell\n",
            "House Lannister\n",
            "House Greyjoy\n",
            "House Tully\n",
            "House Baratheon\n",
            "House Arryn\n",
            "House Stark\n"
          ]
        }
      ]
    },
    {
      "cell_type": "code",
      "source": [
        "# Using enumerate function to loop through the elements of a list\n",
        "for number,house in enumerate(got_houses):\n",
        "  print(f\"The house no of house {house} is {number + 1}\")"
      ],
      "metadata": {
        "id": "CRWuO6uJdq5b",
        "outputId": "f8706836-3b33-4813-99b9-86abac8d338c",
        "colab": {
          "base_uri": "https://localhost:8080/"
        }
      },
      "execution_count": null,
      "outputs": [
        {
          "output_type": "stream",
          "name": "stdout",
          "text": [
            "The house no of house Stark is 1\n",
            "The house no of house Arryn is 2\n",
            "The house no of house Baratheon is 3\n",
            "The house no of house Tully is 4\n",
            "The house no of house Greyjoy is 5\n",
            "The house no of house Lannister is 6\n",
            "The house no of house Tyrell is 7\n",
            "The house no of house Martell is 8\n",
            "The house no of house Targaryen is 9\n"
          ]
        }
      ]
    },
    {
      "cell_type": "code",
      "source": [
        "# To print square of number\n",
        "# The list of numbers\n",
        "list_of_numbers = [1, 2, 4, 6, 11, 14, 17, 20]"
      ],
      "metadata": {
        "id": "UQ2M0WHXd7PZ"
      },
      "execution_count": null,
      "outputs": []
    },
    {
      "cell_type": "code",
      "source": [
        "for number in list_of_numbers:\n",
        "  squared_numbers = number **2\n",
        "  print(f\"the square of {number} is {squared_numbers}\")"
      ],
      "metadata": {
        "colab": {
          "base_uri": "https://localhost:8080/"
        },
        "id": "8-MtPdkYelYG",
        "outputId": "f8163837-6d4f-409e-89cb-b0ba6bf7b4ba"
      },
      "execution_count": null,
      "outputs": [
        {
          "output_type": "stream",
          "name": "stdout",
          "text": [
            "the square of 1 is 1\n",
            "the square of 2 is 4\n",
            "the square of 4 is 16\n",
            "the square of 6 is 36\n",
            "the square of 11 is 121\n",
            "the square of 14 is 196\n",
            "the square of 17 is 289\n",
            "the square of 20 is 400\n"
          ]
        }
      ]
    },
    {
      "cell_type": "code",
      "source": [
        "# Imagine a scenario where we not only needed to print these numbers for each iteration but also we need to store these elements somewhere else\n",
        "# Let us first initialize a list where we will be appending the squares in each iteration\n",
        "\n",
        "squared_numbers = []\n",
        "\n",
        "for number in list_of_numbers:\n",
        "  square = number**2\n",
        "  # Use the append method to add the numbers one by one to our list\n",
        "  squared_numbers.append(square)\n",
        "  # print(squared_numbers)\n",
        "\n",
        "print(f\"The list of squared numbers is {squared_numbers}\")"
      ],
      "metadata": {
        "colab": {
          "base_uri": "https://localhost:8080/"
        },
        "id": "gSRCCWqyeLD-",
        "outputId": "7581739b-a2a8-4e2e-9a2f-bd0f5431fcae"
      },
      "execution_count": null,
      "outputs": [
        {
          "output_type": "stream",
          "name": "stdout",
          "text": [
            "The list of squared numbers is [1, 4, 16, 36, 121, 196, 289, 400]\n"
          ]
        }
      ]
    },
    {
      "cell_type": "code",
      "source": [
        "print(list_of_numbers)"
      ],
      "metadata": {
        "colab": {
          "base_uri": "https://localhost:8080/"
        },
        "id": "r6f4oPmpf8yE",
        "outputId": "ca48a21f-2b65-44bd-fdb6-4f9a18e241ec"
      },
      "execution_count": null,
      "outputs": [
        {
          "output_type": "stream",
          "name": "stdout",
          "text": [
            "[1, 2, 4, 6, 11, 14, 17, 20]\n"
          ]
        }
      ]
    },
    {
      "cell_type": "code",
      "source": [
        "# Let us zip the original numbers and squares together and get the dictionary\n",
        "zipped_dict = dict(zip(list_of_numbers,squared_numbers))\n",
        "\n",
        "# Let us print the dictionary where the key is the number and the value is the square of that number\n",
        "print(zipped_dict)"
      ],
      "metadata": {
        "colab": {
          "base_uri": "https://localhost:8080/"
        },
        "id": "yijYMcV_gCZb",
        "outputId": "d9c3e63a-b4bb-475d-f0db-df11b2c33322"
      },
      "execution_count": null,
      "outputs": [
        {
          "output_type": "stream",
          "name": "stdout",
          "text": [
            "{1: 1, 2: 4, 4: 16, 6: 36, 11: 121, 14: 196, 17: 289, 20: 400}\n"
          ]
        }
      ]
    },
    {
      "cell_type": "code",
      "source": [
        "#Now suppose we only want to print the squares of those numbers which are even. Let us see how we can do this"
      ],
      "metadata": {
        "id": "eBMQFqQmgyMk"
      },
      "execution_count": null,
      "outputs": []
    },
    {
      "cell_type": "code",
      "source": [
        "print(list_of_numbers)"
      ],
      "metadata": {
        "colab": {
          "base_uri": "https://localhost:8080/"
        },
        "id": "Hvn94McOg9Wl",
        "outputId": "561a1bef-8c16-4508-8331-c134f5c89cf6"
      },
      "execution_count": null,
      "outputs": [
        {
          "output_type": "stream",
          "name": "stdout",
          "text": [
            "[1, 2, 4, 6, 11, 14, 17, 20]\n"
          ]
        }
      ]
    },
    {
      "cell_type": "code",
      "source": [
        "for number in list_of_numbers:\n",
        "  if number%2 == 0:\n",
        "    squared_number= number**2\n",
        "    print(f\"The square of {number} is {squared_number}\")\n",
        "  else:\n",
        "    print(f\"I am an even number {number}.My master prohibits me from printing the squares of odd numbers. Strange but okay!\")\n"
      ],
      "metadata": {
        "colab": {
          "base_uri": "https://localhost:8080/"
        },
        "id": "kA9K6wWghEIr",
        "outputId": "d7851c51-4381-4ec0-eb27-94f206aaf0ae"
      },
      "execution_count": null,
      "outputs": [
        {
          "output_type": "stream",
          "name": "stdout",
          "text": [
            "I am an even number 1.My master prohibits me from printing the squares of odd numbers. Strange but okay!\n",
            "The square of 2 is 4\n",
            "The square of 4 is 16\n",
            "The square of 6 is 36\n",
            "I am an even number 11.My master prohibits me from printing the squares of odd numbers. Strange but okay!\n",
            "The square of 14 is 196\n",
            "I am an even number 17.My master prohibits me from printing the squares of odd numbers. Strange but okay!\n",
            "The square of 20 is 400\n"
          ]
        }
      ]
    },
    {
      "cell_type": "code",
      "source": [
        "#To print sum of first 10 natural numbers\n",
        "sum =0\n",
        "for i in range(0,11):\n",
        "    sum =sum+ i\n",
        "print(sum)"
      ],
      "metadata": {
        "colab": {
          "base_uri": "https://localhost:8080/"
        },
        "id": "yeCRDjwf4t2Q",
        "outputId": "406ac600-9774-480b-c464-6a66306c045f"
      },
      "execution_count": null,
      "outputs": [
        {
          "output_type": "stream",
          "name": "stdout",
          "text": [
            "55\n"
          ]
        }
      ]
    },
    {
      "cell_type": "code",
      "source": [
        "#to print first 10 even numbers\n",
        "for i in range(0,20,2):\n",
        "\n",
        "  print(i)"
      ],
      "metadata": {
        "id": "Tl09to1Q6jG4"
      },
      "execution_count": null,
      "outputs": []
    },
    {
      "cell_type": "code",
      "source": [
        "# Let us first store the sentence in a string variable\n",
        "heisenberg_quote =  \"I am the one who knocks!\""
      ],
      "metadata": {
        "id": "ESHxhgOebglf"
      },
      "execution_count": null,
      "outputs": []
    },
    {
      "cell_type": "code",
      "source": [
        "#to print all the characters separated by whitespace\n",
        "for char in heisenberg_quote:\n",
        "  print(f\" The character is {char}\")"
      ],
      "metadata": {
        "colab": {
          "base_uri": "https://localhost:8080/"
        },
        "id": "-FfVDx7Eb0KW",
        "outputId": "b7a14950-a899-4b6c-a54b-5b10cddff487"
      },
      "execution_count": null,
      "outputs": [
        {
          "output_type": "stream",
          "name": "stdout",
          "text": [
            " The character is I\n",
            " The character is  \n",
            " The character is a\n",
            " The character is m\n",
            " The character is  \n",
            " The character is t\n",
            " The character is h\n",
            " The character is e\n",
            " The character is  \n",
            " The character is o\n",
            " The character is n\n",
            " The character is e\n",
            " The character is  \n",
            " The character is w\n",
            " The character is h\n",
            " The character is o\n",
            " The character is  \n",
            " The character is k\n",
            " The character is n\n",
            " The character is o\n",
            " The character is c\n",
            " The character is k\n",
            " The character is s\n",
            " The character is !\n"
          ]
        }
      ]
    },
    {
      "cell_type": "code",
      "source": [
        "words_by_walter = heisenberg_quote.split(' ')\n",
        "print(words_by_walter)"
      ],
      "metadata": {
        "colab": {
          "base_uri": "https://localhost:8080/"
        },
        "id": "yayIcBYmcYdl",
        "outputId": "cc645cbe-efb0-432e-be91-d2e567d8f70f"
      },
      "execution_count": null,
      "outputs": [
        {
          "output_type": "stream",
          "name": "stdout",
          "text": [
            "['I', 'am', 'the', 'one', 'who', 'knocks!']\n"
          ]
        }
      ]
    },
    {
      "cell_type": "code",
      "source": [
        "# Now we can print each word by iterating through this list\n",
        "for word in words_by_walter:\n",
        "  if word not in ['I','you']:\n",
        "    print(f\"The word is {word}\")"
      ],
      "metadata": {
        "colab": {
          "base_uri": "https://localhost:8080/"
        },
        "id": "R5keVhnKcgTI",
        "outputId": "381efec2-1104-4ee8-c012-be5908e46856"
      },
      "execution_count": null,
      "outputs": [
        {
          "output_type": "stream",
          "name": "stdout",
          "text": [
            "The word is am\n",
            "The word is the\n",
            "The word is one\n",
            "The word is who\n",
            "The word is knocks!\n"
          ]
        }
      ]
    },
    {
      "cell_type": "code",
      "source": [
        "l=[]\n",
        "for i in l:\n",
        "  print(l)"
      ],
      "metadata": {
        "id": "_qZO51r4jI_K"
      },
      "execution_count": null,
      "outputs": []
    },
    {
      "cell_type": "code",
      "source": [
        "for i in range(2.0):\n",
        "    print(i)"
      ],
      "metadata": {
        "colab": {
          "base_uri": "https://localhost:8080/",
          "height": 182
        },
        "id": "NlY873pxmsWa",
        "outputId": "352ef12a-79eb-4432-cf61-3d7ae20acc15"
      },
      "execution_count": null,
      "outputs": [
        {
          "output_type": "error",
          "ename": "TypeError",
          "evalue": "ignored",
          "traceback": [
            "\u001b[0;31m---------------------------------------------------------------------------\u001b[0m",
            "\u001b[0;31mTypeError\u001b[0m                                 Traceback (most recent call last)",
            "\u001b[0;32m<ipython-input-11-498af3c10287>\u001b[0m in \u001b[0;36m<module>\u001b[0;34m\u001b[0m\n\u001b[0;32m----> 1\u001b[0;31m \u001b[0;32mfor\u001b[0m \u001b[0mi\u001b[0m \u001b[0;32min\u001b[0m \u001b[0mrange\u001b[0m\u001b[0;34m(\u001b[0m\u001b[0;36m2.0\u001b[0m\u001b[0;34m)\u001b[0m\u001b[0;34m:\u001b[0m\u001b[0;34m\u001b[0m\u001b[0;34m\u001b[0m\u001b[0m\n\u001b[0m\u001b[1;32m      2\u001b[0m     \u001b[0mprint\u001b[0m\u001b[0;34m(\u001b[0m\u001b[0mi\u001b[0m\u001b[0;34m)\u001b[0m\u001b[0;34m\u001b[0m\u001b[0;34m\u001b[0m\u001b[0m\n",
            "\u001b[0;31mTypeError\u001b[0m: 'float' object cannot be interpreted as an integer"
          ]
        }
      ]
    },
    {
      "cell_type": "code",
      "source": [
        "a = [0, 1, 2, 3]\n",
        "i = -2\n",
        "for i not in a:\n",
        "    print(i)\n",
        "    i += 1"
      ],
      "metadata": {
        "colab": {
          "base_uri": "https://localhost:8080/",
          "height": 130
        },
        "id": "u-rY6mnQmwRU",
        "outputId": "003157b3-3f53-4725-eac3-ee030bc1c69e"
      },
      "execution_count": null,
      "outputs": [
        {
          "output_type": "error",
          "ename": "SyntaxError",
          "evalue": "ignored",
          "traceback": [
            "\u001b[0;36m  File \u001b[0;32m\"<ipython-input-12-d9d42e4c0a94>\"\u001b[0;36m, line \u001b[0;32m3\u001b[0m\n\u001b[0;31m    for i not in a:\u001b[0m\n\u001b[0m          ^\u001b[0m\n\u001b[0;31mSyntaxError\u001b[0m\u001b[0;31m:\u001b[0m invalid syntax\n"
          ]
        }
      ]
    },
    {
      "cell_type": "code",
      "source": [
        "i = 1\n",
        "while False:\n",
        "    if i%2 == 0:\n",
        "        break\n",
        "    print(i)\n",
        "    i += 2"
      ],
      "metadata": {
        "id": "PlsfAJFIn39w"
      },
      "execution_count": null,
      "outputs": []
    },
    {
      "cell_type": "code",
      "source": [
        "list_of_numbers = [1, 2, 4, 6, 11, 14, 17, 20]"
      ],
      "metadata": {
        "id": "3_Rc8MBwGC7S"
      },
      "execution_count": null,
      "outputs": []
    },
    {
      "cell_type": "code",
      "source": [
        "# Getting the list of squares using list comprehension\n",
        "squared_numbers = [number**2 for number in list_of_numbers]\n",
        "print(squared_numbers)"
      ],
      "metadata": {
        "colab": {
          "base_uri": "https://localhost:8080/"
        },
        "id": "QatAIOU3E7_j",
        "outputId": "2ca10496-c0e5-456a-d0a0-dfed6815f2ed"
      },
      "execution_count": null,
      "outputs": [
        {
          "output_type": "stream",
          "name": "stdout",
          "text": [
            "[1, 4, 16, 36, 121, 196, 289, 400]\n"
          ]
        }
      ]
    },
    {
      "cell_type": "code",
      "source": [
        "# to print squares of even numbers\n",
        "even_squarednum = [number **2 for number in list_of_numbers if number%2 == 0]\n",
        "print(even_squarednum)"
      ],
      "metadata": {
        "colab": {
          "base_uri": "https://localhost:8080/"
        },
        "id": "UoKvieCSHkXh",
        "outputId": "1ca16509-1f47-4ffe-b52c-e832477f01a6"
      },
      "execution_count": null,
      "outputs": [
        {
          "output_type": "stream",
          "name": "stdout",
          "text": [
            "[4, 16, 36, 196, 400]\n"
          ]
        }
      ]
    },
    {
      "cell_type": "code",
      "source": [
        "# to print squares of odd numbers\n",
        "odd_squarednum = [number ** 2 for number in list_of_numbers if number%2 !=0]\n",
        "print(odd_squarednum)"
      ],
      "metadata": {
        "colab": {
          "base_uri": "https://localhost:8080/"
        },
        "id": "IO84Wdo-IT1o",
        "outputId": "28c0dfb5-3b21-42e4-a169-6495eaabcc8d"
      },
      "execution_count": null,
      "outputs": [
        {
          "output_type": "stream",
          "name": "stdout",
          "text": [
            "[1, 121, 289]\n"
          ]
        }
      ]
    },
    {
      "cell_type": "code",
      "source": [
        "for number in list_of_numbers:\n",
        "  if number%2==0:\n",
        "    squared_num= number**2\n",
        "    print(squared_num)\n",
        "\n",
        "  else:\n",
        "    print(f\"the number {number} is odd number\")"
      ],
      "metadata": {
        "colab": {
          "base_uri": "https://localhost:8080/"
        },
        "id": "gTEwuhJCI1cs",
        "outputId": "5fcab008-2ba3-4d7b-a5a8-dd852d39cf00"
      },
      "execution_count": null,
      "outputs": [
        {
          "output_type": "stream",
          "name": "stdout",
          "text": [
            "the number 1 is odd number\n",
            "4\n",
            "16\n",
            "36\n",
            "the number 11 is odd number\n",
            "196\n",
            "the number 17 is odd number\n",
            "400\n"
          ]
        }
      ]
    },
    {
      "cell_type": "code",
      "source": [
        "list_of_num=[1,2,3,4,5,6,7,8]"
      ],
      "metadata": {
        "id": "aVt-G9waOMp9"
      },
      "execution_count": null,
      "outputs": []
    },
    {
      "cell_type": "code",
      "source": [
        "square_num=[]"
      ],
      "metadata": {
        "id": "qRN4rVDTOZpv"
      },
      "execution_count": null,
      "outputs": []
    },
    {
      "cell_type": "code",
      "source": [
        "for num in list_of_num:\n",
        "  square_num.append(num**2)\n",
        "print(square_num)"
      ],
      "metadata": {
        "colab": {
          "base_uri": "https://localhost:8080/"
        },
        "id": "vVN3wjX-OgkU",
        "outputId": "6cbd4c8a-4ce4-403a-9de6-00b10beec5fe"
      },
      "execution_count": null,
      "outputs": [
        {
          "output_type": "stream",
          "name": "stdout",
          "text": [
            "[4, 16, 36, 64]\n"
          ]
        }
      ]
    },
    {
      "cell_type": "code",
      "source": [
        "# we can do the same above task using list comprehension\n",
        "squared_nums=[number**2 for number in list_of_num]\n",
        "print(squared_nums)"
      ],
      "metadata": {
        "colab": {
          "base_uri": "https://localhost:8080/"
        },
        "id": "dGEq94n_O36R",
        "outputId": "8fa2748a-220b-4a89-97a7-b6d4f9fd28a0"
      },
      "execution_count": null,
      "outputs": [
        {
          "output_type": "stream",
          "name": "stdout",
          "text": [
            "[4, 16, 36, 64]\n"
          ]
        }
      ]
    },
    {
      "cell_type": "code",
      "source": [
        "# writing list comprehension using conditional\n",
        "even_squared_num=[number**2 for number in list_of_num if number%2==0]\n",
        "print(even_squared_num)"
      ],
      "metadata": {
        "colab": {
          "base_uri": "https://localhost:8080/"
        },
        "id": "QyxL6QPKPfoo",
        "outputId": "8fda951b-0574-4d5a-f635-6f81c0c3fdf6"
      },
      "execution_count": null,
      "outputs": [
        {
          "output_type": "stream",
          "name": "stdout",
          "text": [
            "[4, 16, 36, 64]\n"
          ]
        }
      ]
    },
    {
      "cell_type": "code",
      "source": [
        "# for odd\n",
        "odd_squared_num=[number**2 for number in list_of_num if number%2!=0]\n",
        "print(odd_squared_num)"
      ],
      "metadata": {
        "colab": {
          "base_uri": "https://localhost:8080/"
        },
        "id": "nc_r7jvuP2kF",
        "outputId": "8dd642d7-6b84-4ebe-b3d0-6ab3218f084e"
      },
      "execution_count": null,
      "outputs": [
        {
          "output_type": "stream",
          "name": "stdout",
          "text": [
            "[1, 9, 25, 49]\n"
          ]
        }
      ]
    },
    {
      "cell_type": "code",
      "source": [
        "heisenberg_quote = \"It ceases to exist without me. No, you clearly don't know who you're talking to,\""
      ],
      "metadata": {
        "id": "dM5_U10zYqVh"
      },
      "execution_count": null,
      "outputs": []
    },
    {
      "cell_type": "code",
      "source": [
        "words_by_walter = heisenberg_quote.split(' ')\n",
        "print(words_by_walter)"
      ],
      "metadata": {
        "colab": {
          "base_uri": "https://localhost:8080/"
        },
        "id": "EgfHeyvEYw-U",
        "outputId": "fbfdbe63-136b-4c92-aac9-a729e2f8156f"
      },
      "execution_count": null,
      "outputs": [
        {
          "output_type": "stream",
          "name": "stdout",
          "text": [
            "['It', 'ceases', 'to', 'exist', 'without', 'me.', 'No,', 'you', 'clearly', \"don't\", 'know', 'who', \"you're\", 'talking', 'to,']\n"
          ]
        }
      ]
    },
    {
      "cell_type": "code",
      "source": [
        "heisenberg_quote.split('.')"
      ],
      "metadata": {
        "colab": {
          "base_uri": "https://localhost:8080/"
        },
        "id": "tdayaLTyY2xT",
        "outputId": "121c9df8-c3c0-432e-be11-a57276229a37"
      },
      "execution_count": null,
      "outputs": [
        {
          "output_type": "execute_result",
          "data": {
            "text/plain": [
              "['It ceases to exist without me',\n",
              " \" No, you clearly don't know who you're talking to,\"]"
            ]
          },
          "metadata": {},
          "execution_count": 19
        }
      ]
    },
    {
      "cell_type": "code",
      "source": [
        "# Let u store the first letter of each word in another list\n",
        "\n",
        "first_letters = []\n",
        "\n",
        "for word in words_by_walter:\n",
        "  first_letters.append(word[0])\n",
        "\n",
        "# Print the first_letters list\n",
        "print(first_letters)"
      ],
      "metadata": {
        "colab": {
          "base_uri": "https://localhost:8080/"
        },
        "id": "8NaMWuU0ZDFx",
        "outputId": "26e6c36e-35e5-4635-c8c2-104429223105"
      },
      "execution_count": null,
      "outputs": [
        {
          "output_type": "stream",
          "name": "stdout",
          "text": [
            "['I', 'c', 't', 'e', 'w', 'm', 'N', 'y', 'c', 'd', 'k', 'w', 'y', 't', 't']\n"
          ]
        }
      ]
    },
    {
      "cell_type": "code",
      "source": [
        "# The same task but now with list comprehension\n",
        "first_letters = [word[0] for word in words_by_walter]\n",
        "print(first_letters)"
      ],
      "metadata": {
        "colab": {
          "base_uri": "https://localhost:8080/"
        },
        "id": "clIUPeVnZIHv",
        "outputId": "0b170f7c-a2d8-4c1c-f69b-e9d7ab805636"
      },
      "execution_count": null,
      "outputs": [
        {
          "output_type": "stream",
          "name": "stdout",
          "text": [
            "['I', 'c', 't', 'e', 'w', 'm', 'N', 'y', 'c', 'd', 'k', 'w', 'y', 't', 't']\n"
          ]
        }
      ]
    },
    {
      "cell_type": "code",
      "source": [
        "# using if and else for list comprehension\n",
        "new_num=[number**2 if number%2==0 else number **3 for number in list_of_num]\n",
        "print(new_num)"
      ],
      "metadata": {
        "colab": {
          "base_uri": "https://localhost:8080/"
        },
        "id": "Y3sIqzsmQPzJ",
        "outputId": "8a1b5d9f-73d1-4bc4-96b2-24e7e233252e"
      },
      "execution_count": null,
      "outputs": [
        {
          "output_type": "stream",
          "name": "stdout",
          "text": [
            "[1, 4, 27, 16, 125, 36, 343, 64]\n"
          ]
        }
      ]
    },
    {
      "cell_type": "markdown",
      "source": [
        "newlist=[]\n",
        "for num1 in range(4):\n",
        "  for num2 in range(3):\n",
        "    newlist.append(num1)\n",
        "print(newlist)"
      ],
      "metadata": {
        "id": "GL7_eGytQ605"
      }
    },
    {
      "cell_type": "code",
      "source": [],
      "metadata": {
        "id": "cprj7E5jSYbz"
      },
      "execution_count": null,
      "outputs": []
    },
    {
      "cell_type": "code",
      "source": [
        "# we can write slighlty in a different manner\n",
        "new_lists=[num1  for num1 in range(4) for num2 in range(3)]\n",
        "print(new_lists)"
      ],
      "metadata": {
        "colab": {
          "base_uri": "https://localhost:8080/"
        },
        "id": "vPyCUNfURdtb",
        "outputId": "1d42f1ea-9d90-49e8-e8e7-26347a805532"
      },
      "execution_count": null,
      "outputs": [
        {
          "output_type": "stream",
          "name": "stdout",
          "text": [
            "[0, 0, 0, 1, 1, 1, 2, 2, 2, 3, 3, 3]\n"
          ]
        }
      ]
    },
    {
      "cell_type": "code",
      "source": [
        "list_of_lists = []\n",
        "\n",
        "for num1 in range(4):\n",
        "  # Append an empty sublist inside the list\n",
        "  list_of_lists.append([])  # [[0]] , list_of_lists[1]\n",
        "  # print(list_of_lists)\n",
        "\n",
        "  for num2 in range(3):\n",
        "    # Append the elements within the sublist\n",
        "    list_of_lists[num1].append(num2)  #list_of_lists[0]\n",
        "\n",
        "print(list_of_lists)"
      ],
      "metadata": {
        "colab": {
          "base_uri": "https://localhost:8080/"
        },
        "id": "3rcW4Mb3S1O0",
        "outputId": "6f034c88-5ce5-4ed9-fc2a-230cd25f1bf3"
      },
      "execution_count": null,
      "outputs": [
        {
          "output_type": "stream",
          "name": "stdout",
          "text": [
            "[[0, 1, 2], [0, 1, 2], [0, 1, 2], [0, 1, 2]]\n"
          ]
        }
      ]
    },
    {
      "cell_type": "code",
      "source": [
        "days=('Monday','Tuesday','Wednesday','Thursday','Friday','Saturday','Sunday')"
      ],
      "metadata": {
        "id": "e_zRyj9PZRiJ"
      },
      "execution_count": null,
      "outputs": []
    },
    {
      "cell_type": "code",
      "source": [
        "tuple(day for day in days)"
      ],
      "metadata": {
        "colab": {
          "base_uri": "https://localhost:8080/"
        },
        "id": "Wh46uFEQZs1Y",
        "outputId": "e1fb95cd-8cb4-419e-8587-cb86c1265102"
      },
      "execution_count": null,
      "outputs": [
        {
          "output_type": "execute_result",
          "data": {
            "text/plain": [
              "('Monday', 'Tuesday', 'Wednesday', 'Thursday', 'Friday', 'Saturday', 'Sunday')"
            ]
          },
          "metadata": {},
          "execution_count": 25
        }
      ]
    },
    {
      "cell_type": "code",
      "source": [
        "days_without_day=tuple(day[:-3]for day in days)\n",
        "print(days_without_day)"
      ],
      "metadata": {
        "colab": {
          "base_uri": "https://localhost:8080/"
        },
        "id": "2Xx07gS8Z3Wt",
        "outputId": "5a7ea2e6-5632-4e6e-ffbb-f6e8cb07af44"
      },
      "execution_count": null,
      "outputs": [
        {
          "output_type": "stream",
          "name": "stdout",
          "text": [
            "('Mon', 'Tues', 'Wednes', 'Thurs', 'Fri', 'Satur', 'Sun')\n"
          ]
        }
      ]
    },
    {
      "cell_type": "code",
      "source": [
        "# list comprehension using set\n",
        "# using for loop\n",
        "first_letters=set()\n",
        "for word in words_by_walter:\n",
        "  first_letters.add(word[0])\n",
        "print(first_letters)\n",
        "\n"
      ],
      "metadata": {
        "colab": {
          "base_uri": "https://localhost:8080/"
        },
        "id": "9OdbGk5taQFd",
        "outputId": "61a87586-a78a-4bb1-b888-2948a14568b1"
      },
      "execution_count": null,
      "outputs": [
        {
          "output_type": "stream",
          "name": "stdout",
          "text": [
            "{'c', 't', 'w', 'm', 'N', 'e', 'y', 'I', 'k', 'd'}\n"
          ]
        }
      ]
    },
    {
      "cell_type": "code",
      "source": [
        "# using set comprehension\n",
        "first_letters={word[0] for word in words_by_walter}\n",
        "print(first_letters)"
      ],
      "metadata": {
        "colab": {
          "base_uri": "https://localhost:8080/"
        },
        "id": "BwJEJNwhhj4i",
        "outputId": "e271ae05-787d-4039-f394-563ffc69b6db"
      },
      "execution_count": null,
      "outputs": [
        {
          "output_type": "stream",
          "name": "stdout",
          "text": [
            "{'c', 't', 'w', 'm', 'N', 'e', 'y', 'I', 'k', 'd'}\n"
          ]
        }
      ]
    },
    {
      "cell_type": "code",
      "source": [
        "country_city_list=[('India','Newdelhi'),('Netherlands','Amsterdam'),('England','London')]\n",
        "country_city_dict=dict(country_city_list)\n",
        "print(country_city_dict)"
      ],
      "metadata": {
        "colab": {
          "base_uri": "https://localhost:8080/"
        },
        "id": "NrG2sdTkh73v",
        "outputId": "eddd9e5b-c792-4d65-e233-9d29e654a2bf"
      },
      "execution_count": null,
      "outputs": [
        {
          "output_type": "stream",
          "name": "stdout",
          "text": [
            "{'India': 'Newdelhi', 'Netherlands': 'Amsterdam', 'England': 'London'}\n"
          ]
        }
      ]
    },
    {
      "cell_type": "code",
      "source": [
        "flipped ={}\n",
        "for country,city in country_city_dict.items():\n",
        "  flipped[city]=country\n",
        "print(flipped)"
      ],
      "metadata": {
        "colab": {
          "base_uri": "https://localhost:8080/"
        },
        "id": "ZGxlLCHViwJD",
        "outputId": "d94644e8-95c8-4577-c704-3d94b8cdead7"
      },
      "execution_count": null,
      "outputs": [
        {
          "output_type": "stream",
          "name": "stdout",
          "text": [
            "{'Newdelhi': 'India', 'Amsterdam': 'Netherlands', 'London': 'England'}\n"
          ]
        }
      ]
    },
    {
      "cell_type": "code",
      "source": [
        "#The dictionary comprehension\n",
        "flipped={city:country for city in country_city_dict.items()}\n",
        "print(flipped)"
      ],
      "metadata": {
        "colab": {
          "base_uri": "https://localhost:8080/"
        },
        "id": "-hGxOostjNCm",
        "outputId": "bbe82a08-7a7f-4fa8-aa16-124a8c66ef55"
      },
      "execution_count": null,
      "outputs": [
        {
          "output_type": "stream",
          "name": "stdout",
          "text": [
            "{('India', 'Newdelhi'): 'England', ('Netherlands', 'Amsterdam'): 'England', ('England', 'London'): 'England'}\n"
          ]
        }
      ]
    },
    {
      "cell_type": "code",
      "source": [
        "x=[i**+1 for i in range(3)]\n",
        "print(x)"
      ],
      "metadata": {
        "colab": {
          "base_uri": "https://localhost:8080/"
        },
        "id": "RaZ6387ckBfZ",
        "outputId": "48f9c3fe-d2d5-4d7f-9151-7bf4a1140b06"
      },
      "execution_count": null,
      "outputs": [
        {
          "output_type": "stream",
          "name": "stdout",
          "text": [
            "[0, 1, 2]\n"
          ]
        }
      ]
    },
    {
      "cell_type": "code",
      "source": [
        "my_string= \"aeiou\"\n",
        "k= [print(i) for i in my_string if i not in \"aeiou\"]\n",
        "print(k)"
      ],
      "metadata": {
        "colab": {
          "base_uri": "https://localhost:8080/"
        },
        "id": "QnSTNFSSkBzw",
        "outputId": "7a23c921-bc6b-4845-a314-c8c5c662b240"
      },
      "execution_count": null,
      "outputs": [
        {
          "output_type": "stream",
          "name": "stdout",
          "text": [
            "[]\n"
          ]
        }
      ]
    },
    {
      "cell_type": "code",
      "source": [
        "[j for i in range(2,8)for j in range(i*2,50,i)]"
      ],
      "metadata": {
        "colab": {
          "base_uri": "https://localhost:8080/"
        },
        "id": "0mnVaVfQkCLf",
        "outputId": "d9bb66a4-c7ec-480e-dd6e-d17b2149162a"
      },
      "execution_count": null,
      "outputs": [
        {
          "output_type": "execute_result",
          "data": {
            "text/plain": [
              "[4,\n",
              " 6,\n",
              " 8,\n",
              " 10,\n",
              " 12,\n",
              " 14,\n",
              " 16,\n",
              " 18,\n",
              " 20,\n",
              " 22,\n",
              " 24,\n",
              " 26,\n",
              " 28,\n",
              " 30,\n",
              " 32,\n",
              " 34,\n",
              " 36,\n",
              " 38,\n",
              " 40,\n",
              " 42,\n",
              " 44,\n",
              " 46,\n",
              " 48,\n",
              " 6,\n",
              " 9,\n",
              " 12,\n",
              " 15,\n",
              " 18,\n",
              " 21,\n",
              " 24,\n",
              " 27,\n",
              " 30,\n",
              " 33,\n",
              " 36,\n",
              " 39,\n",
              " 42,\n",
              " 45,\n",
              " 48,\n",
              " 8,\n",
              " 12,\n",
              " 16,\n",
              " 20,\n",
              " 24,\n",
              " 28,\n",
              " 32,\n",
              " 36,\n",
              " 40,\n",
              " 44,\n",
              " 48,\n",
              " 10,\n",
              " 15,\n",
              " 20,\n",
              " 25,\n",
              " 30,\n",
              " 35,\n",
              " 40,\n",
              " 45,\n",
              " 12,\n",
              " 18,\n",
              " 24,\n",
              " 30,\n",
              " 36,\n",
              " 42,\n",
              " 48,\n",
              " 14,\n",
              " 21,\n",
              " 28,\n",
              " 35,\n",
              " 42,\n",
              " 49]"
            ]
          },
          "metadata": {},
          "execution_count": 43
        }
      ]
    },
    {
      "cell_type": "code",
      "source": [
        "l1=[2,4,6]\n",
        "l2=[-2,-4,-6]\n",
        "for i in zip(l1,l2):\n",
        "  print(i)"
      ],
      "metadata": {
        "colab": {
          "base_uri": "https://localhost:8080/"
        },
        "id": "9S6i1fvukCbf",
        "outputId": "abd443cd-65ae-432e-9dc9-994741af1418"
      },
      "execution_count": null,
      "outputs": [
        {
          "output_type": "stream",
          "name": "stdout",
          "text": [
            "(2, -2)\n",
            "(4, -4)\n",
            "(6, -6)\n"
          ]
        }
      ]
    },
    {
      "cell_type": "code",
      "source": [],
      "metadata": {
        "id": "3LN4y4I9kCol"
      },
      "execution_count": null,
      "outputs": []
    },
    {
      "cell_type": "code",
      "source": [],
      "metadata": {
        "id": "CPPk08qKkCyy"
      },
      "execution_count": null,
      "outputs": []
    }
  ]
}