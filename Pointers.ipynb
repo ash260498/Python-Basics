{
  "nbformat": 4,
  "nbformat_minor": 0,
  "metadata": {
    "colab": {
      "provenance": [],
      "authorship_tag": "ABX9TyOAT4aVvFz+CsFtBAg/Rqzj",
      "include_colab_link": true
    },
    "kernelspec": {
      "name": "python3",
      "display_name": "Python 3"
    },
    "language_info": {
      "name": "python"
    }
  },
  "cells": [
    {
      "cell_type": "markdown",
      "metadata": {
        "id": "view-in-github",
        "colab_type": "text"
      },
      "source": [
        "<a href=\"https://colab.research.google.com/github/ash260498/Python-Basics/blob/main/Pointers.ipynb\" target=\"_parent\"><img src=\"https://colab.research.google.com/assets/colab-badge.svg\" alt=\"Open In Colab\"/></a>"
      ]
    },
    {
      "cell_type": "code",
      "execution_count": 7,
      "metadata": {
        "colab": {
          "base_uri": "https://localhost:8080/"
        },
        "id": "gftaL9BWHZAu",
        "outputId": "7e04dc46-b143-4277-8152-f7ea40f1681c"
      },
      "outputs": [
        {
          "output_type": "stream",
          "name": "stdout",
          "text": [
            "Before num2 value is updated:\n",
            "num1= 11\n",
            "num2= 11\n",
            "num1 points to : 139146270458416\n",
            "num2 points to : 139146270458416\n",
            "\n",
            "After num2 value is updated:\n",
            "num1= 11\n",
            "num2= 22\n",
            "num1 points to : 139146270458416\n",
            "num2 points to : 139146270458768\n"
          ]
        }
      ],
      "source": [
        "num1=11\n",
        "num2=num1\n",
        "print('Before num2 value is updated:')\n",
        "print('num1=',num1)\n",
        "print('num2=',num2)\n",
        "print('num1 points to :',id(num1))\n",
        "print('num2 points to :',id(num2))\n",
        "num2=22\n",
        "print('\\nAfter num2 value is updated:')\n",
        "print('num1=',num1)\n",
        "print('num2=',num2)\n",
        "print('num1 points to :',id(num1))\n",
        "print('num2 points to :',id(num2))"
      ]
    },
    {
      "cell_type": "code",
      "source": [
        "dict1={\n",
        "    'value':11\n",
        "}\n",
        "dict2=dict1\n",
        "print('Before dict2 value is updated:')\n",
        "print('dict1=',dict1)\n",
        "print('dict2=',dict2)\n",
        "print('dict1 points to :',id(dict1))\n",
        "print('dict2 points to :',id(dict2))\n",
        "dict2['value']=22\n",
        "print('\\nAfter dict2 value is updated:')\n",
        "print('dict1=',dict1)\n",
        "print('dict2=',dict2)\n",
        "print('dict1 points to :',id(dict1))\n",
        "print('dict2 points to :',id(dict2))"
      ],
      "metadata": {
        "colab": {
          "base_uri": "https://localhost:8080/"
        },
        "id": "Wwb8GgcQTjba",
        "outputId": "db7a7faf-8b55-4c93-cc6b-6d118a4f88e8"
      },
      "execution_count": 8,
      "outputs": [
        {
          "output_type": "stream",
          "name": "stdout",
          "text": [
            "Before dict2 value is updated:\n",
            "dict1= {'value': 11}\n",
            "dict2= {'value': 11}\n",
            "dict1 points to : 139144999485632\n",
            "dict2 points to : 139144999485632\n",
            "\n",
            "After dict2 value is updated:\n",
            "dict1= {'value': 22}\n",
            "dict2= {'value': 22}\n",
            "dict1 points to : 139144999485632\n",
            "dict2 points to : 139144999485632\n"
          ]
        }
      ]
    }
  ]
}