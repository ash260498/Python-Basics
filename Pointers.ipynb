{
  "nbformat": 4,
  "nbformat_minor": 0,
  "metadata": {
    "colab": {
      "provenance": [],
      "authorship_tag": "ABX9TyOFstIjUt0THIX6oRZ7dC4F",
      "include_colab_link": true
    },
    "kernelspec": {
      "name": "python3",
      "display_name": "Python 3"
    },
    "language_info": {
      "name": "python"
    }
  },
  "cells": [
    {
      "cell_type": "markdown",
      "metadata": {
        "id": "view-in-github",
        "colab_type": "text"
      },
      "source": [
        "<a href=\"https://colab.research.google.com/github/ash260498/Python-Basics/blob/main/Pointers.ipynb\" target=\"_parent\"><img src=\"https://colab.research.google.com/assets/colab-badge.svg\" alt=\"Open In Colab\"/></a>"
      ]
    },
    {
      "cell_type": "code",
      "execution_count": 7,
      "metadata": {
        "colab": {
          "base_uri": "https://localhost:8080/"
        },
        "id": "gftaL9BWHZAu",
        "outputId": "7e04dc46-b143-4277-8152-f7ea40f1681c"
      },
      "outputs": [
        {
          "output_type": "stream",
          "name": "stdout",
          "text": [
            "Before num2 value is updated:\n",
            "num1= 11\n",
            "num2= 11\n",
            "num1 points to : 139146270458416\n",
            "num2 points to : 139146270458416\n",
            "\n",
            "After num2 value is updated:\n",
            "num1= 11\n",
            "num2= 22\n",
            "num1 points to : 139146270458416\n",
            "num2 points to : 139146270458768\n"
          ]
        }
      ],
      "source": [
        "num1=11\n",
        "num2=num1\n",
        "print('Before num2 value is updated:')\n",
        "print('num1=',num1)\n",
        "print('num2=',num2)\n",
        "print('num1 points to :',id(num1))\n",
        "print('num2 points to :',id(num2))\n",
        "num2=22\n",
        "print('\\nAfter num2 value is updated:')\n",
        "print('num1=',num1)\n",
        "print('num2=',num2)\n",
        "print('num1 points to :',id(num1))\n",
        "print('num2 points to :',id(num2))"
      ]
    }
  ]
}