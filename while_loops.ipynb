{
  "nbformat": 4,
  "nbformat_minor": 0,
  "metadata": {
    "colab": {
      "provenance": [],
      "authorship_tag": "ABX9TyMuct1E3WrXVOPK3PqfGzCk",
      "include_colab_link": true
    },
    "kernelspec": {
      "name": "python3",
      "display_name": "Python 3"
    },
    "language_info": {
      "name": "python"
    }
  },
  "cells": [
    {
      "cell_type": "markdown",
      "metadata": {
        "id": "view-in-github",
        "colab_type": "text"
      },
      "source": [
        "<a href=\"https://colab.research.google.com/github/ash260498/Python-Basics/blob/main/while_loops.ipynb\" target=\"_parent\"><img src=\"https://colab.research.google.com/assets/colab-badge.svg\" alt=\"Open In Colab\"/></a>"
      ]
    },
    {
      "cell_type": "code",
      "execution_count": 1,
      "metadata": {
        "colab": {
          "base_uri": "https://localhost:8080/"
        },
        "id": "-gVdfXegUIKP",
        "outputId": "5e934823-d8e0-4fe2-f13f-e8da75c4fb25"
      },
      "outputs": [
        {
          "output_type": "execute_result",
          "data": {
            "text/plain": [
              "complex"
            ]
          },
          "metadata": {},
          "execution_count": 1
        }
      ],
      "source": [
        "a=2+3j\n",
        "type(a)"
      ]
    },
    {
      "cell_type": "markdown",
      "source": [
        "Given an integer n print the sum of numbers from 1 to n"
      ],
      "metadata": {
        "id": "bdKm6pNAGopB"
      }
    },
    {
      "cell_type": "code",
      "source": [
        "n=int(input())\n",
        "count=1\n",
        "sum=0\n",
        "while count<=n:\n",
        "  sum=count+sum\n",
        "  count=count+1\n",
        "print(sum)"
      ],
      "metadata": {
        "colab": {
          "base_uri": "https://localhost:8080/"
        },
        "id": "ASrMlrPrGzKE",
        "outputId": "5e123a62-10ff-4b92-88ca-364446e456d0"
      },
      "execution_count": 2,
      "outputs": [
        {
          "output_type": "stream",
          "name": "stdout",
          "text": [
            "10\n",
            "55\n"
          ]
        }
      ]
    }
  ]
}