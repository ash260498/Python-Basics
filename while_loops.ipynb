{
  "nbformat": 4,
  "nbformat_minor": 0,
  "metadata": {
    "colab": {
      "provenance": [],
      "authorship_tag": "ABX9TyP+1mRgAmOAc3H09/QxzxUS",
      "include_colab_link": true
    },
    "kernelspec": {
      "name": "python3",
      "display_name": "Python 3"
    },
    "language_info": {
      "name": "python"
    }
  },
  "cells": [
    {
      "cell_type": "markdown",
      "metadata": {
        "id": "view-in-github",
        "colab_type": "text"
      },
      "source": [
        "<a href=\"https://colab.research.google.com/github/ash260498/Python-Basics/blob/main/while_loops.ipynb\" target=\"_parent\"><img src=\"https://colab.research.google.com/assets/colab-badge.svg\" alt=\"Open In Colab\"/></a>"
      ]
    },
    {
      "cell_type": "code",
      "execution_count": 1,
      "metadata": {
        "colab": {
          "base_uri": "https://localhost:8080/"
        },
        "id": "-gVdfXegUIKP",
        "outputId": "5e934823-d8e0-4fe2-f13f-e8da75c4fb25"
      },
      "outputs": [
        {
          "output_type": "execute_result",
          "data": {
            "text/plain": [
              "complex"
            ]
          },
          "metadata": {},
          "execution_count": 1
        }
      ],
      "source": [
        "a=2+3j\n",
        "type(a)"
      ]
    },
    {
      "cell_type": "markdown",
      "source": [
        "Given an integer n print the sum of numbers from 1 to n"
      ],
      "metadata": {
        "id": "bdKm6pNAGopB"
      }
    },
    {
      "cell_type": "code",
      "source": [
        "n=int(input())\n",
        "sum=0\n",
        "count=1\n",
        "while count<=n:\n",
        "  sum=sum+count\n",
        "  count=count+1\n",
        "print(sum)"
      ],
      "metadata": {
        "colab": {
          "base_uri": "https://localhost:8080/"
        },
        "id": "ASrMlrPrGzKE",
        "outputId": "ba83ad4b-9998-4527-d6e0-409430deb1e5"
      },
      "execution_count": 8,
      "outputs": [
        {
          "output_type": "stream",
          "name": "stdout",
          "text": [
            "2\n",
            "3\n"
          ]
        }
      ]
    },
    {
      "cell_type": "markdown",
      "source": [
        "Given a number n print sum of all even numbers from 1to n"
      ],
      "metadata": {
        "id": "iER1BRfrIXi6"
      }
    },
    {
      "cell_type": "code",
      "source": [
        "number=int(input())\n",
        "count_even=2\n",
        "sum_even=0\n",
        "while count_even<=number:\n",
        "  if(number%2==0):\n",
        "    sum_even=count_even+ sum_even\n",
        "    count_even=count_even+2\n",
        "print(sum_even)"
      ],
      "metadata": {
        "colab": {
          "base_uri": "https://localhost:8080/"
        },
        "id": "GyPoTVBIIcqo",
        "outputId": "49af2d1d-8d90-4917-d84d-ce0fd17ef685"
      },
      "execution_count": 13,
      "outputs": [
        {
          "output_type": "stream",
          "name": "stdout",
          "text": [
            "6\n",
            "12\n"
          ]
        }
      ]
    },
    {
      "cell_type": "markdown",
      "source": [
        "Check whether the number is prime or not"
      ],
      "metadata": {
        "id": "Z5vl5telMA04"
      }
    },
    {
      "cell_type": "code",
      "source": [
        "check_prime=int(input())\n",
        "d=2\n",
        "flag= False\n",
        "while d<check_prime:\n",
        "  if(check_prime%d==0):\n",
        "    flag=True\n",
        "  d=d+1\n",
        "if flag:\n",
        "  print(\"Not Prime\")\n",
        "else:\n",
        "  print(\"Prime\")\n",
        "\n",
        "\n",
        ""
      ],
      "metadata": {
        "colab": {
          "base_uri": "https://localhost:8080/"
        },
        "id": "w9JV6FacMGLV",
        "outputId": "04758b94-dc25-4d91-c5fd-1815c85781b5"
      },
      "execution_count": 21,
      "outputs": [
        {
          "output_type": "stream",
          "name": "stdout",
          "text": [
            "6\n",
            "Not Prime\n"
          ]
        }
      ]
    },
    {
      "cell_type": "markdown",
      "source": [
        "Print prime number 2 to n\n"
      ],
      "metadata": {
        "id": "rFoLDsquQmju"
      }
    },
    {
      "cell_type": "code",
      "source": [
        "num=int(input())\n",
        "k=2\n",
        "while k<=num:\n",
        "  d=2\n",
        "  flag= False\n",
        "  while d<k:\n",
        "    if(k%d==0):\n",
        "      flag=True\n",
        "    d=d+1\n",
        "  if not flag:\n",
        "    print(k)\n",
        "  k=k+1\n",
        "\n"
      ],
      "metadata": {
        "colab": {
          "base_uri": "https://localhost:8080/"
        },
        "id": "2jucZQgFQyf5",
        "outputId": "8d0b72c9-b0cc-4a33-9354-ec56f0d66492"
      },
      "execution_count": 23,
      "outputs": [
        {
          "output_type": "stream",
          "name": "stdout",
          "text": [
            "8\n",
            "2\n",
            "3\n",
            "5\n",
            "7\n"
          ]
        }
      ]
    },
    {
      "cell_type": "markdown",
      "source": [
        "Given three values - Start Fahrenheit Value (S), End Fahrenheit value (E) and Step Size (W), you need to convert all Fahrenheit values from Start to End at the gap of W, into their corresponding Celsius values and print the table."
      ],
      "metadata": {
        "id": "-R0iTk48uxU2"
      }
    },
    {
      "cell_type": "code",
      "source": [
        "S= int(input())\n",
        "E=int(input())\n",
        "W=int(input())\n",
        "while S<=E:\n",
        "  c=int((S-32)*(5/9))\n",
        "  print(S,c)\n",
        "  S=S+W\n"
      ],
      "metadata": {
        "colab": {
          "base_uri": "https://localhost:8080/"
        },
        "id": "msS4M_uvvkL-",
        "outputId": "16dfd2fc-2861-4547-be13-b79b7c61ccf7"
      },
      "execution_count": 27,
      "outputs": [
        {
          "output_type": "stream",
          "name": "stdout",
          "text": [
            "0\n",
            "100\n",
            "20\n",
            "0 -17\n",
            "20 -6\n",
            "40 4\n",
            "60 15\n",
            "80 26\n",
            "100 37\n"
          ]
        }
      ]
    },
    {
      "cell_type": "markdown",
      "source": [
        "Write a program that performs the tasks of a simple calculator. The program should first take an integer as input and then based on that integer perform the task as given below.\n",
        "1. If the input is 1, then 2 integers are taken from the user and their sum is printed.\n",
        "2. If the input is 2, then 2 integers are taken from the user and their difference(1st number - 2nd number) is printed.\n",
        "3. If the input is 3, then 2 integers are taken from the user and their product is printed.\n",
        "4. If the input is 4, then 2 integers are taken from the user and the quotient obtained (on dividing 1st number by 2nd number) is printed.\n",
        "5. If the input is 5, then 2 integers are taken from the user and their remainder(1st number mod 2nd number) is printed.\n",
        "6. If the input is 6, then the program exits.\n",
        "7. For any other input, then print \"Invalid Operation\".\n",
        "Note: Each answer in next line.\n",
        "Input format:\n",
        "Take integers as input, in accordance to the description of the question.\n",
        "Constraints:\n",
        "The value of integers will always lie between [1,10000].\n",
        "Output format:\n",
        "The output lines must be as prescribed in the description of the question.\n",
        "Sample Input:\n",
        "3\n",
        "1\n",
        "2\n",
        "4\n",
        "4\n",
        "2\n",
        "1\n",
        "3\n",
        "2\n",
        "7\n",
        "6\n",
        "Sample Output:\n",
        "2\n",
        "2\n",
        "5\n",
        "Invalid Operation"
      ],
      "metadata": {
        "id": "FQE8oU25wxuP"
      }
    },
    {
      "cell_type": "code",
      "source": [
        "while True:\n",
        "  choice=int(input())\n",
        "  if choice==1:\n",
        "    a=int(input())\n",
        "    b=int(input())\n",
        "    print(a+b)\n",
        "  elif choice==2:\n",
        "    a=int(input())\n",
        "    b=int(input())\n",
        "    print(a-b)\n",
        "  elif choice==3:\n",
        "    a=int(input())\n",
        "    b=int(input())\n",
        "    print(a*b)\n",
        "  elif choice==4:\n",
        "    a= int(input())\n",
        "    b=int(input())\n",
        "    print(a/b)\n",
        "  elif choice==5:\n",
        "    a= int(input())\n",
        "    b=int(input())\n",
        "    print(a%b)\n",
        "  elif choice==6:\n",
        "    break\n",
        "  else:\n",
        "    print(\"Invalid Operation\")\n",
        "\n",
        "\n"
      ],
      "metadata": {
        "id": "MecdCIua2b4T"
      },
      "execution_count": null,
      "outputs": []
    },
    {
      "cell_type": "markdown",
      "source": [
        "Write a program to generate the reverse of a given number N. Print the corresponding reverse number.\n",
        "Note : If a number has trailing zeros, then its reverse will not include them. For e.g., reverse of 10400 will be 401 instead of 00401"
      ],
      "metadata": {
        "id": "iJcZKONm2mH7"
      }
    },
    {
      "cell_type": "code",
      "source": [
        "number = int(input())\n",
        "reverse=0\n",
        "while number>0:\n",
        "  dig= number%10\n",
        "  reverse= reverse*10 +dig\n",
        "  number=number//10\n",
        "print(reverse)"
      ],
      "metadata": {
        "colab": {
          "base_uri": "https://localhost:8080/"
        },
        "id": "9Cxh-YlaZ20S",
        "outputId": "e53621d4-4641-4e36-8e3e-6bdb0b217fc9"
      },
      "execution_count": 16,
      "outputs": [
        {
          "output_type": "stream",
          "name": "stdout",
          "text": [
            "1009800\n",
            "89001\n"
          ]
        }
      ]
    },
    {
      "cell_type": "code",
      "source": [
        "n = int(input())\n",
        "rev = 0\n",
        "while n > 0:\n",
        "    last_digit = n % 10\n",
        "    if last_digit != 0 or rev != 0:\n",
        "        rev = 10 * rev + last_digit\n",
        "    n //= 10\n",
        "print(rev)"
      ],
      "metadata": {
        "colab": {
          "base_uri": "https://localhost:8080/"
        },
        "id": "eJuzWTUUb0sy",
        "outputId": "768fc36c-1139-4191-d80d-77de819c870a"
      },
      "execution_count": 8,
      "outputs": [
        {
          "output_type": "stream",
          "name": "stdout",
          "text": [
            "3450\n",
            "543\n"
          ]
        }
      ]
    },
    {
      "cell_type": "markdown",
      "source": [
        "Check whether a given number ’n’ is a palindrome number.\n",
        "\n",
        "\n",
        "Palindrome numbers are the numbers that don't change when reversed.\n",
        "\n",
        "\n",
        "Return boolean value true or false."
      ],
      "metadata": {
        "id": "AR9OfWIe-9NG"
      }
    },
    {
      "cell_type": "code",
      "source": [
        "number=int(input())\n",
        "reverse=0\n",
        "temp=number\n",
        "while number>0:\n",
        "  dig=number%10\n",
        "  reverse=10*reverse +dig\n",
        "  number=number//10\n",
        "if temp==reverse:\n",
        "  print(\"True\")\n",
        "else:\n",
        "  print(\"False\")"
      ],
      "metadata": {
        "colab": {
          "base_uri": "https://localhost:8080/"
        },
        "id": "6K_YhLKk_BsF",
        "outputId": "06893968-f72a-40b9-c108-4f746b8ff6ba"
      },
      "execution_count": 3,
      "outputs": [
        {
          "output_type": "stream",
          "name": "stdout",
          "text": [
            "454\n",
            "True\n"
          ]
        }
      ]
    },
    {
      "cell_type": "markdown",
      "source": [
        "Write a program to input an integer 'n' and print the sum of all its even digits and the sum of all its odd digits separately.\n",
        "\n",
        "\n",
        "Digits mean numbers, not places! That is, if the given integer is \"132456\", even digits are 2, 4, and 6, and odd digits are 1, 3, and 5.\n",
        "\n",
        "\n",
        "Example :\n",
        "Input: 'n' = 132456\n",
        "\n",
        "Output: 12 9\n"
      ],
      "metadata": {
        "id": "m8ZqlGDEAwnd"
      }
    },
    {
      "cell_type": "code",
      "source": [
        "n=int(input())\n",
        "even=0\n",
        "odd=0\n",
        "x=0\n",
        "while n>0:\n",
        "  x=n%10\n",
        "  if x%2==0:\n",
        "    even=even+x\n",
        "  else:\n",
        "    odd=odd+x\n",
        "  n=n//10\n",
        "print(even,odd)"
      ],
      "metadata": {
        "colab": {
          "base_uri": "https://localhost:8080/"
        },
        "id": "zW30AOwpA5HE",
        "outputId": "940c50ed-0ccf-4058-a53a-2e2ac248682d"
      },
      "execution_count": 6,
      "outputs": [
        {
          "output_type": "stream",
          "name": "stdout",
          "text": [
            "123\n",
            "2 4\n"
          ]
        }
      ]
    },
    {
      "cell_type": "markdown",
      "source": [
        "Write a program to find the Nth Fibonacci number using loops.\n",
        "Input Format :\n",
        "The first line of each test case contains a real number ‘N’."
      ],
      "metadata": {
        "id": "HoJ7nuDOFF9y"
      }
    },
    {
      "cell_type": "code",
      "source": [
        "n=int(input())\n",
        "a=1\n",
        "b=1\n",
        "c=0\n",
        "i=3\n",
        "while i<=n:\n",
        "  c=a+b\n",
        "  a=b\n",
        "  b=c\n",
        "  i=i+1\n",
        "print(c)"
      ],
      "metadata": {
        "colab": {
          "base_uri": "https://localhost:8080/"
        },
        "id": "FbupnGYIGyjB",
        "outputId": "75e43868-8114-4535-a4d5-a4768be57f4b"
      },
      "execution_count": 16,
      "outputs": [
        {
          "output_type": "stream",
          "name": "stdout",
          "text": [
            "6\n",
            "8\n"
          ]
        }
      ]
    }
  ]
}