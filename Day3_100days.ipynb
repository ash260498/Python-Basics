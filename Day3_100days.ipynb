{
  "nbformat": 4,
  "nbformat_minor": 0,
  "metadata": {
    "colab": {
      "provenance": [],
      "authorship_tag": "ABX9TyOETuRsGtuCwy0cv0EtOJIM",
      "include_colab_link": true
    },
    "kernelspec": {
      "name": "python3",
      "display_name": "Python 3"
    },
    "language_info": {
      "name": "python"
    }
  },
  "cells": [
    {
      "cell_type": "markdown",
      "metadata": {
        "id": "view-in-github",
        "colab_type": "text"
      },
      "source": [
        "<a href=\"https://colab.research.google.com/github/ash260498/Python-Basics/blob/main/Day3_100days.ipynb\" target=\"_parent\"><img src=\"https://colab.research.google.com/assets/colab-badge.svg\" alt=\"Open In Colab\"/></a>"
      ]
    },
    {
      "cell_type": "code",
      "execution_count": 2,
      "metadata": {
        "colab": {
          "base_uri": "https://localhost:8080/"
        },
        "id": "lC7ops0aHCr9",
        "outputId": "dacf0716-75ac-4f15-cca0-5802aea7709c"
      },
      "outputs": [
        {
          "output_type": "stream",
          "name": "stdout",
          "text": [
            "Welcome to the rollercoaster ticket counter!\n",
            "What is your height in cm?124\n",
            "You can ride the rollercoaster\n"
          ]
        }
      ],
      "source": [
        "#if-else statement\n",
        "\n",
        "print(\"Welcome to the rollercoaster ticket counter!\")\n",
        "height=int(input(\"What is your height in cm?\"))\n",
        "if height>=120:\n",
        "  print(\"You can ride the rollercoaster\")\n",
        "else:\n",
        "  print(\"Sorry, you have to grow taller before you can ride.\")"
      ]
    },
    {
      "cell_type": "code",
      "source": [
        "#Check a number is even or odd\n",
        "number=int(input())\n",
        "if(number%2==0):\n",
        "  print(\"This is an even number\")\n",
        "else:\n",
        "  print(\"This is an odd number\")"
      ],
      "metadata": {
        "colab": {
          "base_uri": "https://localhost:8080/"
        },
        "id": "j4XLh96nMwCN",
        "outputId": "3042dc78-e2ef-4a4c-e265-5521b91d2c5d"
      },
      "execution_count": 4,
      "outputs": [
        {
          "output_type": "stream",
          "name": "stdout",
          "text": [
            "1\n",
            "This is an odd number\n"
          ]
        }
      ]
    },
    {
      "cell_type": "code",
      "source": [
        "#nested if\n",
        "print(\"Welcome to the rollercoaster ticket counter!\")\n",
        "height=int(input(\"What is your height in cm?\"))\n",
        "if height>=120:\n",
        "  print(\"You can ride the rollercoaster\")\n",
        "  age=int(input(\"What is your age?\"))\n",
        "  if age<12:\n",
        "    print(\"Please pay $7.\")\n",
        "  else:\n",
        "    print(\"Please pay $12.\")\n",
        "else:\n",
        "  print(\"Sorry, you have to grow taller before you can ride.\")"
      ],
      "metadata": {
        "colab": {
          "base_uri": "https://localhost:8080/"
        },
        "id": "3kPTnQSHN7md",
        "outputId": "75a92228-c4d5-48c0-f07f-76755d455994"
      },
      "execution_count": 1,
      "outputs": [
        {
          "output_type": "stream",
          "name": "stdout",
          "text": [
            "Welcome to the rollercoaster ticket counter!\n",
            "What is your height in cm?123\n",
            "You can ride the rollercoaster\n",
            "What is your age?14\n",
            "Please pay $12.\n"
          ]
        }
      ]
    },
    {
      "cell_type": "code",
      "source": [
        "print(\"Welcome to the rollercoaster ticket counter!\")\n",
        "height=int(input(\"What is your height in cm?\"))\n",
        "if height>=120:\n",
        "  print(\"You can ride the rollercoaster\")\n",
        "  age=int(input(\"What is your age?\"))\n",
        "  if age<12:\n",
        "    print(\"Please pay $5.\")\n",
        "  elif age<=18:\n",
        "    print(\"Please pay $7.\")\n",
        "  else:\n",
        "    print(\"Please pay $12.\")\n",
        "else:\n",
        "  print(\"Sorry, you have to grow taller before you can ride.\")"
      ],
      "metadata": {
        "colab": {
          "base_uri": "https://localhost:8080/"
        },
        "id": "lbNx1CF6dO6G",
        "outputId": "2df7730d-9db7-44c6-9e05-3c13b1205819"
      },
      "execution_count": 3,
      "outputs": [
        {
          "output_type": "stream",
          "name": "stdout",
          "text": [
            "Welcome to the rollercoaster ticket counter!\n",
            "What is your height in cm?123\n",
            "You can ride the rollercoaster\n",
            "What is your age?11\n",
            "Please pay $5.\n"
          ]
        }
      ]
    },
    {
      "cell_type": "code",
      "source": [
        "#bmi calculator\n",
        "height=float(input()) #height in meters\n",
        "weight=int(input()) #weight in kg\n",
        "bmi=weight/(height**2)\n",
        "if bmi<=18.5:\n",
        "  print(f\"Your BMI is {bmi},you are underweight.\")\n",
        "elif bmi<25:\n",
        "  print(f\"Your BMI is {bmi},you have a normal weight.\")\n",
        "elif bmi<30:\n",
        "  print(f\"Your BMI is {bmi},you are slightly overweight.\")\n",
        "elif bmi<35:\n",
        "  print(f\"Your BMI is {bmi},you are obese.\")\n",
        "else:\n",
        "  print(f\"Your BMI is {bmi},you are clinically obese.\")"
      ],
      "metadata": {
        "colab": {
          "base_uri": "https://localhost:8080/"
        },
        "id": "rdsHrxtKeIk3",
        "outputId": "eb9f05a2-9469-4971-d62e-1b532101362e"
      },
      "execution_count": 12,
      "outputs": [
        {
          "output_type": "stream",
          "name": "stdout",
          "text": [
            "1.52\n",
            "54\n",
            "Your BMI is 23.372576177285318,you have a normal weight.\n"
          ]
        }
      ]
    },
    {
      "cell_type": "code",
      "source": [
        "#check an year is leap year\n",
        "year=int(input())\n",
        "if year%4==0:\n",
        "  if year %100==0:\n",
        "    if year %400==0:\n",
        "      print(\"Leap year\")\n",
        "    else:\n",
        "      print(\"Not a leap year\")\n",
        "  else:\n",
        "    print(\"Leap year\")\n",
        "else:\n",
        "  print(\"Not a leap year\")\n",
        "\n"
      ],
      "metadata": {
        "colab": {
          "base_uri": "https://localhost:8080/"
        },
        "id": "QKxrH1WotSQ6",
        "outputId": "5deba2cb-ee57-426e-bbb7-9c8a9fb998b2"
      },
      "execution_count": 13,
      "outputs": [
        {
          "output_type": "stream",
          "name": "stdout",
          "text": [
            "2024\n",
            "Leap year\n"
          ]
        }
      ]
    },
    {
      "cell_type": "code",
      "source": [
        "#multiple ifs\n",
        "print(\"Welcome to the rollercoaster ticket counter!\")\n",
        "height=int(input(\"What is your height in cm?\"))\n",
        "bill=0\n",
        "if height>=120:\n",
        "  print(\"You can ride the rollercoaster\")\n",
        "  age=int(input(\"What is your age?\"))\n",
        "  if age<12:\n",
        "    bill=5\n",
        "    print(\"Child tickets are $5.\")\n",
        "  elif age<=18:\n",
        "    bill=7\n",
        "    print(\"Youth tickets are $7.\")\n",
        "  else:\n",
        "    bill=12\n",
        "    print(\"Adult tickets are $12.\")\n",
        "  wants_photo=input(\"Do you want a photo taken? Y or N.\")\n",
        "  if wants_photo==\"Y\":\n",
        "    bill+=3\n",
        "  print(f\"Your final bill is ${bill}\")\n",
        "else:\n",
        "  print(\"Sorry, you have to grow taller before you can ride.\")"
      ],
      "metadata": {
        "colab": {
          "base_uri": "https://localhost:8080/"
        },
        "id": "zucypkrrFWz2",
        "outputId": "e6ee5a5f-4127-4570-d099-512ea77e9331"
      },
      "execution_count": 16,
      "outputs": [
        {
          "output_type": "stream",
          "name": "stdout",
          "text": [
            "Welcome to the rollercoaster ticket counter!\n",
            "What is your height in cm?120\n",
            "You can ride the rollercoaster\n",
            "What is your age?11\n",
            "Child tickets are $5.\n",
            "Do you want a photo taken? Y or N.Y\n",
            "Your final bill is 8\n"
          ]
        }
      ]
    },
    {
      "cell_type": "code",
      "source": [
        "#pizza price calculator\n",
        "print(\"Thank you for choosing Python Pizza Deliveries!\")\n",
        "size=input() #what size pizza do you want? \"S\",\"M\",or \"L\"\n",
        "add_pepperoni=input() #Do you want pepperoni? \"Y\" or \"N\"\n",
        "extra_cheese=input() #Do you want extra cheese? \"Y\" or \"N\"\n",
        "bill=0\n",
        "if size==\"S\":\n",
        "  bill+=15\n",
        "elif size==\"M\":\n",
        "  bill+=20\n",
        "else:\n",
        "  bill+=25\n",
        "\n",
        "if add_pepperoni==\"Y\":\n",
        "  if size==\"S\":\n",
        "    bill+=2\n",
        "  else:\n",
        "    bill+=3\n",
        "\n",
        "if extra_cheese==\"Y\":\n",
        "  bill+=1\n",
        "\n",
        "print(f\"Your final bill is: ${bill}.\")"
      ],
      "metadata": {
        "colab": {
          "base_uri": "https://localhost:8080/"
        },
        "id": "EPl56k7kLLVn",
        "outputId": "1490b95d-1c32-4eab-a586-f70c7ca7e7d8"
      },
      "execution_count": 17,
      "outputs": [
        {
          "output_type": "stream",
          "name": "stdout",
          "text": [
            "Thank you for choosing Python Pizza Deliveries!\n",
            "L\n",
            "Y\n",
            "Y\n",
            "Your final bill is: $29.\n"
          ]
        }
      ]
    },
    {
      "cell_type": "markdown",
      "source": [
        "You are going to write a program that tests the compatibility between two people.\n",
        "\n",
        "To work out the love score between two people:\n",
        "\n",
        "Take both people's names and check for the number of times the letters in the word TRUE occurs.\n",
        "\n",
        "Then check for the number of times the letters in the word LOVE occurs.\n",
        "\n",
        "Then combine these numbers to make a 2 digit number.\n",
        "\n",
        "For Love Scores less than 10 or greater than 90, the message should be:\n",
        "\n",
        "\"Your score is *x*, you go together like coke and mentos.\"\n",
        "For Love Scores between 40 and 50, the message should be:\n",
        "\n",
        "\"Your score is *y*, you are alright together.\"\n",
        "Otherwise, the message will just be their score. e.g.:\n",
        "\n",
        "\"Your score is *z*.\"\n",
        "e.g.\n",
        "\n",
        "name1 = \"Angela Yu\"\n",
        "name2 = \"Jack Bauer\"\n",
        "T occurs 0 times\n",
        "\n",
        "R occurs 1 time\n",
        "\n",
        "U occurs 2 times\n",
        "\n",
        "E occurs 2 times\n",
        "\n",
        "Total = 5\n",
        "\n",
        "L occurs 1 time\n",
        "\n",
        "O occurs 0 times\n",
        "\n",
        "V occurs 0 times\n",
        "\n",
        "E occurs 2 times\n",
        "\n",
        "Total = 3\n",
        "\n",
        "Love Score = 53\n",
        "\n",
        "Print: \"Your score is 53.\""
      ],
      "metadata": {
        "id": "hylT6F_pzIaq"
      }
    },
    {
      "cell_type": "code",
      "source": [
        "print(\"The Love Calculator is calculating your score...\")\n",
        "name1 = input() # What is your name?\n",
        "name2 = input() # What is their name?\n",
        "# 🚨 Don't change the code above 👆\n",
        "# Write your code below this line 👇\n",
        "combined_names=name1+name2\n",
        "lower_names=combined_names.lower()\n",
        "t=lower_names.count(\"t\")\n",
        "r=lower_names.count(\"r\")\n",
        "u=lower_names.count(\"u\")\n",
        "e=lower_names.count(\"e\")\n",
        "l=lower_names.count(\"l\")\n",
        "o=lower_names.count(\"o\")\n",
        "v=lower_names.count(\"v\")\n",
        "e=lower_names.count(\"e\")\n",
        "first_digit=t+r+u+e\n",
        "last_digit=l+o+v+e\n",
        "score=int(str(first_digit)+str(last_digit))\n",
        "if(score<10) or (score>90):\n",
        "  print(f\"Your score is {score}, you go together like coke and mentos.\")\n",
        "elif(score>=40)and (score<=50):\n",
        "  print(f\"Your score is {score}, you are alright together.\")\n",
        "else:\n",
        "  print(f\"Your score is {score}.\")\n",
        ""
      ],
      "metadata": {
        "id": "UthUFI3rO59h"
      },
      "execution_count": null,
      "outputs": []
    }
  ]
}