{
  "nbformat": 4,
  "nbformat_minor": 0,
  "metadata": {
    "colab": {
      "provenance": [],
      "authorship_tag": "ABX9TyOflXHt1yC35coiEmtX++Ii",
      "include_colab_link": true
    },
    "kernelspec": {
      "name": "python3",
      "display_name": "Python 3"
    },
    "language_info": {
      "name": "python"
    }
  },
  "cells": [
    {
      "cell_type": "markdown",
      "metadata": {
        "id": "view-in-github",
        "colab_type": "text"
      },
      "source": [
        "<a href=\"https://colab.research.google.com/github/ash260498/Python-Basics/blob/main/Day3_100days.ipynb\" target=\"_parent\"><img src=\"https://colab.research.google.com/assets/colab-badge.svg\" alt=\"Open In Colab\"/></a>"
      ]
    },
    {
      "cell_type": "code",
      "execution_count": 2,
      "metadata": {
        "colab": {
          "base_uri": "https://localhost:8080/"
        },
        "id": "lC7ops0aHCr9",
        "outputId": "dacf0716-75ac-4f15-cca0-5802aea7709c"
      },
      "outputs": [
        {
          "output_type": "stream",
          "name": "stdout",
          "text": [
            "Welcome to the rollercoaster ticket counter!\n",
            "What is your height in cm?124\n",
            "You can ride the rollercoaster\n"
          ]
        }
      ],
      "source": [
        "#if-else statement\n",
        "\n",
        "print(\"Welcome to the rollercoaster ticket counter!\")\n",
        "height=int(input(\"What is your height in cm?\"))\n",
        "if height>=120:\n",
        "  print(\"You can ride the rollercoaster\")\n",
        "else:\n",
        "  print(\"Sorry, you have to grow taller before you can ride.\")"
      ]
    },
    {
      "cell_type": "code",
      "source": [
        "#Check a number is even or odd\n",
        "number=int(input())\n",
        "if(number%2==0):\n",
        "  print(\"This is an even number\")\n",
        "else:\n",
        "  print(\"This is an odd number\")"
      ],
      "metadata": {
        "colab": {
          "base_uri": "https://localhost:8080/"
        },
        "id": "j4XLh96nMwCN",
        "outputId": "3042dc78-e2ef-4a4c-e265-5521b91d2c5d"
      },
      "execution_count": 4,
      "outputs": [
        {
          "output_type": "stream",
          "name": "stdout",
          "text": [
            "1\n",
            "This is an odd number\n"
          ]
        }
      ]
    },
    {
      "cell_type": "code",
      "source": [
        "#nested if\n",
        "print(\"Welcome to the rollercoaster ticket counter!\")\n",
        "height=int(input(\"What is your height in cm?\"))\n",
        "if height>=120:\n",
        "  print(\"You can ride the rollercoaster\")\n",
        "  age=int(input(\"What is your age?\"))\n",
        "  if age<12:\n",
        "    print(\"Please pay $7.\")\n",
        "  else:\n",
        "    print(\"Please pay $12.\")\n",
        "else:\n",
        "  print(\"Sorry, you have to grow taller before you can ride.\")"
      ],
      "metadata": {
        "colab": {
          "base_uri": "https://localhost:8080/"
        },
        "id": "3kPTnQSHN7md",
        "outputId": "75a92228-c4d5-48c0-f07f-76755d455994"
      },
      "execution_count": 1,
      "outputs": [
        {
          "output_type": "stream",
          "name": "stdout",
          "text": [
            "Welcome to the rollercoaster ticket counter!\n",
            "What is your height in cm?123\n",
            "You can ride the rollercoaster\n",
            "What is your age?14\n",
            "Please pay $12.\n"
          ]
        }
      ]
    }
  ]
}