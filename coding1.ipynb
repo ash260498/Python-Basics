{
  "nbformat": 4,
  "nbformat_minor": 0,
  "metadata": {
    "colab": {
      "provenance": [],
      "authorship_tag": "ABX9TyO5A820QW4I8uvo1Bd0+nge",
      "include_colab_link": true
    },
    "kernelspec": {
      "name": "python3",
      "display_name": "Python 3"
    },
    "language_info": {
      "name": "python"
    }
  },
  "cells": [
    {
      "cell_type": "markdown",
      "metadata": {
        "id": "view-in-github",
        "colab_type": "text"
      },
      "source": [
        "<a href=\"https://colab.research.google.com/github/ash260498/Python-Basics/blob/main/coding1.ipynb\" target=\"_parent\"><img src=\"https://colab.research.google.com/assets/colab-badge.svg\" alt=\"Open In Colab\"/></a>"
      ]
    },
    {
      "cell_type": "markdown",
      "source": [
        "Given two integer numbers return their product only if the product is equal to or lower than 1000 else return their sum"
      ],
      "metadata": {
        "id": "y7edAEY1wKJx"
      }
    },
    {
      "cell_type": "code",
      "source": [
        "def mul_or_sum(num1,num2):\n",
        "  product = num1*num2\n",
        "\n",
        "  if product <=1000:\n",
        "    return product\n",
        "  else:\n",
        "    return num1+num2\n",
        "\n",
        "result= mul_or_sum(40,30)\n",
        "print(result)"
      ],
      "metadata": {
        "colab": {
          "base_uri": "https://localhost:8080/"
        },
        "id": "Dc7ZKEbUwZrL",
        "outputId": "d1095652-09ce-49b1-b2f0-82685ddf42b0"
      },
      "execution_count": 2,
      "outputs": [
        {
          "output_type": "stream",
          "name": "stdout",
          "text": [
            "70\n"
          ]
        }
      ]
    },
    {
      "cell_type": "markdown",
      "source": [
        "Write a program to iterate the first 10 numbers and in each iteration, pribt the sum of current and previous number\n",
        "Expected output:\n",
        "current num 0         prev num 0         sum:0\n",
        "current num 1         prev num 0         sum:1\n",
        "current num 2         prev num 1         sum:3\n",
        "current num 3         prev num 2         sum:5\n"
      ],
      "metadata": {
        "id": "P9JzimtCxYZv"
      }
    },
    {
      "cell_type": "code",
      "source": [
        "print(\"Priting current and previous number and their sum\")\n",
        "previous_num =0\n",
        "for i in range(1,11):\n",
        "  sum= previous_num+i\n",
        "  print(\"current num\",i,\"Previous num\",previous_num,\"sum\",sum)\n",
        "  previous_num=i"
      ],
      "metadata": {
        "colab": {
          "base_uri": "https://localhost:8080/"
        },
        "id": "w9xbt57fzLwK",
        "outputId": "a222f7d3-6dc2-47c8-e85a-2eec2f49bc7c"
      },
      "execution_count": 4,
      "outputs": [
        {
          "output_type": "stream",
          "name": "stdout",
          "text": [
            "Priting current and previous number and their sum\n",
            "current num 1 Previous num 0 sum 1\n",
            "current num 2 Previous num 1 sum 3\n",
            "current num 3 Previous num 2 sum 5\n",
            "current num 4 Previous num 3 sum 7\n",
            "current num 5 Previous num 4 sum 9\n",
            "current num 6 Previous num 5 sum 11\n",
            "current num 7 Previous num 6 sum 13\n",
            "current num 8 Previous num 7 sum 15\n",
            "current num 9 Previous num 8 sum 17\n",
            "current num 10 Previous num 9 sum 19\n"
          ]
        }
      ]
    },
    {
      "cell_type": "markdown",
      "source": [
        "Write a program to accept a string from the user and display characters that are present at an even index number:\n",
        "str=\"pynative\" o/p= p n t v"
      ],
      "metadata": {
        "id": "S5MUnTcR0LMa"
      }
    },
    {
      "cell_type": "code",
      "source": [
        "word= input('Enter word')\n",
        "print(\"Original string\",word)\n",
        "size= len(word)\n",
        "print()"
      ],
      "metadata": {
        "id": "bSkWi4vh0lM5"
      },
      "execution_count": null,
      "outputs": []
    }
  ]
}