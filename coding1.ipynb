{
  "nbformat": 4,
  "nbformat_minor": 0,
  "metadata": {
    "colab": {
      "provenance": [],
      "authorship_tag": "ABX9TyPilJsWnD+Ri3H+KJQ2c8ye",
      "include_colab_link": true
    },
    "kernelspec": {
      "name": "python3",
      "display_name": "Python 3"
    },
    "language_info": {
      "name": "python"
    }
  },
  "cells": [
    {
      "cell_type": "markdown",
      "metadata": {
        "id": "view-in-github",
        "colab_type": "text"
      },
      "source": [
        "<a href=\"https://colab.research.google.com/github/ash260498/Python-Basics/blob/main/coding1.ipynb\" target=\"_parent\"><img src=\"https://colab.research.google.com/assets/colab-badge.svg\" alt=\"Open In Colab\"/></a>"
      ]
    },
    {
      "cell_type": "markdown",
      "source": [
        "1.Given two integer numbers return their product only if the product is equal to or lower than 1000 else return their sum"
      ],
      "metadata": {
        "id": "y7edAEY1wKJx"
      }
    },
    {
      "cell_type": "code",
      "source": [
        "def mul_or_sum(num1,num2):\n",
        "  product = num1*num2\n",
        "\n",
        "  if product <=1000:\n",
        "    return product\n",
        "  else:\n",
        "    return num1+num2\n",
        "\n",
        "result= mul_or_sum(40,30)\n",
        "print(result)"
      ],
      "metadata": {
        "colab": {
          "base_uri": "https://localhost:8080/"
        },
        "id": "Dc7ZKEbUwZrL",
        "outputId": "d1095652-09ce-49b1-b2f0-82685ddf42b0"
      },
      "execution_count": 2,
      "outputs": [
        {
          "output_type": "stream",
          "name": "stdout",
          "text": [
            "70\n"
          ]
        }
      ]
    },
    {
      "cell_type": "markdown",
      "source": [
        "2.Write a program to iterate the first 10 numbers and in each iteration, pribt the sum of current and previous number\n",
        "Expected output:\n",
        "current num 0         prev num 0         sum:0\n",
        "current num 1         prev num 0         sum:1\n",
        "current num 2         prev num 1         sum:3\n",
        "current num 3         prev num 2         sum:5\n"
      ],
      "metadata": {
        "id": "P9JzimtCxYZv"
      }
    },
    {
      "cell_type": "code",
      "source": [
        "print(\"Priting current and previous number and their sum\")\n",
        "previous_num =0\n",
        "for i in range(1,11):\n",
        "  sum= previous_num+i\n",
        "  print(\"current num\",i,\"Previous num\",previous_num,\"sum\",sum)\n",
        "  previous_num=i"
      ],
      "metadata": {
        "colab": {
          "base_uri": "https://localhost:8080/"
        },
        "id": "w9xbt57fzLwK",
        "outputId": "a222f7d3-6dc2-47c8-e85a-2eec2f49bc7c"
      },
      "execution_count": 4,
      "outputs": [
        {
          "output_type": "stream",
          "name": "stdout",
          "text": [
            "Priting current and previous number and their sum\n",
            "current num 1 Previous num 0 sum 1\n",
            "current num 2 Previous num 1 sum 3\n",
            "current num 3 Previous num 2 sum 5\n",
            "current num 4 Previous num 3 sum 7\n",
            "current num 5 Previous num 4 sum 9\n",
            "current num 6 Previous num 5 sum 11\n",
            "current num 7 Previous num 6 sum 13\n",
            "current num 8 Previous num 7 sum 15\n",
            "current num 9 Previous num 8 sum 17\n",
            "current num 10 Previous num 9 sum 19\n"
          ]
        }
      ]
    },
    {
      "cell_type": "markdown",
      "source": [
        "3.Write a program to accept a string from the user and display characters that are present at an even index number:\n",
        "str=\"pynative\" o/p= p n t v"
      ],
      "metadata": {
        "id": "S5MUnTcR0LMa"
      }
    },
    {
      "cell_type": "code",
      "source": [
        "word= input('Enter word ')\n",
        "print(\"Original string\",word)\n",
        "size= len(word)\n",
        "print(\"Printing only even index integer\")\n",
        "for i in range(0, size-1,2):\n",
        "  print(word[i])"
      ],
      "metadata": {
        "colab": {
          "base_uri": "https://localhost:8080/"
        },
        "id": "bSkWi4vh0lM5",
        "outputId": "79e79fa7-d152-457d-8e8a-7713c3efa14d"
      },
      "execution_count": 7,
      "outputs": [
        {
          "output_type": "stream",
          "name": "stdout",
          "text": [
            "Enter word Aswathi\n",
            "Original string Aswathi\n",
            "Printing only even index integer\n",
            "A\n",
            "w\n",
            "t\n"
          ]
        }
      ]
    },
    {
      "cell_type": "code",
      "source": [
        "word= input(' Enter word ')\n",
        "print(\"Original string:\",word)\n",
        "#using list slicing\n",
        "#convert string to list\n",
        "#pick only even index chars\n",
        "x= list(word)\n",
        "for i in x[0::2]:\n",
        "  print(i)"
      ],
      "metadata": {
        "colab": {
          "base_uri": "https://localhost:8080/"
        },
        "id": "a9y4vqx54o-F",
        "outputId": "871f074e-93ee-41e4-85be-b9d962447fdb"
      },
      "execution_count": 8,
      "outputs": [
        {
          "output_type": "stream",
          "name": "stdout",
          "text": [
            " Enter word Qwerty\n",
            "Original string: Qwerty\n",
            "Q\n",
            "e\n",
            "t\n"
          ]
        }
      ]
    },
    {
      "cell_type": "markdown",
      "source": [
        "4. Write a program to remove characters from a string from zero upto n and return a new string\n",
        "Ex:remove_char(\"pynative\",4) so o/p must be tive"
      ],
      "metadata": {
        "id": "7wueFtZ733Yl"
      }
    },
    {
      "cell_type": "code",
      "source": [
        "def remove_chars(word,n):\n",
        "  print('Original string:',word)\n",
        "  x=word[n:]\n",
        "  return x\n",
        "print(remove_chars(\"python\",4))\n",
        "print(remove_chars(\"Aswathi\",2))"
      ],
      "metadata": {
        "colab": {
          "base_uri": "https://localhost:8080/"
        },
        "id": "qORLxPYj4bxO",
        "outputId": "6c7b5c22-bdc5-4e02-c27e-6df67bfe9079"
      },
      "execution_count": 9,
      "outputs": [
        {
          "output_type": "stream",
          "name": "stdout",
          "text": [
            "Original string: python\n",
            "on\n",
            "Original string: Aswathi\n",
            "wathi\n"
          ]
        }
      ]
    },
    {
      "cell_type": "markdown",
      "source": [
        "5. Write a function to return True if the first number of a given list is same. If numbers are different return false."
      ],
      "metadata": {
        "id": "qYimAiBP74h6"
      }
    },
    {
      "cell_type": "code",
      "source": [
        "def first_last_same(number_list):\n",
        "  print(\"Given list\",number_list)\n",
        "  first_num= number_list[0]\n",
        "  last_num = number_list[-1]\n",
        "  if(first_num==last_num):\n",
        "    return True\n",
        "  else:\n",
        "    return False\n",
        "\n",
        "numbers_x=[10,20,30,40,10]\n",
        "print(\"result\",first_last_same(numbers_x))\n",
        "\n",
        "numbers_y=[30,45,50,65]\n",
        "print(\"result\",first_last_same(numbers_y))"
      ],
      "metadata": {
        "colab": {
          "base_uri": "https://localhost:8080/"
        },
        "id": "Nnw6qiS38Kyj",
        "outputId": "cf1f7639-4870-4c8c-c2f9-07ed13a464c0"
      },
      "execution_count": 12,
      "outputs": [
        {
          "output_type": "stream",
          "name": "stdout",
          "text": [
            "Given list [10, 20, 30, 40, 10]\n",
            "result True\n",
            "Given list [30, 45, 50, 65]\n",
            "result False\n"
          ]
        }
      ]
    },
    {
      "cell_type": "markdown",
      "source": [
        "6. Iterate the given list of numbers and print only those numbers which are divisible by 5\n",
        "given list is[10,20,33,46,55]\n",
        "o/p=10,20,55"
      ],
      "metadata": {
        "id": "TISxzMpa-I9e"
      }
    },
    {
      "cell_type": "code",
      "source": [
        "num_list=[10,20,33,46,55]\n",
        "print(\"Given list:\",num_list)\n",
        "print(\"Divisible by 5\")\n",
        "for num in num_list:\n",
        "  if num % 5==0:\n",
        "    print(num)"
      ],
      "metadata": {
        "colab": {
          "base_uri": "https://localhost:8080/"
        },
        "id": "hBhv0ZfD-eLX",
        "outputId": "fbf9b369-ffc5-4349-ed4b-666980cbb25c"
      },
      "execution_count": 13,
      "outputs": [
        {
          "output_type": "stream",
          "name": "stdout",
          "text": [
            "Given list: [10, 20, 33, 46, 55]\n",
            "Divisible by 5\n",
            "10\n",
            "20\n",
            "55\n"
          ]
        }
      ]
    },
    {
      "cell_type": "code",
      "source": [],
      "metadata": {
        "id": "Y-AOdr00-_D_"
      },
      "execution_count": null,
      "outputs": []
    }
  ]
}