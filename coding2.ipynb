{
  "nbformat": 4,
  "nbformat_minor": 0,
  "metadata": {
    "colab": {
      "provenance": [],
      "authorship_tag": "ABX9TyPLdOwWIKy+QPhLQ4/QtvOS",
      "include_colab_link": true
    },
    "kernelspec": {
      "name": "python3",
      "display_name": "Python 3"
    },
    "language_info": {
      "name": "python"
    }
  },
  "cells": [
    {
      "cell_type": "markdown",
      "metadata": {
        "id": "view-in-github",
        "colab_type": "text"
      },
      "source": [
        "<a href=\"https://colab.research.google.com/github/ash260498/Python-Basics/blob/main/coding2.ipynb\" target=\"_parent\"><img src=\"https://colab.research.google.com/assets/colab-badge.svg\" alt=\"Open In Colab\"/></a>"
      ]
    },
    {
      "cell_type": "markdown",
      "source": [
        "1. Add 2 numbers"
      ],
      "metadata": {
        "id": "ZHrfI2NHXvQo"
      }
    },
    {
      "cell_type": "code",
      "source": [
        "n1= int(input(\"Enter 1st number\\n\"))\n",
        "n2=int(input(\"Enter 2nd number\\n\"))\n",
        "add= n1+n2\n",
        "print(\"The sum is\",add)"
      ],
      "metadata": {
        "colab": {
          "base_uri": "https://localhost:8080/"
        },
        "id": "Vzh6R3VRXzto",
        "outputId": "ac614169-fcdc-4c76-9aaa-f3fd544d22b2"
      },
      "execution_count": 3,
      "outputs": [
        {
          "output_type": "stream",
          "name": "stdout",
          "text": [
            "Enter 1st number\n",
            "13\n",
            "Enter 2nd number\n",
            "16\n",
            "The sum is 29\n"
          ]
        }
      ]
    },
    {
      "cell_type": "markdown",
      "source": [
        "2.Greatest of 3 numbers"
      ],
      "metadata": {
        "id": "zxfecwW2YGNC"
      }
    },
    {
      "cell_type": "code",
      "source": [
        "n1= int(input(\"Enter 1st number\\n\"))\n",
        "n2=int(input(\"Enter 2nd number\\n\"))\n",
        "n3= int(input(\"Enter 3rd number\\n\"))\n",
        "if (n1>=n2 and n1>=n3):\n",
        "  high=n1\n",
        "elif(n2>=n1 and n2>=n3):\n",
        "  high=n2\n",
        "else:\n",
        "  high= n3\n",
        "print(\"The highest of 3 numbers is\",high)\n"
      ],
      "metadata": {
        "colab": {
          "base_uri": "https://localhost:8080/"
        },
        "id": "BUD0L8OuYO9d",
        "outputId": "6a63ce72-0b88-4e9b-85d9-9c30f092d588"
      },
      "execution_count": 11,
      "outputs": [
        {
          "output_type": "stream",
          "name": "stdout",
          "text": [
            "Enter 1st number\n",
            "3\n",
            "Enter 2nd number\n",
            "7\n",
            "Enter 3rd number\n",
            "1\n",
            "The highest of 3 numbers is 7\n"
          ]
        }
      ]
    },
    {
      "cell_type": "markdown",
      "source": [
        "3.check if number is positive, negative,zero"
      ],
      "metadata": {
        "id": "PRS3bQYcaTLr"
      }
    },
    {
      "cell_type": "code",
      "source": [
        "num= int(input(\"Enter a number\"))\n",
        "if(num<0):\n",
        "  print(\"Negative\")\n",
        "elif(num>0):\n",
        "  print(\"Postive\")\n",
        "else:\n",
        "  print(\"zero\")"
      ],
      "metadata": {
        "colab": {
          "base_uri": "https://localhost:8080/"
        },
        "id": "UwVlyr3Eaj3x",
        "outputId": "caf28abd-e21c-4a55-b324-3b4ce2477f3c"
      },
      "execution_count": 14,
      "outputs": [
        {
          "output_type": "stream",
          "name": "stdout",
          "text": [
            "Enter a number-2\n",
            "Negative\n"
          ]
        }
      ]
    },
    {
      "cell_type": "markdown",
      "source": [
        "4. Check the sides of triangle form a valid triangle"
      ],
      "metadata": {
        "id": "vr85TlTpbnp6"
      }
    },
    {
      "cell_type": "code",
      "source": [
        "a=int(input(\"side1\\n\"))\n",
        "b=int(input(\"side2\\n\"))\n",
        "c=int(input(\"side3\\n\"))\n",
        "if(a+b>c and b+c>a and c+a>b):\n",
        "  print(\"The given sides form a valid traingle\")\n",
        "else:\n",
        "  print(\"It is not a valid triangle\")"
      ],
      "metadata": {
        "colab": {
          "base_uri": "https://localhost:8080/"
        },
        "id": "dxRf6ReRbxPi",
        "outputId": "a980a387-f896-4a56-c452-dc2b97bfc849"
      },
      "execution_count": 17,
      "outputs": [
        {
          "output_type": "stream",
          "name": "stdout",
          "text": [
            "side1\n",
            "5\n",
            "side2\n",
            "5\n",
            "side3\n",
            "5\n",
            "The given sides form a valid traingle\n"
          ]
        }
      ]
    },
    {
      "cell_type": "markdown",
      "source": [
        "5. print numbers from 1 to n"
      ],
      "metadata": {
        "id": "QOlXjjHMdBXT"
      }
    },
    {
      "cell_type": "code",
      "source": [
        "n= int(input())\n",
        "for i in range(1,n+1):\n",
        "  print(i)"
      ],
      "metadata": {
        "colab": {
          "base_uri": "https://localhost:8080/"
        },
        "id": "NJ9v23ZTdFjQ",
        "outputId": "416632e6-d39c-4c96-e4c8-9bb786302538"
      },
      "execution_count": 21,
      "outputs": [
        {
          "output_type": "stream",
          "name": "stdout",
          "text": [
            "8\n",
            "1\n",
            "2\n",
            "3\n",
            "4\n",
            "5\n",
            "6\n",
            "7\n",
            "8\n"
          ]
        }
      ]
    },
    {
      "cell_type": "markdown",
      "source": [
        "6. Factorial of n"
      ],
      "metadata": {
        "id": "EZwH5F9mdz1z"
      }
    }
  ]
}