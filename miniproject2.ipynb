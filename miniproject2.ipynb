{
  "nbformat": 4,
  "nbformat_minor": 0,
  "metadata": {
    "colab": {
      "provenance": [],
      "authorship_tag": "ABX9TyPxqCjH9FQjmyg6eq2DAQB/",
      "include_colab_link": true
    },
    "kernelspec": {
      "name": "python3",
      "display_name": "Python 3"
    },
    "language_info": {
      "name": "python"
    }
  },
  "cells": [
    {
      "cell_type": "markdown",
      "metadata": {
        "id": "view-in-github",
        "colab_type": "text"
      },
      "source": [
        "<a href=\"https://colab.research.google.com/github/ash260498/Python-Basics/blob/main/miniproject2.ipynb\" target=\"_parent\"><img src=\"https://colab.research.google.com/assets/colab-badge.svg\" alt=\"Open In Colab\"/></a>"
      ]
    },
    {
      "cell_type": "markdown",
      "source": [
        "Tip Calculator"
      ],
      "metadata": {
        "id": "DYjXPudqfAgJ"
      }
    },
    {
      "cell_type": "markdown",
      "source": [
        "This miniproject is to build tip calculator which divides a restaurant bill based on the following factors\n",
        "It should ask input for the total bill\n",
        "what percentage tip would you like to give? 10 12 or 15?\n",
        "How many people to split the bill?\n",
        "And it should display how much each person has to pay?\n"
      ],
      "metadata": {
        "id": "smXt0NnblUEM"
      }
    },
    {
      "cell_type": "code",
      "source": [
        "print(\"Welcome to the tip calculator.\")\n",
        "totalbill=float(input(\"What was the total bill?\"))\n",
        "tip=float(input(\"What percentage tip would you like to give? 10, 12, or 15?\"))\n",
        "totalperson=float(input(\"How many people to split the bill?\"))\n",
        "including_tip=(tip/100)*totalbill\n",
        "final=round((totalbill+including_tip)/totalperson,2)\n",
        "\n",
        "print(f\"Each person should pay: ${final}\")"
      ],
      "metadata": {
        "colab": {
          "base_uri": "https://localhost:8080/"
        },
        "id": "4PfGfnrzlqu9",
        "outputId": "694be908-2dcd-4a98-fa3e-829b8a129a10"
      },
      "execution_count": 4,
      "outputs": [
        {
          "output_type": "stream",
          "name": "stdout",
          "text": [
            "Welcome to the tip calculator.\n",
            "What was the total bill?124.56\n",
            "What percentage tip would you like to give? 10, 12, or 15?12\n",
            "How many people to split the bill?7\n",
            "Each person should pay: $19.93\n"
          ]
        }
      ]
    }
  ]
}