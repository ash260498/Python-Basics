{
  "nbformat": 4,
  "nbformat_minor": 0,
  "metadata": {
    "colab": {
      "provenance": [],
      "authorship_tag": "ABX9TyN5N2TLGo2XW4QC5T9nTFBN",
      "include_colab_link": true
    },
    "kernelspec": {
      "name": "python3",
      "display_name": "Python 3"
    },
    "language_info": {
      "name": "python"
    }
  },
  "cells": [
    {
      "cell_type": "markdown",
      "metadata": {
        "id": "view-in-github",
        "colab_type": "text"
      },
      "source": [
        "<a href=\"https://colab.research.google.com/github/ash260498/Python-Basics/blob/main/lists.ipynb\" target=\"_parent\"><img src=\"https://colab.research.google.com/assets/colab-badge.svg\" alt=\"Open In Colab\"/></a>"
      ]
    },
    {
      "cell_type": "code",
      "execution_count": 1,
      "metadata": {
        "colab": {
          "base_uri": "https://localhost:8080/"
        },
        "id": "VOG3VyWfIp7r",
        "outputId": "79c84dbc-5e55-4808-e558-134225286837"
      },
      "outputs": [
        {
          "output_type": "stream",
          "name": "stdout",
          "text": [
            "['abcd', 'def', 5]\n"
          ]
        }
      ],
      "source": [
        "li =['abcd', 'def']\n",
        "li.insert(4,5)\n",
        "print(li)"
      ]
    },
    {
      "cell_type": "code",
      "source": [
        "li = ['abcd',5,'def',5]\n",
        "li.remove(5)\n",
        "print(li)"
      ],
      "metadata": {
        "colab": {
          "base_uri": "https://localhost:8080/"
        },
        "id": "MEPvQvFiRBRG",
        "outputId": "b6a6e8d4-f740-4dec-b1ef-6115c69a0870"
      },
      "execution_count": 4,
      "outputs": [
        {
          "output_type": "stream",
          "name": "stdout",
          "text": [
            "['abcd', 'def', 5]\n"
          ]
        }
      ]
    },
    {
      "cell_type": "code",
      "source": [
        "li = [5,2,6,8]\n",
        "li.remove(2)\n",
        "print(li)"
      ],
      "metadata": {
        "colab": {
          "base_uri": "https://localhost:8080/"
        },
        "id": "3710P-LbRakn",
        "outputId": "c64dd11d-6835-44b6-c97a-dc9097776bcd"
      },
      "execution_count": 6,
      "outputs": [
        {
          "output_type": "stream",
          "name": "stdout",
          "text": [
            "[5, 6, 8]\n"
          ]
        }
      ]
    },
    {
      "cell_type": "code",
      "source": [
        "li = [1,2,3,4,5]\n",
        "for i in li[1:4]:\n",
        "    print(i,end= \" \")"
      ],
      "metadata": {
        "colab": {
          "base_uri": "https://localhost:8080/"
        },
        "id": "jHOq10ChTt5a",
        "outputId": "98a1c5c9-d72d-40c3-e990-f4ca8b6a1a82"
      },
      "execution_count": 2,
      "outputs": [
        {
          "output_type": "stream",
          "name": "stdout",
          "text": [
            "2 3 4 "
          ]
        }
      ]
    },
    {
      "cell_type": "code",
      "source": [
        "\n",
        "#taking input from list\n",
        "#line separated\n",
        "n=int(input())\n",
        "li=[]\n",
        "for i in range(n):\n",
        "  curr=int(input())\n",
        "  li.append(curr)\n",
        "print(li)"
      ],
      "metadata": {
        "colab": {
          "base_uri": "https://localhost:8080/"
        },
        "id": "6emvJQJGNsbF",
        "outputId": "51c57e3e-ea6f-44c6-8fc5-c7e38cc11ed5"
      },
      "execution_count": 10,
      "outputs": [
        {
          "output_type": "stream",
          "name": "stdout",
          "text": [
            "2\n",
            "1\n",
            "3\n",
            "[1, 3]\n"
          ]
        }
      ]
    },
    {
      "cell_type": "code",
      "source": [
        "n = int(input())\n",
        "li = []\n",
        "for i in range(n):\n",
        "    li.append(input())\n",
        "print(li)"
      ],
      "metadata": {
        "colab": {
          "base_uri": "https://localhost:8080/"
        },
        "id": "G4UfD93aPT4b",
        "outputId": "f4b679ad-c3ff-41b1-e3f6-1fcd16090a23"
      },
      "execution_count": 6,
      "outputs": [
        {
          "output_type": "stream",
          "name": "stdout",
          "text": [
            "5\n",
            "1\n",
            "2\n",
            "3\n",
            "4\n",
            "5\n",
            "['1', '2', '3', '4', '5']\n"
          ]
        }
      ]
    },
    {
      "cell_type": "code",
      "source": [
        "#space separated inputs\n",
        "li= [int(x) for x in input().split(' ')]\n",
        "print(li)"
      ],
      "metadata": {
        "colab": {
          "base_uri": "https://localhost:8080/"
        },
        "id": "rY8398ntQM5o",
        "outputId": "ac4149e1-e121-4fd7-ab5d-94d7d6fde62e"
      },
      "execution_count": 14,
      "outputs": [
        {
          "output_type": "stream",
          "name": "stdout",
          "text": [
            "1\n",
            "[1]\n"
          ]
        }
      ]
    },
    {
      "cell_type": "code",
      "source": [
        "#sum of array\n",
        "n=int(input())\n",
        "li= [int(x) for x in input().split(' ')]\n",
        "print(li)\n",
        "print(sum(li))"
      ],
      "metadata": {
        "colab": {
          "base_uri": "https://localhost:8080/"
        },
        "id": "yTxHZfUUegQi",
        "outputId": "fd1d1cef-e261-419d-9063-820e260fde26"
      },
      "execution_count": 23,
      "outputs": [
        {
          "output_type": "stream",
          "name": "stdout",
          "text": [
            "4\n",
            "1 2 3 4\n",
            "[1, 2, 3, 4]\n",
            "10\n"
          ]
        }
      ]
    },
    {
      "cell_type": "code",
      "source": [
        "#linear search of element, if element found print index of the element else print -1\n",
        "li= [int(x) for x in input().split()]\n",
        "ele=int(input())\n",
        "isFound= False\n",
        "for i in range(len(li)):\n",
        "  if li[i]==ele:\n",
        "    print(i)\n",
        "    isFound= True\n",
        "    break\n",
        "if isFound==False:\n",
        "    print(-1)\n",
        "\n"
      ],
      "metadata": {
        "colab": {
          "base_uri": "https://localhost:8080/"
        },
        "id": "4aYHSQ_qtX8e",
        "outputId": "f9cb20f9-3809-48a4-cdd6-4f58397cbf48"
      },
      "execution_count": 5,
      "outputs": [
        {
          "output_type": "stream",
          "name": "stdout",
          "text": [
            "1 2 3 4 6\n",
            "4\n",
            "3\n"
          ]
        }
      ]
    },
    {
      "cell_type": "code",
      "source": [
        "#linear search through function\n",
        "def linear_search(li,ele):\n",
        "  for i in range(len(li)):\n",
        "    if li[i]==ele:\n",
        "      return i\n",
        "  return -1\n",
        "\n",
        "li=[1,3,4,5,8]\n",
        "index=linear_search(li,4)\n",
        "print(index)"
      ],
      "metadata": {
        "colab": {
          "base_uri": "https://localhost:8080/"
        },
        "id": "iyzB1Z4anfdk",
        "outputId": "ba9b62c3-3d25-4c3d-8fe9-f6433832d27c"
      },
      "execution_count": 1,
      "outputs": [
        {
          "output_type": "stream",
          "name": "stdout",
          "text": [
            "2\n"
          ]
        }
      ]
    },
    {
      "cell_type": "code",
      "source": [
        "li=[1,2,3,4]\n",
        "li2=li\n",
        "li2=[2,3]\n",
        "li2[0]=1\n",
        "print(li2)"
      ],
      "metadata": {
        "colab": {
          "base_uri": "https://localhost:8080/"
        },
        "id": "5O53iKDErJ5Z",
        "outputId": "3490b5af-ab36-492b-e6f9-6e4ace6a942d"
      },
      "execution_count": 2,
      "outputs": [
        {
          "output_type": "stream",
          "name": "stdout",
          "text": [
            "[1, 3]\n"
          ]
        }
      ]
    },
    {
      "cell_type": "code",
      "source": [
        "#swap list\n",
        "def reverse_li(li):\n",
        "  length=len(li)\n",
        "  for i in range(length//2):\n",
        "    li[i],li[-i-1]=li[-i-1],li[i]\n",
        "\n",
        "li=[1,2,3,4,5,6]\n",
        "reverse_li(li)\n",
        "print(li)"
      ],
      "metadata": {
        "colab": {
          "base_uri": "https://localhost:8080/"
        },
        "id": "xcwcDrq6jmBy",
        "outputId": "6fde1c59-8b50-49e3-e690-fb4b12166f79"
      },
      "execution_count": 1,
      "outputs": [
        {
          "output_type": "stream",
          "name": "stdout",
          "text": [
            "[6, 5, 4, 3, 2, 1]\n"
          ]
        }
      ]
    },
    {
      "cell_type": "markdown",
      "source": [
        "Find Unique\n",
        "Send Feedback\n",
        "You have been given an integer array/list(ARR) of size N. Where N is equal to [2M + 1].\n",
        "Now, in the given array/list, 'M' numbers are present twice and one number is present only once.\n",
        "You need to find and return that number which is unique in the array/list.\n",
        "Note:\n",
        "Unique element is always present in the array/list according to the given condition.\n",
        "Input format :\n",
        "The first line contains an Integer 't' which denotes the number of test cases or queries to be run. Then the test cases follow.\n",
        "\n",
        "First line of each test case or query contains an integer 'N' representing the size of the array/list.\n",
        "\n",
        "Second line contains 'N' single space separated integers representing the elements in the array/list.\n",
        "Output Format :\n",
        "For each test case, print the unique element present in the array.\n",
        "\n",
        "Output for every test case will be printed in a separate line.\n",
        "Constraints :\n",
        "1 <= t <= 10^2\n",
        "0 <= N <= 10^3\n",
        "Time Limit: 1 sec\n",
        "Sample Input 1:\n",
        "1\n",
        "7\n",
        "2 3 1 6 3 6 2\n",
        "Sample Output 1:\n",
        "1"
      ],
      "metadata": {
        "id": "Ei3TNqslmIOP"
      }
    },
    {
      "cell_type": "code",
      "source": [
        "Find Duplicate\n",
        "Send Feedback\n",
        "You have been given an integer array/list(ARR) of size N which contains numbers from 0 to (N - 2). Each number is present at least once. That is, if N = 5, the array/list constitutes values ranging from 0 to 3 and among these, there is a single integer value that is present twice. You need to find and return that duplicate number present in the array.\n",
        "Note :\n",
        "Duplicate number is always present in the given array/list.\n",
        "Input format :\n",
        "The first line contains an Integer 't' which denotes the number of test cases or queries to be run. Then the test cases follow.\n",
        "\n",
        "First line of each test case or query contains an integer 'N' representing the size of the array/list.\n",
        "\n",
        "Second line contains 'N' single space separated integers representing the elements in the array/list.\n",
        "Output Format :\n",
        "For each test case, print the duplicate element in the array/list.\n",
        "\n",
        "Output for every test case will be printed in a separate line.\n",
        "Constraints :\n",
        "1 <= t <= 10^2\n",
        "0 <= N <= 10^3\n",
        "Time Limit: 1 sec\n",
        "Sample Input 1:\n",
        "1\n",
        "9\n",
        "0 7 2 5 4 7 1 3 6\n",
        "Sample Output 1:\n",
        "7\n",
        "Sample Input 2:\n",
        "2\n",
        "5\n",
        "0 2 1 3 1\n",
        "7\n",
        "0 3 1 5 4 3 2\n",
        "Sample Output 2:\n",
        "1\n",
        "3"
      ],
      "metadata": {
        "id": "WvFdSwbbmPtG"
      },
      "execution_count": null,
      "outputs": []
    },
    {
      "cell_type": "code",
      "source": [
        "Intersection of Two Arrays II\n",
        "Send Feedback\n",
        "You have been given two integer arrays/list(ARR1 and ARR2) of size N and M, respectively. You need to print their intersection; An intersection for this problem can be defined when both the arrays/lists contain a particular value or to put it in other words, when there is a common value that exists in both the arrays/lists.\n",
        "Note :\n",
        "Input arrays/lists can contain duplicate elements.\n",
        "\n",
        "The intersection elements printed would be in the order they appear in the first array/list(ARR1)\n",
        "\n",
        "\n",
        "Input format :\n",
        "The first line contains an Integer 't' which denotes the number of test cases or queries to be run. Then the test cases follow.\n",
        "\n",
        "First line of each test case or query contains an integer 'N' representing the size of the first array/list.\n",
        "\n",
        "Second line contains 'N' single space separated integers representing the elements of the first the array/list.\n",
        "\n",
        "Third line contains an integer 'M' representing the size of the second array/list.\n",
        "\n",
        "Fourth line contains 'M' single space separated integers representing the elements of the second array/list.\n",
        "Output format :\n",
        "For each test case, print the intersection elements in a row, separated by a single space.\n",
        "\n",
        "Output for every test case will be printed in a separate line.\n",
        "Constraints :\n",
        "1 <= t <= 10^2\n",
        "0 <= N <= 10^3\n",
        "0 <= M <= 10^3\n",
        "Time Limit: 1 sec\n",
        "Sample Input 1 :\n",
        "2\n",
        "6\n",
        "2 6 8 5 4 3\n",
        "4\n",
        "2 3 4 7\n",
        "2\n",
        "10 10\n",
        "1\n",
        "10\n",
        "Sample Output 1 :\n",
        "2 4 3\n",
        "10\n",
        "Sample Input 2 :\n",
        "1\n",
        "4\n",
        "2 6 1 2\n",
        "5\n",
        "1 2 3 4 2\n",
        "Sample Output 2 :\n",
        "2 1 2"
      ],
      "metadata": {
        "id": "0kccRXjEmUOH"
      },
      "execution_count": null,
      "outputs": []
    },
    {
      "cell_type": "markdown",
      "source": [
        "You have been given an integer array/list(ARR) and a number X. Find and return the total number of pairs in the array/list which sum to X.\n",
        "Note:\n",
        "Given array/list can contain duplicate elements.\n",
        "Input format :\n",
        "The first line contains an Integer 't' which denotes the number of test cases or queries to be run. Then the test cases follow.\n",
        "\n",
        "First line of each test case or query contains an integer 'N' representing the size of the first array/list.\n",
        "\n",
        "Second line contains 'N' single space separated integers representing the elements in the array/list.\n",
        "\n",
        "Third line contains an integer 'X'.\n",
        "Output format :\n",
        "For each test case, print the total number of pairs present in the array/list.\n",
        "\n",
        "Output for every test case will be printed in a separate line.\n",
        "Constraints :\n",
        "1 <= t <= 10^2\n",
        "0 <= N <= 10^3\n",
        "0 <= X <= 10^9\n",
        "Time Limit: 1 sec\n",
        "Sample Input 1:\n",
        "1\n",
        "9\n",
        "1 3 6 2 5 4 3 2 4\n",
        "7\n",
        "Sample Output 1:\n",
        "7\n",
        "Sample Input 2:\n",
        "2\n",
        "9\n",
        "1 3 6 2 5 4 3 2 4\n",
        "12\n",
        "6\n",
        "2 8 10 5 -2 5\n",
        "10\n",
        "Sample Output 2:\n",
        "0\n",
        "2\n",
        "\n",
        "\n",
        " Explanation for Input 2:\n",
        "Since there doesn't exist any pair with sum equal to 12 for the first query, we print 0.\n",
        "\n",
        "For the second query, we have 2 pairs in total that sum up to 10. They are, (2, 8) and (5, 5)."
      ],
      "metadata": {
        "id": "QkukfN-FmaPW"
      }
    },
    {
      "cell_type": "markdown",
      "source": [
        "Triplet Sum\n",
        "Send Feedback\n",
        "You have been given a random integer array/list(ARR) and a number X. Find and return the number of triplets in the array/list which sum to X.\n",
        "Note :\n",
        "Given array/list can contain duplicate elements.\n",
        "Input format :\n",
        "The first line contains an Integer 't' which denotes the number of test cases or queries to be run. Then the test cases follow.\n",
        "\n",
        "First line of each test case or query contains an integer 'N' representing the size of the first array/list.\n",
        "\n",
        "Second line contains 'N' single space separated integers representing the elements in the array/list.\n",
        "\n",
        "Third line contains an integer 'X'.\n",
        "Output format :\n",
        "For each test case, print the total number of triplets present in the array/list.\n",
        "\n",
        "Output for every test case will be printed in a separate line.\n",
        "Constraints :\n",
        "1 <= t <= 50\n",
        "0 <= N <= 10^2\n",
        "0 <= X <= 10^9\n",
        "Time Limit: 1 sec\n",
        "Sample Input 1:\n",
        "1\n",
        "7\n",
        "1 2 3 4 5 6 7\n",
        "12\n",
        "Sample Output 1:\n",
        "5\n",
        "Sample Input 2:\n",
        "2\n",
        "7\n",
        "1 2 3 4 5 6 7\n",
        "19\n",
        "9\n",
        "2 -5 8 -6 0 5 10 11 -3\n",
        "10\n",
        "Sample Output 2:\n",
        "0\n",
        "5\n",
        "\n",
        "\n",
        " Explanation for Input 2:\n",
        "Since there doesn't exist any triplet with sum equal to 19 for the first query, we print 0."
      ],
      "metadata": {
        "id": "Z66CmxFUmefW"
      }
    },
    {
      "cell_type": "markdown",
      "source": [
        "Sort 0 1\n",
        "Send Feedback\n",
        "You have been given an integer array/list(ARR) of size N that contains only integers, 0 and 1. Write a function to sort this array/list. Think of a solution which scans the array/list only once and don't require use of an extra array/list.\n",
        "Note:\n",
        "You need to change in the given array/list itself. Hence, no need to return or print anything.\n",
        "Input format :\n",
        "The first line contains an Integer 't' which denotes the number of test cases or queries to be run. Then the test cases follow.\n",
        "\n",
        "First line of each test case or query contains an integer 'N' representing the size of the array/list.\n",
        "\n",
        "Second line contains 'N' single space separated integers(all 0s and 1s) representing the elements in the array/list.\n",
        "Output format :\n",
        "For each test case, print the sorted array/list elements in a row separated by a single space.\n",
        "\n",
        "Output for every test case will be printed in a separate line.\n",
        "Constraints :\n",
        "1 <= t <= 10^2\n",
        "0 <= N <= 10^5\n",
        "Time Limit: 1 sec\n",
        "Sample Input 1:\n",
        "1\n",
        "7\n",
        "0 1 1 0 1 0 1\n",
        "Sample Output 1:\n",
        "0 0 0 1 1 1 1\n",
        "Sample Input 2:\n",
        "2\n",
        "8\n",
        "1 0 1 1 0 1 0 1\n",
        "5\n",
        "0 1 0 1 0\n",
        "Sample Output 2:\n",
        "0 0 0 1 1 1 1 1\n",
        "0 0 0 1 1"
      ],
      "metadata": {
        "id": "EEV_QodYmie9"
      }
    }
  ]
}