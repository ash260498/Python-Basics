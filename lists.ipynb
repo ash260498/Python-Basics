{
  "nbformat": 4,
  "nbformat_minor": 0,
  "metadata": {
    "colab": {
      "provenance": [],
      "authorship_tag": "ABX9TyO+6qxn4LAw0MUIAVpuF1jh",
      "include_colab_link": true
    },
    "kernelspec": {
      "name": "python3",
      "display_name": "Python 3"
    },
    "language_info": {
      "name": "python"
    }
  },
  "cells": [
    {
      "cell_type": "markdown",
      "metadata": {
        "id": "view-in-github",
        "colab_type": "text"
      },
      "source": [
        "<a href=\"https://colab.research.google.com/github/ash260498/Python-Basics/blob/main/lists.ipynb\" target=\"_parent\"><img src=\"https://colab.research.google.com/assets/colab-badge.svg\" alt=\"Open In Colab\"/></a>"
      ]
    },
    {
      "cell_type": "code",
      "execution_count": 1,
      "metadata": {
        "colab": {
          "base_uri": "https://localhost:8080/"
        },
        "id": "VOG3VyWfIp7r",
        "outputId": "79c84dbc-5e55-4808-e558-134225286837"
      },
      "outputs": [
        {
          "output_type": "stream",
          "name": "stdout",
          "text": [
            "['abcd', 'def', 5]\n"
          ]
        }
      ],
      "source": [
        "li =['abcd', 'def']\n",
        "li.insert(4,5)\n",
        "print(li)"
      ]
    },
    {
      "cell_type": "code",
      "source": [
        "li = ['abcd',5,'def',5]\n",
        "li.remove(5)\n",
        "print(li)"
      ],
      "metadata": {
        "colab": {
          "base_uri": "https://localhost:8080/"
        },
        "id": "MEPvQvFiRBRG",
        "outputId": "b6a6e8d4-f740-4dec-b1ef-6115c69a0870"
      },
      "execution_count": 4,
      "outputs": [
        {
          "output_type": "stream",
          "name": "stdout",
          "text": [
            "['abcd', 'def', 5]\n"
          ]
        }
      ]
    },
    {
      "cell_type": "code",
      "source": [
        "li = [5,2,6,8]\n",
        "li.remove(2)\n",
        "print(li)"
      ],
      "metadata": {
        "colab": {
          "base_uri": "https://localhost:8080/"
        },
        "id": "3710P-LbRakn",
        "outputId": "c64dd11d-6835-44b6-c97a-dc9097776bcd"
      },
      "execution_count": 6,
      "outputs": [
        {
          "output_type": "stream",
          "name": "stdout",
          "text": [
            "[5, 6, 8]\n"
          ]
        }
      ]
    },
    {
      "cell_type": "code",
      "source": [
        "li = [1,2,3,4,5]\n",
        "for i in li[1:4]:\n",
        "    print(i,end= \" \")"
      ],
      "metadata": {
        "colab": {
          "base_uri": "https://localhost:8080/"
        },
        "id": "jHOq10ChTt5a",
        "outputId": "98a1c5c9-d72d-40c3-e990-f4ca8b6a1a82"
      },
      "execution_count": 2,
      "outputs": [
        {
          "output_type": "stream",
          "name": "stdout",
          "text": [
            "2 3 4 "
          ]
        }
      ]
    },
    {
      "cell_type": "code",
      "source": [
        "\n",
        "#taking input from list\n",
        "#line separated\n",
        "n=int(input())\n",
        "li=[]\n",
        "for i in range(n):\n",
        "  curr=int(input())\n",
        "  li.append(curr)\n",
        "print(li)"
      ],
      "metadata": {
        "colab": {
          "base_uri": "https://localhost:8080/"
        },
        "id": "6emvJQJGNsbF",
        "outputId": "51c57e3e-ea6f-44c6-8fc5-c7e38cc11ed5"
      },
      "execution_count": 10,
      "outputs": [
        {
          "output_type": "stream",
          "name": "stdout",
          "text": [
            "2\n",
            "1\n",
            "3\n",
            "[1, 3]\n"
          ]
        }
      ]
    },
    {
      "cell_type": "code",
      "source": [
        "n = int(input())\n",
        "li = []\n",
        "for i in range(n):\n",
        "    li.append(input())\n",
        "print(li)"
      ],
      "metadata": {
        "colab": {
          "base_uri": "https://localhost:8080/"
        },
        "id": "G4UfD93aPT4b",
        "outputId": "f4b679ad-c3ff-41b1-e3f6-1fcd16090a23"
      },
      "execution_count": 6,
      "outputs": [
        {
          "output_type": "stream",
          "name": "stdout",
          "text": [
            "5\n",
            "1\n",
            "2\n",
            "3\n",
            "4\n",
            "5\n",
            "['1', '2', '3', '4', '5']\n"
          ]
        }
      ]
    },
    {
      "cell_type": "code",
      "source": [
        "#space separated inputs\n",
        "li= [int(x) for x in input().split(' ')]\n",
        "print(li)"
      ],
      "metadata": {
        "colab": {
          "base_uri": "https://localhost:8080/"
        },
        "id": "rY8398ntQM5o",
        "outputId": "ac4149e1-e121-4fd7-ab5d-94d7d6fde62e"
      },
      "execution_count": 14,
      "outputs": [
        {
          "output_type": "stream",
          "name": "stdout",
          "text": [
            "1\n",
            "[1]\n"
          ]
        }
      ]
    },
    {
      "cell_type": "code",
      "source": [
        "#sum of array\n",
        "n=int(input())\n",
        "li= [int(x) for x in input().split(' ')]\n",
        "print(li)\n",
        "print(sum(li))"
      ],
      "metadata": {
        "colab": {
          "base_uri": "https://localhost:8080/"
        },
        "id": "yTxHZfUUegQi",
        "outputId": "fd1d1cef-e261-419d-9063-820e260fde26"
      },
      "execution_count": 23,
      "outputs": [
        {
          "output_type": "stream",
          "name": "stdout",
          "text": [
            "4\n",
            "1 2 3 4\n",
            "[1, 2, 3, 4]\n",
            "10\n"
          ]
        }
      ]
    },
    {
      "cell_type": "code",
      "source": [
        "#linear search of element, if element found print index of the element else print -1\n",
        "li= [int(x) for x in input().split()]\n",
        "ele=int(input())\n",
        "isFound= False\n",
        "for i in range(len(li)):\n",
        "  if li[i]==ele:\n",
        "    print(i)\n",
        "    isFound= True\n",
        "    break\n",
        "if isFound==False:\n",
        "    print(-1)\n",
        "\n"
      ],
      "metadata": {
        "colab": {
          "base_uri": "https://localhost:8080/"
        },
        "id": "4aYHSQ_qtX8e",
        "outputId": "f9cb20f9-3809-48a4-cdd6-4f58397cbf48"
      },
      "execution_count": 5,
      "outputs": [
        {
          "output_type": "stream",
          "name": "stdout",
          "text": [
            "1 2 3 4 6\n",
            "4\n",
            "3\n"
          ]
        }
      ]
    }
  ]
}