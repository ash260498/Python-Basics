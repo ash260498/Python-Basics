{
  "nbformat": 4,
  "nbformat_minor": 0,
  "metadata": {
    "colab": {
      "provenance": [],
      "authorship_tag": "ABX9TyPlIVSF9Stzwk9ZdhS231qk",
      "include_colab_link": true
    },
    "kernelspec": {
      "name": "python3",
      "display_name": "Python 3"
    },
    "language_info": {
      "name": "python"
    }
  },
  "cells": [
    {
      "cell_type": "markdown",
      "metadata": {
        "id": "view-in-github",
        "colab_type": "text"
      },
      "source": [
        "<a href=\"https://colab.research.google.com/github/ash260498/Python-Basics/blob/main/Day2_100days.ipynb\" target=\"_parent\"><img src=\"https://colab.research.google.com/assets/colab-badge.svg\" alt=\"Open In Colab\"/></a>"
      ]
    },
    {
      "cell_type": "code",
      "execution_count": 2,
      "metadata": {
        "colab": {
          "base_uri": "https://localhost:8080/"
        },
        "id": "AEn4jsoeIROC",
        "outputId": "dfbe0b6d-7092-416d-a297-7652c75a4ce4"
      },
      "outputs": [
        {
          "output_type": "stream",
          "name": "stdout",
          "text": [
            "H\n",
            "o\n"
          ]
        }
      ],
      "source": [
        "#The method of pulling a particular element from a string is called subsricpting\n",
        "print(\"Hello\"[0])\n",
        "print(\"Hello\"[4])"
      ]
    },
    {
      "cell_type": "code",
      "source": [
        "#write a code to add individual digit of a two digit num playing with type of variables\n",
        "two_digit_number = input()\n",
        "\n",
        "num1=int(two_digit_number[0])\n",
        "num2=int(two_digit_number[1])\n",
        "num3=(num1+num2)\n",
        "print(num3)"
      ],
      "metadata": {
        "colab": {
          "base_uri": "https://localhost:8080/"
        },
        "id": "IwVmRiz8K8Rp",
        "outputId": "50505c61-5c48-4622-f72c-b0a47e37c0a2"
      },
      "execution_count": 6,
      "outputs": [
        {
          "output_type": "stream",
          "name": "stdout",
          "text": [
            "39\n",
            "12\n"
          ]
        }
      ]
    },
    {
      "cell_type": "code",
      "source": [
        "#bmi calculator\n",
        "# 1st input: enter height in meters e.g: 1.65\n",
        "height = float(input())\n",
        "# 2nd input: enter weight in kilograms e.g: 72\n",
        "weight = int(input())\n",
        "# 🚨 Don't change the code above 👆\n",
        "\n",
        "# Write your code below this line 👇\n",
        "bmi=int(weight//(height*height))\n",
        "print(bmi)"
      ],
      "metadata": {
        "colab": {
          "base_uri": "https://localhost:8080/"
        },
        "id": "Zx4XnDSqfESA",
        "outputId": "f228ee27-a7a5-43bc-accf-97c1121671ed"
      },
      "execution_count": 1,
      "outputs": [
        {
          "output_type": "stream",
          "name": "stdout",
          "text": [
            "1.62\n",
            "89\n",
            "33\n"
          ]
        }
      ]
    }
  ]
}