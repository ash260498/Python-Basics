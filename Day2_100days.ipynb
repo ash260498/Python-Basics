{
  "nbformat": 4,
  "nbformat_minor": 0,
  "metadata": {
    "colab": {
      "provenance": [],
      "authorship_tag": "ABX9TyOjw8BSUKxrmFdl2kA6/CZ3",
      "include_colab_link": true
    },
    "kernelspec": {
      "name": "python3",
      "display_name": "Python 3"
    },
    "language_info": {
      "name": "python"
    }
  },
  "cells": [
    {
      "cell_type": "markdown",
      "metadata": {
        "id": "view-in-github",
        "colab_type": "text"
      },
      "source": [
        "<a href=\"https://colab.research.google.com/github/ash260498/Python-Basics/blob/main/Day2_100days.ipynb\" target=\"_parent\"><img src=\"https://colab.research.google.com/assets/colab-badge.svg\" alt=\"Open In Colab\"/></a>"
      ]
    },
    {
      "cell_type": "code",
      "execution_count": null,
      "metadata": {
        "colab": {
          "base_uri": "https://localhost:8080/"
        },
        "id": "AEn4jsoeIROC",
        "outputId": "dfbe0b6d-7092-416d-a297-7652c75a4ce4"
      },
      "outputs": [
        {
          "output_type": "stream",
          "name": "stdout",
          "text": [
            "H\n",
            "o\n"
          ]
        }
      ],
      "source": [
        "#The method of pulling a particular element from a string is called subsricpting\n",
        "print(\"Hello\"[0])\n",
        "print(\"Hello\"[4])"
      ]
    },
    {
      "cell_type": "code",
      "source": [
        "#write a code to add individual digit of a two digit num playing with type of variables\n",
        "two_digit_number = input()\n",
        "\n",
        "num1=int(two_digit_number[0])\n",
        "num2=int(two_digit_number[1])\n",
        "num3=(num1+num2)\n",
        "print(num3)"
      ],
      "metadata": {
        "colab": {
          "base_uri": "https://localhost:8080/"
        },
        "id": "IwVmRiz8K8Rp",
        "outputId": "50505c61-5c48-4622-f72c-b0a47e37c0a2"
      },
      "execution_count": null,
      "outputs": [
        {
          "output_type": "stream",
          "name": "stdout",
          "text": [
            "39\n",
            "12\n"
          ]
        }
      ]
    },
    {
      "cell_type": "code",
      "source": [
        "#bmi calculator\n",
        "# 1st input: enter height in meters e.g: 1.65\n",
        "height = float(input())\n",
        "# 2nd input: enter weight in kilograms e.g: 72\n",
        "weight = int(input())\n",
        "# 🚨 Don't change the code above 👆\n",
        "\n",
        "# Write your code below this line 👇\n",
        "bmi=int(weight//(height*height))\n",
        "print(bmi)"
      ],
      "metadata": {
        "colab": {
          "base_uri": "https://localhost:8080/"
        },
        "id": "Zx4XnDSqfESA",
        "outputId": "f228ee27-a7a5-43bc-accf-97c1121671ed"
      },
      "execution_count": null,
      "outputs": [
        {
          "output_type": "stream",
          "name": "stdout",
          "text": [
            "1.62\n",
            "89\n",
            "33\n"
          ]
        }
      ]
    },
    {
      "cell_type": "code",
      "source": [
        "#modifying numbers\n",
        "print(8/3)"
      ],
      "metadata": {
        "colab": {
          "base_uri": "https://localhost:8080/"
        },
        "id": "GGuh3QT3xF0m",
        "outputId": "04d750fa-1b55-4f17-def8-a283b6abdb5e"
      },
      "execution_count": 1,
      "outputs": [
        {
          "output_type": "stream",
          "name": "stdout",
          "text": [
            "2.6666666666666665\n"
          ]
        }
      ]
    },
    {
      "cell_type": "code",
      "source": [
        "#We are taking the integer value of the number\n",
        "print(int(8/3))"
      ],
      "metadata": {
        "colab": {
          "base_uri": "https://localhost:8080/"
        },
        "id": "On-LX4HkXZZA",
        "outputId": "8f9f4324-318e-4265-db39-2cd9e1711fa0"
      },
      "execution_count": 2,
      "outputs": [
        {
          "output_type": "stream",
          "name": "stdout",
          "text": [
            "2\n"
          ]
        }
      ]
    },
    {
      "cell_type": "code",
      "source": [
        "#In Python we can use round function\n",
        "print(round(8/3))"
      ],
      "metadata": {
        "colab": {
          "base_uri": "https://localhost:8080/"
        },
        "id": "Sliap2wCXr-a",
        "outputId": "89ef6922-9eb4-44d3-ad09-c63fea1d0c7c"
      },
      "execution_count": 3,
      "outputs": [
        {
          "output_type": "stream",
          "name": "stdout",
          "text": [
            "3\n"
          ]
        }
      ]
    },
    {
      "cell_type": "code",
      "source": [
        "#We can specify the number od digits of precision\n",
        "print(round(8/3,3))"
      ],
      "metadata": {
        "colab": {
          "base_uri": "https://localhost:8080/"
        },
        "id": "pASGDtLTX4j8",
        "outputId": "43b8691e-67eb-45ea-de38-05ffebdcaaf5"
      },
      "execution_count": 4,
      "outputs": [
        {
          "output_type": "stream",
          "name": "stdout",
          "text": [
            "2.667\n"
          ]
        }
      ]
    },
    {
      "cell_type": "code",
      "source": [
        "#we can also use floor division\n",
        "print(8//3)"
      ],
      "metadata": {
        "colab": {
          "base_uri": "https://localhost:8080/"
        },
        "id": "AA42SVXRYSxT",
        "outputId": "789897b6-c8da-4349-c289-4317e012272d"
      },
      "execution_count": 5,
      "outputs": [
        {
          "output_type": "stream",
          "name": "stdout",
          "text": [
            "2\n"
          ]
        }
      ]
    },
    {
      "cell_type": "code",
      "source": [
        "#f-string\n",
        "score=0\n",
        "height=1.8\n",
        "isWinning=True\n",
        "print(f\"Your score is {score},your height is {height},you are winning is {isWinning}\")"
      ],
      "metadata": {
        "colab": {
          "base_uri": "https://localhost:8080/"
        },
        "id": "F3FD-s8yY9JH",
        "outputId": "7f6d9ce6-346d-4eaf-f911-497284433df8"
      },
      "execution_count": 6,
      "outputs": [
        {
          "output_type": "stream",
          "name": "stdout",
          "text": [
            "Your score is 0,your height is 1.8,you are winning isTrue\n"
          ]
        }
      ]
    },
    {
      "cell_type": "markdown",
      "source": [
        "Create a program using maths and f-strings that tells us how many weeks we have left, if we live until 90 years old.\n",
        "It will take your current age as the input and output a message with our time left in this format.\n",
        "You have x weeks left.\n",
        "where x is replaced with the actual calculated number of weeks the input age has left until 90\n"
      ],
      "metadata": {
        "id": "tFJ7kuAza0C7"
      }
    },
    {
      "cell_type": "code",
      "source": [
        "age=input()\n",
        "years=90-int(age) #first we are calculating how many years left for them\n",
        "weeks=years*52 #there are 52 weeks in a year\n",
        "print(f\"You have {weeks} left.\")"
      ],
      "metadata": {
        "colab": {
          "base_uri": "https://localhost:8080/"
        },
        "id": "ji6m2vxcbnyx",
        "outputId": "0e213a9d-23df-40d2-ff45-9c1897f77333"
      },
      "execution_count": 7,
      "outputs": [
        {
          "output_type": "stream",
          "name": "stdout",
          "text": [
            "25\n",
            "You have 3380 left.\n"
          ]
        }
      ]
    },
    {
      "cell_type": "code",
      "source": [
        "name=input(\"What is your name?\")\n",
        "print(f\"Hello,{name}\")"
      ],
      "metadata": {
        "colab": {
          "base_uri": "https://localhost:8080/"
        },
        "id": "B6F8wHbhdyfT",
        "outputId": "52e7a339-4a5a-4dfe-e1e1-49a50fa74b16"
      },
      "execution_count": 8,
      "outputs": [
        {
          "output_type": "stream",
          "name": "stdout",
          "text": [
            "What is your name?Ash\n",
            "Hello,Ash\n"
          ]
        }
      ]
    },
    {
      "cell_type": "code",
      "source": [
        "name=input(\"What is your name?\")\n",
        "print(\"Hello,\"+name)"
      ],
      "metadata": {
        "colab": {
          "base_uri": "https://localhost:8080/"
        },
        "id": "JZfQ89zJd-aE",
        "outputId": "3936bf74-8072-414d-a1a0-e601a6682045"
      },
      "execution_count": 9,
      "outputs": [
        {
          "output_type": "stream",
          "name": "stdout",
          "text": [
            "What is your name?Ash\n",
            "Hello,Ash\n"
          ]
        }
      ]
    },
    {
      "cell_type": "code",
      "source": [
        "age=12\n",
        "print(f\"You are {age} years old\")"
      ],
      "metadata": {
        "colab": {
          "base_uri": "https://localhost:8080/"
        },
        "id": "PDAY_2D9eLBR",
        "outputId": "d4b097d0-8f04-403b-eaed-bf91939d8278"
      },
      "execution_count": 10,
      "outputs": [
        {
          "output_type": "stream",
          "name": "stdout",
          "text": [
            "You are 12 years old\n"
          ]
        }
      ]
    }
  ]
}