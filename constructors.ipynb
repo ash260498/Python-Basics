{
  "nbformat": 4,
  "nbformat_minor": 0,
  "metadata": {
    "colab": {
      "provenance": [],
      "authorship_tag": "ABX9TyN7/K2368RIcnMtgAFtgnG3",
      "include_colab_link": true
    },
    "kernelspec": {
      "name": "python3",
      "display_name": "Python 3"
    },
    "language_info": {
      "name": "python"
    }
  },
  "cells": [
    {
      "cell_type": "markdown",
      "metadata": {
        "id": "view-in-github",
        "colab_type": "text"
      },
      "source": [
        "<a href=\"https://colab.research.google.com/github/ash260498/Python-Basics/blob/main/constructors.ipynb\" target=\"_parent\"><img src=\"https://colab.research.google.com/assets/colab-badge.svg\" alt=\"Open In Colab\"/></a>"
      ]
    },
    {
      "cell_type": "code",
      "execution_count": 1,
      "metadata": {
        "colab": {
          "base_uri": "https://localhost:8080/"
        },
        "id": "gftaL9BWHZAu",
        "outputId": "8069bf74-88c1-4b50-cf75-d02ffcee5978"
      },
      "outputs": [
        {
          "output_type": "stream",
          "name": "stdout",
          "text": [
            "Cookie one is green\n",
            "Cookie two is blue\n",
            "\n",
            "Cookie one is now yellow\n",
            "Cookie two is blue\n"
          ]
        }
      ],
      "source": [
        "class cookie:\n",
        "  def __init__(self,color):\n",
        "    self.color=color\n",
        "  def get_color(self):\n",
        "    return self.color\n",
        "  def set_color(self,color):\n",
        "    self.color=color\n",
        "cookie_one=cookie('green')\n",
        "cookie_two=cookie('blue')\n",
        "print('Cookie one is',cookie_one.get_color())\n",
        "print('Cookie two is',cookie_two.get_color())\n",
        "cookie_one.set_color('yellow')\n",
        "print('\\nCookie one is now',cookie_one.get_color())\n",
        "print('Cookie two is',cookie_two.get_color())"
      ]
    }
  ]
}